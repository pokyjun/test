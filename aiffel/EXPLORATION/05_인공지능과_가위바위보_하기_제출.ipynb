{
  "cells": [
    {
      "cell_type": "markdown",
      "id": "cd0f5ca8",
      "metadata": {
        "id": "cd0f5ca8"
      },
      "source": [
        "# 5-2데이터 준비\n",
        "### MNIST 숫자 손글씨 Dataset 불러오기"
      ]
    },
    {
      "cell_type": "code",
      "execution_count": null,
      "id": "6bf4984f",
      "metadata": {
        "id": "6bf4984f",
        "outputId": "f0a9d358-2a55-4eef-d230-c688a5ab8d8b"
      },
      "outputs": [
        {
          "name": "stdout",
          "output_type": "stream",
          "text": [
            "Downloading data from https://storage.googleapis.com/tensorflow/tf-keras-datasets/mnist.npz\n",
            "11493376/11490434 [==============================] - 0s 0us/step\n",
            "11501568/11490434 [==============================] - 0s 0us/step\n",
            "60000\n"
          ]
        }
      ],
      "source": [
        "import tensorflow as tf\n",
        "from tensorflow import keras\n",
        "import numpy as np\n",
        "import matplotlib.pyplot as plt\n",
        "import os\n",
        "\n",
        "mnist = keras.datasets.mnist\n",
        "\n",
        "# MNIST 데이터를 로드. 다운로드하지 않았다면 다운로드까지 자동으로 진행됩니다. \n",
        "(x_train, y_train), (x_test, y_test) = mnist.load_data()   \n",
        "\n",
        "print(len(x_train))  # x_train 배열의 크기를 출력"
      ]
    },
    {
      "cell_type": "markdown",
      "id": "62ad9b43",
      "metadata": {
        "id": "62ad9b43"
      },
      "source": [
        "### 불러온 이미지 하나를 출력해보자 \n",
        "###### MNIST 데이터셋의 X항목은 이미지 데이터를 담은 행렬(matrix)이다.\n",
        "###### x_train[1]은 1번째가 아니라 2번째이다."
      ]
    },
    {
      "cell_type": "code",
      "execution_count": null,
      "id": "2c721ba3",
      "metadata": {
        "id": "2c721ba3",
        "outputId": "24b56bc2-dd13-49a1-d28e-a2ee03dca65e"
      },
      "outputs": [
        {
          "data": {
            "image/png": "[encoded data removed]",
            "text/plain": [
              "<Figure size 432x288 with 1 Axes>"
            ]
          },
          "metadata": {
            "needs_background": "light"
          },
          "output_type": "display_data"
        }
      ],
      "source": [
        "plt.imshow(x_train[1],cmap=plt.cm.binary)  # cmap=plt.cm.binary 색이 바뀜\n",
        "plt.show()"
      ]
    },
    {
      "cell_type": "markdown",
      "id": "3a41fedb",
      "metadata": {
        "id": "3a41fedb"
      },
      "source": [
        "### y도 2번째 값을 확인해보자 "
      ]
    },
    {
      "cell_type": "code",
      "execution_count": null,
      "id": "709c1fda",
      "metadata": {
        "id": "709c1fda",
        "outputId": "750ccd85-9b23-47ff-8ad6-adbba4971aae"
      },
      "outputs": [
        {
          "name": "stdout",
          "output_type": "stream",
          "text": [
            "0\n"
          ]
        }
      ],
      "source": [
        "print(y_train[1])"
      ]
    },
    {
      "cell_type": "markdown",
      "id": "edf6e8e7",
      "metadata": {
        "id": "edf6e8e7"
      },
      "source": [
        "### y항목에는 x항목에 들어있는 이미지에 대응하는 실제 숫자 값이 담겨 있는 것을 확인할 수 있다.\n",
        "###### 또 다른 이미지도 출력해보자"
      ]
    },
    {
      "cell_type": "code",
      "execution_count": null,
      "id": "be0c4a49",
      "metadata": {
        "id": "be0c4a49",
        "outputId": "ba2e3d0e-4270-4dd0-923f-fb900314dc43"
      },
      "outputs": [
        {
          "data": {
            "image/png": "[encoded data removed]",
            "text/plain": [
              "<Figure size 432x288 with 1 Axes>"
            ]
          },
          "metadata": {
            "needs_background": "light"
          },
          "output_type": "display_data"
        },
        {
          "name": "stdout",
          "output_type": "stream",
          "text": [
            "10001 번째 이미지의 숫자는 바로  3 입니다.\n"
          ]
        }
      ],
      "source": [
        "# index에 0에서 59999 사이 숫자를 지정해 보세요.\n",
        "index=10000     \n",
        "plt.imshow(x_train[index],cmap=plt.cm.binary)\n",
        "plt.show()\n",
        "print( (index+1), '번째 이미지의 숫자는 바로 ',  y_train[index], '입니다.')"
      ]
    },
    {
      "cell_type": "code",
      "execution_count": null,
      "id": "adb95953",
      "metadata": {
        "id": "adb95953",
        "outputId": "d168486b-4bdc-4498-be22-016d4f67104c"
      },
      "outputs": [
        {
          "data": {
            "text/plain": [
              "(60000, 28, 28)"
            ]
          },
          "execution_count": 5,
          "metadata": {},
          "output_type": "execute_result"
        }
      ],
      "source": [
        "x_train.shape"
      ]
    },
    {
      "cell_type": "markdown",
      "id": "97c3b640",
      "metadata": {
        "id": "97c3b640"
      },
      "source": [
        "###### 28x28 크기의 숫자 이미지가 60000만장 있다는 뜻"
      ]
    },
    {
      "cell_type": "code",
      "execution_count": null,
      "id": "50d17537",
      "metadata": {
        "id": "50d17537",
        "outputId": "1dedc654-cff6-4e29-b7ee-ed1af94ef553"
      },
      "outputs": [
        {
          "data": {
            "text/plain": [
              "(10000, 28, 28)"
            ]
          },
          "execution_count": 6,
          "metadata": {},
          "output_type": "execute_result"
        }
      ],
      "source": [
        "x_test.shape"
      ]
    },
    {
      "cell_type": "markdown",
      "id": "79d58872",
      "metadata": {
        "id": "79d58872"
      },
      "source": [
        "###### 28x28 크기의 숫자 이미지가 10000만장 있다는 뜻"
      ]
    },
    {
      "cell_type": "markdown",
      "id": "0fa416a9",
      "metadata": {
        "id": "0fa416a9"
      },
      "source": [
        "# 전처리하기\n",
        "###### 이미지의 실제 픽셀값은 0~255값을 가진다 확인해보자"
      ]
    },
    {
      "cell_type": "code",
      "execution_count": null,
      "id": "9de2f3a3",
      "metadata": {
        "id": "9de2f3a3",
        "outputId": "44ac4579-5fae-4e42-9e86-966ea241fab1"
      },
      "outputs": [
        {
          "name": "stdout",
          "output_type": "stream",
          "text": [
            "최소값: 0  최대값: 255\n"
          ]
        }
      ],
      "source": [
        "print('최소값:',np.min(x_train), ' 최대값:',np.max(x_train))"
      ]
    },
    {
      "cell_type": "markdown",
      "id": "a4a6bc73",
      "metadata": {
        "id": "a4a6bc73"
      },
      "source": [
        "## 인공지능 모델을 훈련시키고 사용할 때, 일반적으로 입력은 0~1사이의 값으로 정규화 시켜주는 것이 좋다.\n",
        "#### 각 픽셀값이 0~255 사이 범위에 있으니 데이터들을 255.0으로 나누어주면된다. -> 최솟값이 0, 최댓값이 1에 근접하도록 나오는지 확인해보자"
      ]
    },
    {
      "cell_type": "code",
      "execution_count": null,
      "id": "a8570344",
      "metadata": {
        "id": "a8570344",
        "outputId": "8686b055-679e-4fef-ff78-afdbad53f320"
      },
      "outputs": [
        {
          "name": "stdout",
          "output_type": "stream",
          "text": [
            "최소값: 0.0  최대값: 1.0\n"
          ]
        }
      ],
      "source": [
        "x_train_norm, x_test_norm = x_train / 255.0, x_test / 255.0\n",
        "print('최소값:',np.min(x_train_norm), ' 최대값:',np.max(x_train_norm))"
      ]
    },
    {
      "cell_type": "markdown",
      "id": "70ac161a",
      "metadata": {
        "id": "70ac161a"
      },
      "source": [
        "# 5-3딥러닝 네트워크 설계하기\n",
        "### Sequential Model을 사용해 보자\n",
        "###### 데이터가 모두 준비 되었다면 딥러닝 네트워크를 만들어야한다.\n",
        "###### 텐서플로우 케라스(tf.keras)에서 Sequential API라는 방법을 사용할거임\n",
        "###### Sequential API는 개발의 자유도는 많이 떨어지지만, 매우 간단하게 딥러닝 모델을 만들어낼 수 있는 방법이다\n",
        "###### 이 방법을 통해 미리 정의된 딥러닝 레이어(layer)를 손쉽게 추가할 수 있다.\n",
        "###### 케라스에서 모델을 만드는 방법은  Sequential API 외에도 Functional API를 이용하는 방법, 밑바닥부터 직접 코딩하는 방법 등 여러 방법이 있다. \n",
        "###### 다음의 코드는 tf.keras의 Sequential API를 이용하여 LeNet이라는 딥러닝 네트워크를 설계한 예이다. 8줄밖에 안되는 간단한 코드이지만, 손글씨 숫자 분류기를 구현하는 데는 충분하다."
      ]
    },
    {
      "cell_type": "code",
      "execution_count": null,
      "id": "f6f38cae",
      "metadata": {
        "id": "f6f38cae",
        "outputId": "af6bab19-8f46-485e-a650-846f3ac31705"
      },
      "outputs": [
        {
          "name": "stdout",
          "output_type": "stream",
          "text": [
            "Model에 추가된 Layer 개수:  7\n"
          ]
        }
      ],
      "source": [
        "model=keras.models.Sequential()\n",
        "model.add(keras.layers.Conv2D(16, (3,3), activation='relu', input_shape=(28,28,1)))\n",
        "model.add(keras.layers.MaxPool2D(2,2))\n",
        "model.add(keras.layers.Conv2D(32, (3,3), activation='relu'))\n",
        "model.add(keras.layers.MaxPooling2D((2,2)))\n",
        "model.add(keras.layers.Flatten())\n",
        "model.add(keras.layers.Dense(32, activation='relu'))\n",
        "model.add(keras.layers.Dense(10, activation='softmax'))\n",
        "\n",
        "print('Model에 추가된 Layer 개수: ', len(model.layers))"
      ]
    },
    {
      "cell_type": "markdown",
      "id": "f160abc1",
      "metadata": {
        "id": "f160abc1"
      },
      "source": [
        "![image.png](attachment:image.png)\n",
        "### Conv2D의 첫번째는 3x3의 필터가 16개 있다는 뜻\n",
        "###### Conv2D 레이어의 첫 번째 인자는 사용하는 이미지 특징의 수입니다. 여기서는 16과 32를 사용했습니다. 가장 먼저 16개의 이미지 특징을, 그 뒤에 32개의 이미지 특징씩을 고려하겠다는 뜻입니다. 우리의 숫자 이미지는 사실 매우 단순한 형태의 이미지입니다. 만약 강아지 얼굴 사진이 입력 이미지라면 훨씬 디테일하고 복잡한 영상일 것입니다. 그럴 경우에는 이 특징 숫자를 늘려주는 것을 고려해 볼 수 있습니다.\n",
        "###### Dense 레이어의 첫 번째 인자는 분류기에 사용되는 뉴런의 숫자 입니다. 이 값이 클수록 보다 복잡한 분류기를 만들 수 있습니다. 10개의 숫자가 아닌 알파벳을 구분하고 싶다면, 대문자 26개, 소문자 26개로 총 52개의 클래스를 분류해 내야 합니다. 그래서 32보다 큰 64, 128 등을 고려해 볼 수 있을 것입니다.\n",
        "###### 마지막 Dense 레이어의 뉴런 숫자는 결과적으로 분류해 내야 하는 클래스 수로 지정하면 됩니다. 숫자 인식기에서는 10, 알파벳 인식기에서는 52가 되겠지요."
      ]
    },
    {
      "cell_type": "markdown",
      "id": "30e830ec",
      "metadata": {
        "id": "30e830ec"
      },
      "source": [
        "### 만든 딥러닝 네트워크 모델을 확인해보려면, model.summary()메소드를 이용하면된다."
      ]
    },
    {
      "cell_type": "code",
      "execution_count": null,
      "id": "7024b8e3",
      "metadata": {
        "id": "7024b8e3",
        "outputId": "3cffdd3f-29bd-422d-89a5-f74c08459310"
      },
      "outputs": [
        {
          "name": "stdout",
          "output_type": "stream",
          "text": [
            "Model: \"sequential\"\n",
            "_________________________________________________________________\n",
            "Layer (type)                 Output Shape              Param #   \n",
            "=================================================================\n",
            "conv2d (Conv2D)              (None, 26, 26, 16)        160       \n",
            "_________________________________________________________________\n",
            "max_pooling2d (MaxPooling2D) (None, 13, 13, 16)        0         \n",
            "_________________________________________________________________\n",
            "conv2d_1 (Conv2D)            (None, 11, 11, 32)        4640      \n",
            "_________________________________________________________________\n",
            "max_pooling2d_1 (MaxPooling2 (None, 5, 5, 32)          0         \n",
            "_________________________________________________________________\n",
            "flatten (Flatten)            (None, 800)               0         \n",
            "_________________________________________________________________\n",
            "dense (Dense)                (None, 32)                25632     \n",
            "_________________________________________________________________\n",
            "dense_1 (Dense)              (None, 10)                330       \n",
            "=================================================================\n",
            "Total params: 30,762\n",
            "Trainable params: 30,762\n",
            "Non-trainable params: 0\n",
            "_________________________________________________________________\n"
          ]
        }
      ],
      "source": [
        "model.summary()"
      ]
    },
    {
      "cell_type": "markdown",
      "id": "fa303253",
      "metadata": {
        "id": "fa303253"
      },
      "source": [
        "# 5-4 딥러닝 네트워크 학습시키기\n",
        "###### 우리가 만든 네트워크의 입력은 (데이터갯수, 이미지 크기 x, 이미지 크기 y, 채널수) 와 같은 형태를 가집니다. 이전 스텝에서 첫 번째 레이어에 input_shape=(28,28,1)로 지정했던 것을 기억하시나요? 그런데 print(x_train.shape) 을 해보면, (60000, 28, 28) 로 채널수에 대한 정보가 없습니다. 따라서 (60000, 28, 28, 1) 로 만들어 주어야 합니다 (여기서 채널수 1은 흑백 이미지를 의미합니다. 컬러 이미지라면 R, G, B 세 가지 값이 있기 때문에 3이겠죠?)."
      ]
    },
    {
      "cell_type": "code",
      "execution_count": null,
      "id": "024c3f44",
      "metadata": {
        "id": "024c3f44",
        "outputId": "fff8b99d-7e37-41df-995a-ec392f3ee7f7"
      },
      "outputs": [
        {
          "name": "stdout",
          "output_type": "stream",
          "text": [
            "Before Reshape - x_train_norm shape: (60000, 28, 28)\n",
            "Before Reshape - x_test_norm shape: (10000, 28, 28)\n",
            "After Reshape - x_train_reshaped shape: (60000, 28, 28, 1)\n",
            "After Reshape - x_test_reshaped shape: (10000, 28, 28, 1)\n"
          ]
        }
      ],
      "source": [
        "print(f\"Before Reshape - x_train_norm shape: {x_train_norm.shape}\")\n",
        "print(f\"Before Reshape - x_test_norm shape: {x_test_norm.shape}\")\n",
        "\n",
        "x_train_reshaped=x_train_norm.reshape( -1, 28, 28, 1)  # 데이터갯수에 -1을 쓰면 reshape시 자동계산됩니다.\n",
        "x_test_reshaped=x_test_norm.reshape( -1, 28, 28, 1)\n",
        "\n",
        "print(f\"After Reshape - x_train_reshaped shape: {x_train_reshaped.shape}\")\n",
        "print(f\"After Reshape - x_test_reshaped shape: {x_test_reshaped.shape}\")"
      ]
    },
    {
      "cell_type": "markdown",
      "id": "d96dd333",
      "metadata": {
        "id": "d96dd333"
      },
      "source": [
        "##### 그러면 이제 x_train 학습 데이터로 딥러닝 네트워크를 학습시켜 봅시다. 여기서 epochs=10 은 전체 60,000개의 데이터를 10번 반복 사용해서 학습을 시키라는 뜻입니다. 물론 model의 입력 정의에 형태를 맞춘 x_train_reshaped가 사용되어야겠죠. 자 그러면 코드를 실행해 봅시다."
      ]
    },
    {
      "cell_type": "code",
      "execution_count": null,
      "id": "42b4826c",
      "metadata": {
        "id": "42b4826c",
        "outputId": "cabbb024-f5a0-40cf-e7ae-919316efe262"
      },
      "outputs": [
        {
          "name": "stdout",
          "output_type": "stream",
          "text": [
            "Epoch 1/10\n",
            "1875/1875 [==============================] - 31s 3ms/step - loss: 0.1743 - accuracy: 0.9478\n",
            "Epoch 2/10\n",
            "1875/1875 [==============================] - 5s 3ms/step - loss: 0.0609 - accuracy: 0.9812\n",
            "Epoch 3/10\n",
            "1875/1875 [==============================] - 5s 3ms/step - loss: 0.0440 - accuracy: 0.9865\n",
            "Epoch 4/10\n",
            "1875/1875 [==============================] - 5s 3ms/step - loss: 0.0335 - accuracy: 0.9894\n",
            "Epoch 5/10\n",
            "1875/1875 [==============================] - 5s 3ms/step - loss: 0.0281 - accuracy: 0.9910\n",
            "Epoch 6/10\n",
            "1875/1875 [==============================] - 5s 3ms/step - loss: 0.0233 - accuracy: 0.9923\n",
            "Epoch 7/10\n",
            "1875/1875 [==============================] - 5s 3ms/step - loss: 0.0181 - accuracy: 0.9944\n",
            "Epoch 8/10\n",
            "1875/1875 [==============================] - 5s 3ms/step - loss: 0.0160 - accuracy: 0.9947\n",
            "Epoch 9/10\n",
            "1875/1875 [==============================] - 5s 3ms/step - loss: 0.0132 - accuracy: 0.9955\n",
            "Epoch 10/10\n",
            "1875/1875 [==============================] - 5s 3ms/step - loss: 0.0111 - accuracy: 0.9965\n"
          ]
        },
        {
          "data": {
            "text/plain": [
              "<keras.callbacks.History at 0x7f3af833a400>"
            ]
          },
          "execution_count": 12,
          "metadata": {},
          "output_type": "execute_result"
        }
      ],
      "source": [
        "model.compile(optimizer='adam',\n",
        "             loss='sparse_categorical_crossentropy',\n",
        "             metrics=['accuracy'])\n",
        "\n",
        "model.fit(x_train_reshaped, y_train, epochs=10)"
      ]
    },
    {
      "cell_type": "markdown",
      "id": "4d324dda",
      "metadata": {
        "id": "4d324dda"
      },
      "source": [
        "###### 각 학습이 진행됨에 따라 epoch 별로 어느 정도 인식 정확도(accuracy)가 올라가는지 확인할 수 있습니다. 인식 정확도가 0.9413에서 0.9957까지 매우 높게 올라가는군요. 9 epoch정도부터는 인식률의 상승이 미미합니다. 10 epoch정도 학습을 시키면 충분할 것 같네요. (학습할 때마다 인식 정확도는 변동됩니다.)"
      ]
    },
    {
      "cell_type": "markdown",
      "id": "fb4e965f",
      "metadata": {
        "id": "fb4e965f"
      },
      "source": [
        "# 5-5 얼마나 잘 만들었는지 확인하기\n",
        "### 테스트 데이터로 성능을 확인해 보자\n",
        "###### 사실 위의 인식 정확도는 학습용 데이터(x_train)을 가지고 구한 것입니다. 즉, 연습문제를 잘푸는 인공지능을 만든 거죠. 우리가 만든 딥러닝 네트워크는 실제 시험도 잘 볼 수 있을까요?\n",
        "###### 자 그러면 시험용 데이터(x_test)를 가지고 확인해 봅시다."
      ]
    },
    {
      "cell_type": "code",
      "execution_count": null,
      "id": "fbbfcc8b",
      "metadata": {
        "id": "fbbfcc8b",
        "outputId": "ae97b9bf-3a82-4dd8-c19e-cbcce76ee82b"
      },
      "outputs": [
        {
          "name": "stdout",
          "output_type": "stream",
          "text": [
            "313/313 - 1s - loss: 0.0465 - accuracy: 0.9874\n",
            "test_loss: 0.04650768265128136\n",
            "test_accuracy: 0.9873999953269958\n"
          ]
        }
      ],
      "source": [
        "test_loss, test_accuracy = model.evaluate(x_test_reshaped,y_test, verbose=2)\n",
        "print(f\"test_loss: {test_loss}\")\n",
        "print(f\"test_accuracy: {test_accuracy}\")"
      ]
    },
    {
      "cell_type": "markdown",
      "id": "7e876b4e",
      "metadata": {
        "id": "7e876b4e"
      },
      "source": [
        "## 어떤 데이터를 잘못 추론했을까? 눈으로 확인해보자\n",
        "##### model.evaluate() 대신 model.predict()를 사용하면 model이 입력값을 보고 실제로 추론한 확률분포를 출력할 수 있습니다. 우리가 만든 model이란 사실 10개의 숫자 중 어느 것일지에 대한 확률값을 출력하는 함수입니다. 이 함수의 출력값, 즉 확률값이 가장 높은 숫자가 바로 model이 추론한 숫자가 되는 거죠."
      ]
    },
    {
      "cell_type": "code",
      "execution_count": null,
      "id": "4ff43dd2",
      "metadata": {
        "id": "4ff43dd2",
        "outputId": "5a36c9fc-86fa-459c-e26f-db33ae48d0c7"
      },
      "outputs": [
        {
          "name": "stdout",
          "output_type": "stream",
          "text": [
            "model.predict() 결과 :  [1.7242254e-09 4.4197138e-10 6.7071177e-08 5.1489417e-09 8.0678830e-10\n",
            " 3.2164372e-14 7.1629912e-18 9.9999988e-01 3.3303643e-10 2.2180638e-11]\n",
            "model이 추론한 가장 가능성이 높은 결과 :  7\n",
            "실제 데이터의 라벨 :  7\n"
          ]
        }
      ],
      "source": [
        "predicted_result = model.predict(x_test_reshaped)  # model이 추론한 확률값. \n",
        "predicted_labels = np.argmax(predicted_result, axis=1)\n",
        "\n",
        "idx=0  #1번째 x_test를 살펴보자. \n",
        "print('model.predict() 결과 : ', predicted_result[idx])\n",
        "print('model이 추론한 가장 가능성이 높은 결과 : ', predicted_labels[idx])\n",
        "print('실제 데이터의 라벨 : ', y_test[idx])"
      ]
    },
    {
      "cell_type": "markdown",
      "id": "a9f2fde5",
      "metadata": {
        "id": "a9f2fde5"
      },
      "source": [
        "###### model.predict() 결과가 [9.5208375e-15 2.8931768e-11 1.2696462e-09 2.0265421e-08 6.1321614e-11 2.9599554e-12 1.0710074e-15 1.0000000e+00 1.0549885e-11 3.8589491e-08] 와 같이 벡터 형태로 나왔나요? 이 벡터는 model이 추론한 결과가 각각 0, 1, 2, ..., 7, 8, 9일 확률을 의미합니다.\n",
        "\n",
        "###### 이 경우라면 model이 추론한 결과가 7일 확률이 1.00에 근접하고 있다, 즉 이 model은 입력한 이미지가 숫자 7이라는 걸 아주 확신하고 있다는 뜻이 됩니다.\n",
        "\n",
        "###### 정말 숫자 7인가요?"
      ]
    },
    {
      "cell_type": "code",
      "execution_count": null,
      "id": "b8bf6fbd",
      "metadata": {
        "id": "b8bf6fbd",
        "outputId": "50b80530-6162-46ab-dc6b-fbe5f80331c0"
      },
      "outputs": [
        {
          "data": {
            "image/png": "[encoded data removed]",
            "text/plain": [
              "<Figure size 432x288 with 1 Axes>"
            ]
          },
          "metadata": {
            "needs_background": "light"
          },
          "output_type": "display_data"
        }
      ],
      "source": [
        "plt.imshow(x_test[idx],cmap=plt.cm.binary)\n",
        "plt.show()"
      ]
    },
    {
      "cell_type": "markdown",
      "id": "7b07345b",
      "metadata": {
        "id": "7b07345b"
      },
      "source": [
        "###### 그렇다면 model이 추론해 낸 숫자와 실제 라벨의 값이 다른 경우는 어떤 경우인지 직접 확인해 볼 수도 있겠습니다."
      ]
    },
    {
      "cell_type": "code",
      "execution_count": null,
      "id": "74634e07",
      "metadata": {
        "id": "74634e07",
        "outputId": "57063a2e-d33f-48db-a344-9d5626742bef"
      },
      "outputs": [
        {
          "name": "stdout",
          "output_type": "stream",
          "text": [
            "예측확률분포: [9.6340841e-07 1.6438274e-01 1.0244999e-06 1.5567134e-17 7.5109472e-04\n",
            " 1.8840343e-08 2.1381693e-06 2.6012722e-06 8.3485943e-01 1.5122667e-10]\n",
            "라벨: 1, 예측결과: 8\n"
          ]
        },
        {
          "data": {
            "image/png": "[encoded data removed]",
            "text/plain": [
              "<Figure size 432x288 with 1 Axes>"
            ]
          },
          "metadata": {
            "needs_background": "light"
          },
          "output_type": "display_data"
        },
        {
          "name": "stdout",
          "output_type": "stream",
          "text": [
            "예측확률분포: [7.7305859e-01 9.2139061e-09 3.5759731e-10 1.7775561e-11 1.7301280e-02\n",
            " 4.7718362e-07 2.0842676e-01 1.4012209e-10 1.2128374e-03 6.9848494e-10]\n",
            "라벨: 6, 예측결과: 0\n"
          ]
        },
        {
          "data": {
            "image/png": "[encoded data removed]",
            "text/plain": [
              "<Figure size 432x288 with 1 Axes>"
            ]
          },
          "metadata": {
            "needs_background": "light"
          },
          "output_type": "display_data"
        },
        {
          "name": "stdout",
          "output_type": "stream",
          "text": [
            "예측확률분포: [1.6884026e-10 2.2991837e-06 1.1812805e-11 9.9982411e-01 7.0246302e-11\n",
            " 1.7245121e-04 1.4289759e-11 3.3449780e-07 6.1652554e-07 2.4152718e-07]\n",
            "라벨: 5, 예측결과: 3\n"
          ]
        },
        {
          "data": {
            "image/png": "[encoded data removed]",
            "text/plain": [
              "<Figure size 432x288 with 1 Axes>"
            ]
          },
          "metadata": {
            "needs_background": "light"
          },
          "output_type": "display_data"
        },
        {
          "name": "stdout",
          "output_type": "stream",
          "text": [
            "예측확률분포: [1.2290552e-03 4.5079454e-05 9.4259161e-01 1.4252469e-04 5.5372667e-02\n",
            " 3.1462124e-09 6.1761565e-04 1.2757414e-09 1.6042280e-06 2.7418052e-09]\n",
            "라벨: 6, 예측결과: 2\n"
          ]
        },
        {
          "data": {
            "image/png": "[encoded data removed]",
            "text/plain": [
              "<Figure size 432x288 with 1 Axes>"
            ]
          },
          "metadata": {
            "needs_background": "light"
          },
          "output_type": "display_data"
        },
        {
          "name": "stdout",
          "output_type": "stream",
          "text": [
            "예측확률분포: [2.8799368e-05 2.0506335e-03 2.2287517e-05 2.2467207e-03 3.8045943e-02\n",
            " 6.8190690e-07 8.0272633e-10 9.5613158e-01 4.9650302e-04 9.7683782e-04]\n",
            "라벨: 9, 예측결과: 7\n"
          ]
        },
        {
          "data": {
            "image/png": "[encoded data removed]",
            "text/plain": [
              "<Figure size 432x288 with 1 Axes>"
            ]
          },
          "metadata": {
            "needs_background": "light"
          },
          "output_type": "display_data"
        }
      ],
      "source": [
        "import random\n",
        "wrong_predict_list=[]\n",
        "for i, _ in enumerate(predicted_labels):\n",
        "    # i번째 test_labels과 y_test이 다른 경우만 모아 봅시다. \n",
        "    if predicted_labels[i] != y_test[i]:\n",
        "        wrong_predict_list.append(i)\n",
        "\n",
        "# wrong_predict_list 에서 랜덤하게 5개만 뽑아봅시다.\n",
        "samples = random.choices(population=wrong_predict_list, k=5)\n",
        "\n",
        "for n in samples:\n",
        "    print(\"예측확률분포: \" + str(predicted_result[n]))\n",
        "    print(\"라벨: \" + str(y_test[n]) + \", 예측결과: \" + str(predicted_labels[n]))\n",
        "    plt.imshow(x_test[n], cmap=plt.cm.binary)\n",
        "    plt.show()"
      ]
    },
    {
      "cell_type": "markdown",
      "id": "20a290b6",
      "metadata": {
        "id": "20a290b6"
      },
      "source": [
        "###### 틀린 경우를 살펴보면 model도 추론 결과에 대한 확신도가 낮고 매우 혼란스러워 한다는 것을 알 수 있습니다. model의 추론 결과를 시각화하여 살펴보는 것은 향후 model 성능 개선에 도움이 되는 아이디어를 얻을 수 있는 좋은 방법 중 하나입니다."
      ]
    },
    {
      "cell_type": "markdown",
      "id": "3e9dd783",
      "metadata": {
        "id": "3e9dd783"
      },
      "source": [
        "# 5-6 더 좋은 네트워크 만들어보기\n",
        "\n",
        "###### 그러면 인식률을 99점대로 만들 수 없을까요? 딥러닝 네트워크의 구조 자체는 바꾸지 않으면서도 우리가 해볼 수 있는 것들이 있습니다. 3번째 스텝 딥러닝 네트워크 설계하기에서 살펴본 하이퍼파라미터들을 바꾸어 보는 것인데요. Conv2D 레이어에서 입력 이미지의 특징 수를 늘리거나 줄여 보거나, Dense 레이어에서 뉴런수를 바꾸어 보거나, 학습 반복 횟수인 epoch 값을 변경해 볼 수 있을 겁니다."
      ]
    },
    {
      "cell_type": "code",
      "execution_count": null,
      "id": "44b10f41",
      "metadata": {
        "id": "44b10f41",
        "outputId": "ea26b939-b739-46f0-e0ee-dc98ee87ff72"
      },
      "outputs": [
        {
          "name": "stdout",
          "output_type": "stream",
          "text": [
            "Model: \"sequential_1\"\n",
            "_________________________________________________________________\n",
            "Layer (type)                 Output Shape              Param #   \n",
            "=================================================================\n",
            "conv2d_2 (Conv2D)            (None, 26, 26, 16)        160       \n",
            "_________________________________________________________________\n",
            "max_pooling2d_2 (MaxPooling2 (None, 13, 13, 16)        0         \n",
            "_________________________________________________________________\n",
            "conv2d_3 (Conv2D)            (None, 11, 11, 32)        4640      \n",
            "_________________________________________________________________\n",
            "max_pooling2d_3 (MaxPooling2 (None, 5, 5, 32)          0         \n",
            "_________________________________________________________________\n",
            "flatten_1 (Flatten)          (None, 800)               0         \n",
            "_________________________________________________________________\n",
            "dense_2 (Dense)              (None, 32)                25632     \n",
            "_________________________________________________________________\n",
            "dense_3 (Dense)              (None, 10)                330       \n",
            "=================================================================\n",
            "Total params: 30,762\n",
            "Trainable params: 30,762\n",
            "Non-trainable params: 0\n",
            "_________________________________________________________________\n",
            "Epoch 1/10\n",
            "1875/1875 [==============================] - 5s 3ms/step - loss: 0.1883 - accuracy: 0.9421\n",
            "Epoch 2/10\n",
            "1875/1875 [==============================] - 5s 3ms/step - loss: 0.0611 - accuracy: 0.9810\n",
            "Epoch 3/10\n",
            "1875/1875 [==============================] - 5s 3ms/step - loss: 0.0436 - accuracy: 0.9869\n",
            "Epoch 4/10\n",
            "1875/1875 [==============================] - 5s 3ms/step - loss: 0.0346 - accuracy: 0.9893\n",
            "Epoch 5/10\n",
            "1875/1875 [==============================] - 5s 3ms/step - loss: 0.0287 - accuracy: 0.9910\n",
            "Epoch 6/10\n",
            "1875/1875 [==============================] - 5s 3ms/step - loss: 0.0228 - accuracy: 0.9925\n",
            "Epoch 7/10\n",
            "1875/1875 [==============================] - 5s 3ms/step - loss: 0.0193 - accuracy: 0.9938\n",
            "Epoch 8/10\n",
            "1875/1875 [==============================] - 5s 3ms/step - loss: 0.0157 - accuracy: 0.9949\n",
            "Epoch 9/10\n",
            "1875/1875 [==============================] - 5s 3ms/step - loss: 0.0137 - accuracy: 0.9954\n",
            "Epoch 10/10\n",
            "1875/1875 [==============================] - 5s 3ms/step - loss: 0.0112 - accuracy: 0.9961\n",
            "313/313 - 1s - loss: 0.0311 - accuracy: 0.9903\n",
            "test_loss: 0.031088918447494507 \n",
            "test_accuracy: 0.9902999997138977\n"
          ]
        }
      ],
      "source": [
        "# 바꿔 볼 수 있는 하이퍼파라미터들\n",
        "n_channel_1=16\n",
        "n_channel_2=32\n",
        "n_dense=32\n",
        "n_train_epoch=10\n",
        "\n",
        "model=keras.models.Sequential()\n",
        "model.add(keras.layers.Conv2D(n_channel_1, (3,3), activation='relu', input_shape=(28,28,1)))\n",
        "model.add(keras.layers.MaxPool2D(2,2))\n",
        "model.add(keras.layers.Conv2D(n_channel_2, (3,3), activation='relu'))\n",
        "model.add(keras.layers.MaxPooling2D((2,2)))\n",
        "model.add(keras.layers.Flatten())\n",
        "model.add(keras.layers.Dense(n_dense, activation='relu'))\n",
        "model.add(keras.layers.Dense(10, activation='softmax'))\n",
        "\n",
        "model.summary()\n",
        "model.compile(optimizer='adam',\n",
        "             loss='sparse_categorical_crossentropy',\n",
        "             metrics=['accuracy'])\n",
        "\n",
        "# 모델 훈련\n",
        "model.fit(x_train_reshaped, y_train, epochs=n_train_epoch)\n",
        "\n",
        "# 모델 시험\n",
        "test_loss, test_accuracy = model.evaluate(x_test_reshaped, y_test, verbose=2)\n",
        "print(f\"test_loss: {test_loss} \")\n",
        "print(f\"test_accuracy: {test_accuracy}\")"
      ]
    },
    {
      "cell_type": "markdown",
      "id": "eb813c1a",
      "metadata": {
        "id": "eb813c1a"
      },
      "source": [
        "# 5-7 미니 프로젝트 : 가위바위보 분류기를 만들자\n",
        "\n",
        "#### 오늘 배운 내용을 바탕으로 가위바위보 분류기를 만들도록 하겠습니다. 가장 먼저 해야 할 일은 뭘까요? 네, 첫 번째!!!! 데이터를 준비해야 합니다. 가위바위보 이미지를 모아 놓은 곳은 없으므로, 우리가 직접 사진을 찍어서 모아봅시다."
      ]
    },
    {
      "cell_type": "code",
      "execution_count": null,
      "id": "fe8ab1e4",
      "metadata": {
        "id": "fe8ab1e4",
        "outputId": "1388d30c-e334-4c20-9010-81e6a1d67a09"
      },
      "outputs": [
        {
          "name": "stdout",
          "output_type": "stream",
          "text": [
            "1158  images to be resized.\n",
            "1158  images resized.\n",
            "가위 이미지 resize 완료!\n"
          ]
        }
      ],
      "source": [
        "# 필요한 라이브러리\n",
        "import tensorflow as tf\n",
        "import numpy as np\n",
        "\n",
        "#데이터 준비\n",
        "\n",
        "# 데이터 불러오기 + Resize 하기\n",
        "# (5) 숫자 손글씨의 경우 이미지 크기가 28x28 이었기 때문에, 우리의 가위, 바위, 보 이미지도 28x28로 만들어야 합니다.\n",
        "# 이를 위해서는 PIL 라이브러리를 사용해볼 거예요. 그러려면 먼저 라이브러리를 불러와야 겠죠?\n",
        "from PIL import Image\n",
        "import glob\n",
        "import os\n",
        "\n",
        "# 이제 가위 이미지를 불러와서 28x28 사이즈로 변경할 겁니다. 아래 코드를 실행해보세요. 이미지의 크기가 28x28 로 바뀌었나요?\n",
        "def resize_images(img_path):\n",
        "\timages=glob.glob(img_path + \"/*.jpg\")  \n",
        "    \n",
        "\tprint(len(images), \" images to be resized.\")\n",
        "\n",
        "    # 파일마다 모두 28x28 사이즈로 바꾸어 저장합니다.\n",
        "\ttarget_size=(28,28)\n",
        "\tfor img in images:\n",
        "\t\told_img=Image.open(img)\n",
        "\t\tnew_img=old_img.resize(target_size,Image.ANTIALIAS)\n",
        "\t\tnew_img.save(img, \"JPEG\")\n",
        "    \n",
        "\tprint(len(images), \" images resized.\")\n",
        "\t\n",
        "# 가위 이미지가 저장된 디렉토리 아래의 모든 jpg 파일을 읽어들여서\n",
        "image_dir_path = os.getenv(\"HOME\") + \"/aiffel/rock_scissor_paper/scissor\"\n",
        "resize_images(image_dir_path)\n",
        "\n",
        "print(\"가위 이미지 resize 완료!\")"
      ]
    },
    {
      "cell_type": "code",
      "execution_count": null,
      "id": "1133d3c2",
      "metadata": {
        "id": "1133d3c2",
        "outputId": "c01e678f-5ec1-4c4e-d96e-fe58d5cfd1a6"
      },
      "outputs": [
        {
          "name": "stdout",
          "output_type": "stream",
          "text": [
            "1111  images to be resized.\n",
            "1111  images resized.\n",
            "바위 이미지 resize 완료!\n"
          ]
        }
      ],
      "source": [
        "def resize_images(img_path):\n",
        "\timages=glob.glob(img_path + \"/*.jpg\")  \n",
        "    \n",
        "\tprint(len(images), \" images to be resized.\")\n",
        "\n",
        "    # 파일마다 모두 28x28 사이즈로 바꾸어 저장합니다.\n",
        "\ttarget_size=(28,28)\n",
        "\tfor img in images:\n",
        "\t\told_img=Image.open(img)\n",
        "\t\tnew_img=old_img.resize(target_size,Image.ANTIALIAS)\n",
        "\t\tnew_img.save(img, \"JPEG\")\n",
        "    \n",
        "\tprint(len(images), \" images resized.\")\n",
        "\t\n",
        "# 가위 이미지가 저장된 디렉토리 아래의 모든 jpg 파일을 읽어들여서\n",
        "image_dir_path = os.getenv(\"HOME\") + \"/aiffel/rock_scissor_paper/rock\"\n",
        "resize_images(image_dir_path)\n",
        "\n",
        "print(\"바위 이미지 resize 완료!\")"
      ]
    },
    {
      "cell_type": "code",
      "execution_count": null,
      "id": "83268494",
      "metadata": {
        "id": "83268494",
        "outputId": "ce86ba5d-e440-46ef-9ed9-55fd34c7dfb0"
      },
      "outputs": [
        {
          "name": "stdout",
          "output_type": "stream",
          "text": [
            "1142  images to be resized.\n",
            "1142  images resized.\n",
            "보 이미지 resize 완료!\n",
            "2796  images to be resized.\n",
            "2796  images resized.\n",
            "2482  images to be resized.\n",
            "2482  images resized.\n",
            "2574  images to be resized.\n",
            "2574  images resized.\n"
          ]
        }
      ],
      "source": [
        "def resize_images(img_path):\n",
        "\timages=glob.glob(img_path + \"/*.jpg\")  \n",
        "    \n",
        "\tprint(len(images), \" images to be resized.\")\n",
        "\n",
        "    # 파일마다 모두 28x28 사이즈로 바꾸어 저장합니다.\n",
        "\ttarget_size=(28,28)\n",
        "\tfor img in images:\n",
        "\t\told_img=Image.open(img)\n",
        "\t\tnew_img=old_img.resize(target_size,Image.ANTIALIAS)\n",
        "\t\tnew_img.save(img, \"JPEG\")\n",
        "    \n",
        "\tprint(len(images), \" images resized.\")\n",
        "\t\n",
        "# 가위 이미지가 저장된 디렉토리 아래의 모든 jpg 파일을 읽어들여서\n",
        "image_dir_path = os.getenv(\"HOME\") + \"/aiffel/rock_scissor_paper/paper\"\n",
        "resize_images(image_dir_path)\n",
        "\n",
        "print(\"보 이미지 resize 완료!\")\n",
        "\n",
        "\n",
        "\n",
        "\n",
        "# test도 28x28로 변경\n",
        "image_dir_path = os.getenv(\"HOME\") + \"/aiffel/rock_scissor_paper/test/paper\"\n",
        "resize_images(image_dir_path)\n",
        "\n",
        "image_dir_path = os.getenv(\"HOME\") + \"/aiffel/rock_scissor_paper/test/rocks\"\n",
        "resize_images(image_dir_path)\n",
        "\n",
        "image_dir_path = os.getenv(\"HOME\") + \"/aiffel/rock_scissor_paper/test/scissors\"\n",
        "resize_images(image_dir_path)\n"
      ]
    },
    {
      "cell_type": "markdown",
      "id": "b0aacedd",
      "metadata": {
        "id": "b0aacedd"
      },
      "source": [
        "###### (6) 숫자 손글씨 인식기는 mnist.load_data() 라는 함수로 데이터를 읽었던 것 기억하시죠? 여러분들이 아직 코딩에 익숙하지 않을 수 있으므로, 가위, 바위, 보 데이터를 읽을 수 있는 load_data() 함수를 만들어 드릴 거예요. 이 코드를 활용하면 임의의 사진 데이터(ex. 귤이 잘 익었나, 안 익었나? 웃는 얼굴인가, 우는 얼굴인가, 평범한 표정의 얼굴인가? 등)에 적용하실 수 있을 겁니다.\n",
        "\n",
        "######  load_data() 함수는 입력으로 이미지가 있는 폴더 위치를 받습니다. 여기서는 rock_scissor_paper 폴더 위치를 적어주면 됩니다. 숫자 손글씨는 0~9 까지의 클래스가 있었던 것 기억하시죠? 가위바위보의 경우 3개의 클래스 즉, 가위: 0, 바위: 1, 보: 2 로 라벨링이 될 것입니다."
      ]
    },
    {
      "cell_type": "code",
      "execution_count": null,
      "id": "6671d05d",
      "metadata": {
        "id": "6671d05d",
        "outputId": "81f017ce-3762-469a-8b80-d2cad9e60e55"
      },
      "outputs": [
        {
          "name": "stdout",
          "output_type": "stream",
          "text": [
            "학습데이터(x_train)의 이미지 개수는 3411 입니다.\n",
            "x_train shape: (7854, 28, 28, 3)\n",
            "y_train shape: (7854,)\n",
            "학습데이터(x_train)의 이미지 개수는 2796 입니다.\n",
            "x_test shape: (7854, 28, 28, 3)\n",
            "y_test shape: (7854,)\n"
          ]
        }
      ],
      "source": [
        "import numpy as np\n",
        "\n",
        "def load_data(img_path, number_of_data=7854):  # 가위바위보 이미지 개수 총합에 주의하세요.\n",
        "    # 가위 : 0, 바위 : 1, 보 : 2\n",
        "    img_size=28\n",
        "    color=3\n",
        "    #이미지 데이터와 라벨(가위 : 0, 바위 : 1, 보 : 2) 데이터를 담을 행렬(matrix) 영역을 생성합니다.\n",
        "    imgs=np.zeros(number_of_data*img_size*img_size*color,dtype=np.int32).reshape(number_of_data,img_size,img_size,color)\n",
        "    labels=np.zeros(number_of_data,dtype=np.int32)\n",
        "\n",
        "    idx=0\n",
        "    for file in glob.iglob(img_path+'/scissor/*.jpg'):\n",
        "        img = np.array(Image.open(file),dtype=np.int32)\n",
        "        imgs[idx,:,:,:]=img    # 데이터 영역에 이미지 행렬을 복사\n",
        "        labels[idx]=0   # 가위 : 0\n",
        "        idx=idx+1\n",
        "\n",
        "    for file in glob.iglob(img_path+'/rock/*.jpg'):\n",
        "        img = np.array(Image.open(file),dtype=np.int32)\n",
        "        imgs[idx,:,:,:]=img    # 데이터 영역에 이미지 행렬을 복사\n",
        "        labels[idx]=1   # 바위 : 1\n",
        "        idx=idx+1  \n",
        "    \n",
        "    for file in glob.iglob(img_path+'/paper/*.jpg'):\n",
        "        img = np.array(Image.open(file),dtype=np.int32)\n",
        "        imgs[idx,:,:,:]=img    # 데이터 영역에 이미지 행렬을 복사\n",
        "        labels[idx]=2   # 보 : 2\n",
        "        idx=idx+1\n",
        "        \n",
        "    print(\"학습데이터(x_train)의 이미지 개수는\", idx,\"입니다.\")\n",
        "    return imgs, labels\n",
        "\n",
        "\n",
        "# train데이터\n",
        "image_dir_path = os.getenv(\"HOME\") + \"/aiffel/rock_scissor_paper\"\n",
        "(x_train, y_train)=load_data(image_dir_path)\n",
        "\n",
        "x_train_norm = x_train/255.0   # 입력은 0~1 사이의 값으로 정규화\n",
        "\n",
        "print(\"x_train shape: {}\".format(x_train.shape))\n",
        "print(\"y_train shape: {}\".format(y_train.shape))\n",
        "\n",
        "\n",
        "# test데이터\n",
        "image_dir_path = os.getenv(\"HOME\") + \"/aiffel/rock_scissor_paper/test\"\n",
        "(x_test, y_test)=load_data(image_dir_path)\n",
        "\n",
        "x_test_norm = x_test/255.0\n",
        "\n",
        "print(\"x_test shape: {}\".format(x_test.shape))\n",
        "print(\"y_test shape: {}\".format(y_test.shape))"
      ]
    },
    {
      "cell_type": "code",
      "execution_count": null,
      "id": "5687779c",
      "metadata": {
        "id": "5687779c",
        "outputId": "6e651083-7667-45c2-945e-29b79d041bcd"
      },
      "outputs": [
        {
          "name": "stdout",
          "output_type": "stream",
          "text": [
            "라벨:  0\n"
          ]
        },
        {
          "data": {
            "image/png": "[encoded data removed]",
            "text/plain": [
              "<Figure size 432x288 with 1 Axes>"
            ]
          },
          "metadata": {
            "needs_background": "light"
          },
          "output_type": "display_data"
        }
      ],
      "source": [
        "plt.imshow(x_train[0])\n",
        "print('라벨: ', y_train[0])"
      ]
    },
    {
      "cell_type": "markdown",
      "id": "c87be0ee",
      "metadata": {
        "id": "c87be0ee"
      },
      "source": [
        "# 딥러닝 네트워크 설계하기\n",
        "\n",
        "### 자 이제 데이터의 준비가 끝났습니다. 이제 여러분들이 가위바위보를 인식하는 딥러닝 네트워크를 설계해 볼까요?"
      ]
    },
    {
      "cell_type": "code",
      "execution_count": null,
      "id": "ed0a6d06",
      "metadata": {
        "id": "ed0a6d06"
      },
      "outputs": [],
      "source": [
        "import tensorflow as tf\n",
        "from tensorflow import keras\n",
        "import numpy as np\n",
        "\n",
        "# model을 직접 만들어 보세요.\n",
        "# Hint! model의 입력/출력부에 특히 유의해 주세요. 가위바위보 데이터셋은 MNIST 데이터셋과 어떤 점이 달라졌나요?\n",
        "# 바꿔 볼 수 있는 하이퍼파라미터들\n",
        "n_channel_1=16\n",
        "n_channel_2=32\n",
        "n_dense=32\n",
        "n_train_epoch=10\n",
        "\n",
        "model=keras.models.Sequential()\n",
        "model.add(keras.layers.Conv2D(n_channel_1, (3,3), activation='relu', input_shape=(28,28,3)))\n",
        "model.add(keras.layers.MaxPool2D(2,2))\n",
        "model.add(keras.layers.Conv2D(n_channel_2, (3,3), activation='relu'))\n",
        "model.add(keras.layers.MaxPooling2D((2,2)))\n",
        "model.add(keras.layers.Flatten())\n",
        "model.add(keras.layers.Dense(n_dense, activation='relu'))\n",
        "model.add(keras.layers.Dense(3, activation='softmax'))"
      ]
    },
    {
      "cell_type": "markdown",
      "id": "4f20e6b4",
      "metadata": {
        "id": "4f20e6b4"
      },
      "source": [
        "### 딥러닝 네트워크 학습시키기"
      ]
    },
    {
      "cell_type": "code",
      "execution_count": null,
      "id": "63702a07",
      "metadata": {
        "id": "63702a07",
        "outputId": "75c118ca-3950-477b-c8e1-2ba562afc886"
      },
      "outputs": [
        {
          "name": "stdout",
          "output_type": "stream",
          "text": [
            "Model: \"sequential_2\"\n",
            "_________________________________________________________________\n",
            "Layer (type)                 Output Shape              Param #   \n",
            "=================================================================\n",
            "conv2d_4 (Conv2D)            (None, 26, 26, 16)        448       \n",
            "_________________________________________________________________\n",
            "max_pooling2d_4 (MaxPooling2 (None, 13, 13, 16)        0         \n",
            "_________________________________________________________________\n",
            "conv2d_5 (Conv2D)            (None, 11, 11, 32)        4640      \n",
            "_________________________________________________________________\n",
            "max_pooling2d_5 (MaxPooling2 (None, 5, 5, 32)          0         \n",
            "_________________________________________________________________\n",
            "flatten_2 (Flatten)          (None, 800)               0         \n",
            "_________________________________________________________________\n",
            "dense_4 (Dense)              (None, 32)                25632     \n",
            "_________________________________________________________________\n",
            "dense_5 (Dense)              (None, 3)                 99        \n",
            "=================================================================\n",
            "Total params: 30,819\n",
            "Trainable params: 30,819\n",
            "Non-trainable params: 0\n",
            "_________________________________________________________________\n",
            "Epoch 1/10\n",
            "246/246 [==============================] - 1s 4ms/step - loss: 0.3918 - accuracy: 0.8612\n",
            "Epoch 2/10\n",
            "246/246 [==============================] - 1s 3ms/step - loss: 0.1348 - accuracy: 0.9543\n",
            "Epoch 3/10\n",
            "246/246 [==============================] - 1s 3ms/step - loss: 0.0751 - accuracy: 0.9743\n",
            "Epoch 4/10\n",
            "246/246 [==============================] - 1s 3ms/step - loss: 0.0417 - accuracy: 0.9870\n",
            "Epoch 5/10\n",
            "246/246 [==============================] - 1s 3ms/step - loss: 0.0312 - accuracy: 0.9902\n",
            "Epoch 6/10\n",
            "246/246 [==============================] - 1s 3ms/step - loss: 0.0267 - accuracy: 0.9921\n",
            "Epoch 7/10\n",
            "246/246 [==============================] - 1s 3ms/step - loss: 0.0168 - accuracy: 0.9948\n",
            "Epoch 8/10\n",
            "246/246 [==============================] - 1s 3ms/step - loss: 0.0165 - accuracy: 0.9944\n",
            "Epoch 9/10\n",
            "246/246 [==============================] - 1s 3ms/step - loss: 0.0128 - accuracy: 0.9961\n",
            "Epoch 10/10\n",
            "246/246 [==============================] - 1s 3ms/step - loss: 0.0076 - accuracy: 0.9980\n",
            "246/246 - 1s - loss: 1.4973 - accuracy: 0.8161\n",
            "test_loss: 1.4972611665725708 \n",
            "test_accuracy: 0.8161446452140808\n",
            "Model: \"sequential_2\"\n",
            "_________________________________________________________________\n",
            "Layer (type)                 Output Shape              Param #   \n",
            "=================================================================\n",
            "conv2d_4 (Conv2D)            (None, 26, 26, 16)        448       \n",
            "_________________________________________________________________\n",
            "max_pooling2d_4 (MaxPooling2 (None, 13, 13, 16)        0         \n",
            "_________________________________________________________________\n",
            "conv2d_5 (Conv2D)            (None, 11, 11, 32)        4640      \n",
            "_________________________________________________________________\n",
            "max_pooling2d_5 (MaxPooling2 (None, 5, 5, 32)          0         \n",
            "_________________________________________________________________\n",
            "flatten_2 (Flatten)          (None, 800)               0         \n",
            "_________________________________________________________________\n",
            "dense_4 (Dense)              (None, 32)                25632     \n",
            "_________________________________________________________________\n",
            "dense_5 (Dense)              (None, 3)                 99        \n",
            "=================================================================\n",
            "Total params: 30,819\n",
            "Trainable params: 30,819\n",
            "Non-trainable params: 0\n",
            "_________________________________________________________________\n"
          ]
        }
      ],
      "source": [
        "# model을 학습시키는 코드를 직접 작성해 보세요.\n",
        "# Hint! model.compile()과 model.fit()을 사용해 봅시다.\n",
        "\n",
        "model.summary()\n",
        "model.compile(optimizer='adam',\n",
        "             loss='sparse_categorical_crossentropy',\n",
        "             metrics=['accuracy'])\n",
        "\n",
        "# 모델 훈련\n",
        "model.fit(x_train_norm, y_train, epochs=n_train_epoch)\n",
        "\n",
        "# 모델 시험\n",
        "test_loss, test_accuracy = model.evaluate(x_test_norm, y_test, verbose=2)\n",
        "print(f\"test_loss: {test_loss} \")\n",
        "print(f\"test_accuracy: {test_accuracy}\")\n",
        "\n",
        "model.summary()"
      ]
    },
    {
      "cell_type": "code",
      "execution_count": null,
      "id": "7c8f9aed",
      "metadata": {
        "id": "7c8f9aed",
        "outputId": "264c5089-0564-4d03-d3bb-fcb0de765b6c"
      },
      "outputs": [
        {
          "name": "stdout",
          "output_type": "stream",
          "text": [
            "학습데이터(x_train)의 이미지 개수는 2796 입니다.\n",
            "x_test1 shape: (7854, 28, 28, 3)\n",
            "y_test1 shape: (7854,)\n"
          ]
        }
      ],
      "source": [
        "# x_test, y_test를 만드는 방법은 x_train, y_train을 만드는 방법과 아주 유사합니다.\n",
        "\n",
        "# test데이터\n",
        "t_image_dir_path = os.getenv(\"HOME\") + \"/aiffel/rock_scissor_paper/test\"\n",
        "(x_test1, y_test1)=load_data(t_image_dir_path)\n",
        "\n",
        "x_test_norm = x_test/255.0\n",
        "\n",
        "print(\"x_test1 shape: {}\".format(x_test1.shape))\n",
        "print(\"y_test1 shape: {}\".format(y_test1.shape))"
      ]
    },
    {
      "cell_type": "code",
      "execution_count": null,
      "id": "d0299d92",
      "metadata": {
        "scrolled": true,
        "id": "d0299d92",
        "outputId": "bd23e68f-6ded-4285-ef2a-ce8a91173842"
      },
      "outputs": [
        {
          "name": "stdout",
          "output_type": "stream",
          "text": [
            "246/246 - 0s - loss: 1.4973 - accuracy: 0.8161\n",
            "test_loss: 1.4972611665725708 \n",
            "test_accuracy: 0.8161446452140808\n",
            "Model: \"sequential_2\"\n",
            "_________________________________________________________________\n",
            "Layer (type)                 Output Shape              Param #   \n",
            "=================================================================\n",
            "conv2d_4 (Conv2D)            (None, 26, 26, 16)        448       \n",
            "_________________________________________________________________\n",
            "max_pooling2d_4 (MaxPooling2 (None, 13, 13, 16)        0         \n",
            "_________________________________________________________________\n",
            "conv2d_5 (Conv2D)            (None, 11, 11, 32)        4640      \n",
            "_________________________________________________________________\n",
            "max_pooling2d_5 (MaxPooling2 (None, 5, 5, 32)          0         \n",
            "_________________________________________________________________\n",
            "flatten_2 (Flatten)          (None, 800)               0         \n",
            "_________________________________________________________________\n",
            "dense_4 (Dense)              (None, 32)                25632     \n",
            "_________________________________________________________________\n",
            "dense_5 (Dense)              (None, 3)                 99        \n",
            "=================================================================\n",
            "Total params: 30,819\n",
            "Trainable params: 30,819\n",
            "Non-trainable params: 0\n",
            "_________________________________________________________________\n"
          ]
        }
      ],
      "source": [
        "# model을 학습시키는 코드를 직접 작성해 보세요.\n",
        "# Hint! model.evaluate()을 사용해 봅시다.\n",
        "test_loss, test_accuracy = model.evaluate(x_test_norm, y_test, verbose=2)\n",
        "print(f\"test_loss: {test_loss} \")\n",
        "print(f\"test_accuracy: {test_accuracy}\")\n",
        "\n",
        "model.summary()"
      ]
    },
    {
      "cell_type": "code",
      "execution_count": null,
      "id": "9574150b",
      "metadata": {
        "id": "9574150b"
      },
      "outputs": [],
      "source": []
    },
    {
      "cell_type": "code",
      "execution_count": null,
      "id": "d1e9e619",
      "metadata": {
        "id": "d1e9e619"
      },
      "outputs": [],
      "source": [
        "회고\n",
        "이번 프로젝트에서 어려웠던 점 : 처음부터 끝까지 전부 어려웠습니다\n",
        "프로젝트를 진행하면서 알아낸 점 : 생각보다 많이 어렵다는걸 알아냈습니다\n",
        "루브릭 평가 지표를 맞추기 위해 시도한 것들 : 잘 모르겠습니다..\n",
        "만약 루브릭 평가 관련 지표를 달성 하지 못했을 때, 이유에 관한 추정 : ...\n",
        "자기 다짐 : 하면서 내가 뭘 하고 있는 거지? 라는 생각이 들었다..\n",
        "다른 분들은 잘하고 계신데 나만 뒤처지는 거 같았다\n",
        "열심히 해서 따라가고 싶다"
      ]
    },
    {
      "cell_type": "code",
      "execution_count": null,
      "id": "483996f9",
      "metadata": {
        "id": "483996f9"
      },
      "outputs": [],
      "source": []
    },
    {
      "cell_type": "code",
      "execution_count": null,
      "id": "634d8c8e",
      "metadata": {
        "id": "634d8c8e"
      },
      "outputs": [],
      "source": []
    }
  ],
  "metadata": {
    "kernelspec": {
      "display_name": "Python 3 (ipykernel)",
      "language": "python",
      "name": "python3"
    },
    "language_info": {
      "codemirror_mode": {
        "name": "ipython",
        "version": 3
      },
      "file_extension": ".py",
      "mimetype": "text/x-python",
      "name": "python",
      "nbconvert_exporter": "python",
      "pygments_lexer": "ipython3",
      "version": "3.9.7"
    },
    "colab": {
      "provenance": []
    }
  },
  "nbformat": 4,
  "nbformat_minor": 5
}