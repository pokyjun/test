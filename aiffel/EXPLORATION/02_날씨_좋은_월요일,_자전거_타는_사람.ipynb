{
  "cells": [
    {
      "cell_type": "code",
      "execution_count": null,
      "id": "42f87e00",
      "metadata": {
        "id": "42f87e00",
        "outputId": "e837eead-424c-4958-8fc6-1a44a492a39d",
        "colab": {
          "base_uri": "https://localhost:8080/",
          "height": 225
        }
      },
      "outputs": [
        {
          "output_type": "stream",
          "name": "stdout",
          "text": [
            "(80, 2)\n"
          ]
        },
        {
          "output_type": "execute_result",
          "data": {
            "text/plain": [
              "   used_years  price\n",
              "0        2.65    175\n",
              "1        3.80     63\n",
              "2        0.95    273\n",
              "3        4.50    133\n",
              "4        4.45    106"
            ],
            "text/html": [
              "\n",
              "  <div id=\"df-41405d80-6932-4c4a-971e-aface560bd20\">\n",
              "    <div class=\"colab-df-container\">\n",
              "      <div>\n",
              "<style scoped>\n",
              "    .dataframe tbody tr th:only-of-type {\n",
              "        vertical-align: middle;\n",
              "    }\n",
              "\n",
              "    .dataframe tbody tr th {\n",
              "        vertical-align: top;\n",
              "    }\n",
              "\n",
              "    .dataframe thead th {\n",
              "        text-align: right;\n",
              "    }\n",
              "</style>\n",
              "<table border=\"1\" class=\"dataframe\">\n",
              "  <thead>\n",
              "    <tr style=\"text-align: right;\">\n",
              "      <th></th>\n",
              "      <th>used_years</th>\n",
              "      <th>price</th>\n",
              "    </tr>\n",
              "  </thead>\n",
              "  <tbody>\n",
              "    <tr>\n",
              "      <th>0</th>\n",
              "      <td>2.65</td>\n",
              "      <td>175</td>\n",
              "    </tr>\n",
              "    <tr>\n",
              "      <th>1</th>\n",
              "      <td>3.80</td>\n",
              "      <td>63</td>\n",
              "    </tr>\n",
              "    <tr>\n",
              "      <th>2</th>\n",
              "      <td>0.95</td>\n",
              "      <td>273</td>\n",
              "    </tr>\n",
              "    <tr>\n",
              "      <th>3</th>\n",
              "      <td>4.50</td>\n",
              "      <td>133</td>\n",
              "    </tr>\n",
              "    <tr>\n",
              "      <th>4</th>\n",
              "      <td>4.45</td>\n",
              "      <td>106</td>\n",
              "    </tr>\n",
              "  </tbody>\n",
              "</table>\n",
              "</div>\n",
              "      <button class=\"colab-df-convert\" onclick=\"convertToInteractive('df-41405d80-6932-4c4a-971e-aface560bd20')\"\n",
              "              title=\"Convert this dataframe to an interactive table.\"\n",
              "              style=\"display:none;\">\n",
              "        \n",
              "  <svg xmlns=\"http://www.w3.org/2000/svg\" height=\"24px\"viewBox=\"0 0 24 24\"\n",
              "       width=\"24px\">\n",
              "    <path d=\"M0 0h24v24H0V0z\" fill=\"none\"/>\n",
              "    <path d=\"M18.56 5.44l.94 2.06.94-2.06 2.06-.94-2.06-.94-.94-2.06-.94 2.06-2.06.94zm-11 1L8.5 8.5l.94-2.06 2.06-.94-2.06-.94L8.5 2.5l-.94 2.06-2.06.94zm10 10l.94 2.06.94-2.06 2.06-.94-2.06-.94-.94-2.06-.94 2.06-2.06.94z\"/><path d=\"M17.41 7.96l-1.37-1.37c-.4-.4-.92-.59-1.43-.59-.52 0-1.04.2-1.43.59L10.3 9.45l-7.72 7.72c-.78.78-.78 2.05 0 2.83L4 21.41c.39.39.9.59 1.41.59.51 0 1.02-.2 1.41-.59l7.78-7.78 2.81-2.81c.8-.78.8-2.07 0-2.86zM5.41 20L4 18.59l7.72-7.72 1.47 1.35L5.41 20z\"/>\n",
              "  </svg>\n",
              "      </button>\n",
              "      \n",
              "  <style>\n",
              "    .colab-df-container {\n",
              "      display:flex;\n",
              "      flex-wrap:wrap;\n",
              "      gap: 12px;\n",
              "    }\n",
              "\n",
              "    .colab-df-convert {\n",
              "      background-color: #E8F0FE;\n",
              "      border: none;\n",
              "      border-radius: 50%;\n",
              "      cursor: pointer;\n",
              "      display: none;\n",
              "      fill: #1967D2;\n",
              "      height: 32px;\n",
              "      padding: 0 0 0 0;\n",
              "      width: 32px;\n",
              "    }\n",
              "\n",
              "    .colab-df-convert:hover {\n",
              "      background-color: #E2EBFA;\n",
              "      box-shadow: 0px 1px 2px rgba(60, 64, 67, 0.3), 0px 1px 3px 1px rgba(60, 64, 67, 0.15);\n",
              "      fill: #174EA6;\n",
              "    }\n",
              "\n",
              "    [theme=dark] .colab-df-convert {\n",
              "      background-color: #3B4455;\n",
              "      fill: #D2E3FC;\n",
              "    }\n",
              "\n",
              "    [theme=dark] .colab-df-convert:hover {\n",
              "      background-color: #434B5C;\n",
              "      box-shadow: 0px 1px 3px 1px rgba(0, 0, 0, 0.15);\n",
              "      filter: drop-shadow(0px 1px 2px rgba(0, 0, 0, 0.3));\n",
              "      fill: #FFFFFF;\n",
              "    }\n",
              "  </style>\n",
              "\n",
              "      <script>\n",
              "        const buttonEl =\n",
              "          document.querySelector('#df-41405d80-6932-4c4a-971e-aface560bd20 button.colab-df-convert');\n",
              "        buttonEl.style.display =\n",
              "          google.colab.kernel.accessAllowed ? 'block' : 'none';\n",
              "\n",
              "        async function convertToInteractive(key) {\n",
              "          const element = document.querySelector('#df-41405d80-6932-4c4a-971e-aface560bd20');\n",
              "          const dataTable =\n",
              "            await google.colab.kernel.invokeFunction('convertToInteractive',\n",
              "                                                     [key], {});\n",
              "          if (!dataTable) return;\n",
              "\n",
              "          const docLinkHtml = 'Like what you see? Visit the ' +\n",
              "            '<a target=\"_blank\" href=https://colab.research.google.com/notebooks/data_table.ipynb>data table notebook</a>'\n",
              "            + ' to learn more about interactive tables.';\n",
              "          element.innerHTML = '';\n",
              "          dataTable['output_type'] = 'display_data';\n",
              "          await google.colab.output.renderOutput(dataTable, element);\n",
              "          const docLink = document.createElement('div');\n",
              "          docLink.innerHTML = docLinkHtml;\n",
              "          element.appendChild(docLink);\n",
              "        }\n",
              "      </script>\n",
              "    </div>\n",
              "  </div>\n",
              "  "
            ]
          },
          "metadata": {},
          "execution_count": 1
        }
      ],
      "source": [
        "from IPython.display import display, Image\n",
        "import pandas as pd\n",
        "\n",
        "#데이터 확인하기\n",
        "macbook = pd.read_csv('/content/macbook.csv')\n",
        "print(macbook.shape)\n",
        "macbook.head()"
      ]
    },
    {
      "cell_type": "code",
      "execution_count": null,
      "id": "b6765b8d",
      "metadata": {
        "id": "b6765b8d",
        "outputId": "3615eba5-0f98-40db-bc1e-27d75b7b8986",
        "colab": {
          "base_uri": "https://localhost:8080/",
          "height": 265
        }
      },
      "outputs": [
        {
          "output_type": "display_data",
          "data": {
            "text/plain": [
              "<Figure size 432x288 with 1 Axes>"
            ],
            "image/png": "[encoded data removed]"
          },
          "metadata": {
            "needs_background": "light"
          }
        }
      ],
      "source": [
        "import matplotlib.pyplot as plt\n",
        "#데이터 시각화\n",
        "plt.scatter(macbook['used_years'],macbook['price'])\n",
        "plt.show()"
      ]
    },
    {
      "cell_type": "code",
      "execution_count": null,
      "id": "7252a594",
      "metadata": {
        "id": "7252a594",
        "outputId": "c0b0baf9-4620-404f-f48d-9d309d1080ee"
      },
      "outputs": [
        {
          "data": {
            "text/plain": [
              "array([[ 1.        , -0.78972238],\n",
              "       [-0.78972238,  1.        ]])"
            ]
          },
          "execution_count": 3,
          "metadata": {},
          "output_type": "execute_result"
        }
      ],
      "source": [
        "#상관계수\n",
        "import numpy as np\n",
        "np.corrcoef(macbook['used_years'],macbook['price'])"
      ]
    },
    {
      "cell_type": "code",
      "execution_count": null,
      "id": "877d9c15",
      "metadata": {
        "id": "877d9c15"
      },
      "outputs": [],
      "source": [
        "x = macbook['used_years']\n",
        "y = macbook['price']"
      ]
    },
    {
      "cell_type": "code",
      "execution_count": null,
      "id": "790111a1",
      "metadata": {
        "id": "790111a1"
      },
      "outputs": [],
      "source": [
        "def model(x,w,b):\n",
        "    y = x * w + b\n",
        "    return y"
      ]
    },
    {
      "cell_type": "code",
      "execution_count": null,
      "id": "bd85aa11",
      "metadata": {
        "id": "bd85aa11"
      },
      "outputs": [],
      "source": [
        "w = 3.1\n",
        "b = 2.3"
      ]
    },
    {
      "cell_type": "code",
      "execution_count": null,
      "id": "7c8c9a98",
      "metadata": {
        "id": "7c8c9a98",
        "outputId": "52621680-b42a-469d-94a4-545b70b39470"
      },
      "outputs": [
        {
          "data": {
            "image/png": "[encoded data removed]",
            "text/plain": [
              "<Figure size 432x288 with 1 Axes>"
            ]
          },
          "metadata": {
            "needs_background": "light"
          },
          "output_type": "display_data"
        }
      ],
      "source": [
        "x = np.linspace(0, 5, 6)\n",
        "y = model(x, w, b) # y = 3.1x + 2.3\n",
        "plt.plot(y, c='r')\n",
        "\n",
        "plt.scatter(macbook['used_years'], macbook['price'])\n",
        "plt.show()"
      ]
    },
    {
      "cell_type": "code",
      "execution_count": null,
      "id": "6664618a",
      "metadata": {
        "id": "6664618a",
        "outputId": "48d44dec-62ea-46a9-c25e-dc08ed2843d9"
      },
      "outputs": [
        {
          "data": {
            "text/plain": [
              "array([2.65, 3.8 , 0.95, 4.5 , 4.45, 2.7 , 3.05, 2.25, 2.3 , 1.85, 1.5 ,\n",
              "       0.95, 2.6 , 0.55, 2.05, 0.75, 3.95, 2.8 , 2.05, 1.15, 1.35, 3.35,\n",
              "       1.35, 2.45, 2.4 , 0.1 , 3.45, 2.35, 0.7 , 1.05, 1.75, 4.1 , 4.5 ,\n",
              "       4.  , 2.  , 2.45, 2.5 , 2.1 , 3.  , 4.05, 2.7 , 2.15, 3.3 , 2.4 ,\n",
              "       2.85, 1.65, 1.55, 2.15, 3.4 , 1.55, 0.8 , 2.95, 2.4 , 1.4 , 1.65,\n",
              "       2.25, 3.85, 3.9 , 4.6 , 2.35, 4.05, 1.2 , 1.95, 1.6 , 2.  , 1.8 ,\n",
              "       3.75, 3.65, 2.35, 2.2 , 1.  , 4.15, 1.1 , 1.55, 2.95, 1.5 , 1.65,\n",
              "       1.1 , 3.25, 0.75])"
            ]
          },
          "execution_count": 8,
          "metadata": {},
          "output_type": "execute_result"
        }
      ],
      "source": [
        "x = macbook[\"used_years\"].values\n",
        "x"
      ]
    },
    {
      "cell_type": "code",
      "execution_count": null,
      "id": "eb49b544",
      "metadata": {
        "id": "eb49b544",
        "outputId": "1de32c30-9560-4240-90a4-e49be4486e51"
      },
      "outputs": [
        {
          "data": {
            "text/plain": [
              "array([10.515, 14.08 ,  5.245, 16.25 , 16.095, 10.67 , 11.755,  9.275,\n",
              "        9.43 ,  8.035,  6.95 ,  5.245, 10.36 ,  4.005,  8.655,  4.625,\n",
              "       14.545, 10.98 ,  8.655,  5.865,  6.485, 12.685,  6.485,  9.895,\n",
              "        9.74 ,  2.61 , 12.995,  9.585,  4.47 ,  5.555,  7.725, 15.01 ,\n",
              "       16.25 , 14.7  ,  8.5  ,  9.895, 10.05 ,  8.81 , 11.6  , 14.855,\n",
              "       10.67 ,  8.965, 12.53 ,  9.74 , 11.135,  7.415,  7.105,  8.965,\n",
              "       12.84 ,  7.105,  4.78 , 11.445,  9.74 ,  6.64 ,  7.415,  9.275,\n",
              "       14.235, 14.39 , 16.56 ,  9.585, 14.855,  6.02 ,  8.345,  7.26 ,\n",
              "        8.5  ,  7.88 , 13.925, 13.615,  9.585,  9.12 ,  5.4  , 15.165,\n",
              "        5.71 ,  7.105, 11.445,  6.95 ,  7.415,  5.71 , 12.375,  4.625])"
            ]
          },
          "execution_count": 9,
          "metadata": {},
          "output_type": "execute_result"
        }
      ],
      "source": [
        "#임의로 정한값 w,b로 x 값을 계산해보면 price와 차이가 나는지 알 수 있다.\n",
        "prediction = model(x,w,b)\n",
        "prediction"
      ]
    },
    {
      "cell_type": "code",
      "execution_count": null,
      "id": "ad95579d",
      "metadata": {
        "id": "ad95579d",
        "outputId": "9fbfde47-80ef-45e4-cd5f-c01bcce5dda3"
      },
      "outputs": [
        {
          "data": {
            "text/html": [
              "<div>\n",
              "<style scoped>\n",
              "    .dataframe tbody tr th:only-of-type {\n",
              "        vertical-align: middle;\n",
              "    }\n",
              "\n",
              "    .dataframe tbody tr th {\n",
              "        vertical-align: top;\n",
              "    }\n",
              "\n",
              "    .dataframe thead th {\n",
              "        text-align: right;\n",
              "    }\n",
              "</style>\n",
              "<table border=\"1\" class=\"dataframe\">\n",
              "  <thead>\n",
              "    <tr style=\"text-align: right;\">\n",
              "      <th></th>\n",
              "      <th>used_years</th>\n",
              "      <th>price</th>\n",
              "      <th>prediction</th>\n",
              "    </tr>\n",
              "  </thead>\n",
              "  <tbody>\n",
              "    <tr>\n",
              "      <th>0</th>\n",
              "      <td>2.65</td>\n",
              "      <td>175</td>\n",
              "      <td>10.515</td>\n",
              "    </tr>\n",
              "    <tr>\n",
              "      <th>1</th>\n",
              "      <td>3.80</td>\n",
              "      <td>63</td>\n",
              "      <td>14.080</td>\n",
              "    </tr>\n",
              "    <tr>\n",
              "      <th>2</th>\n",
              "      <td>0.95</td>\n",
              "      <td>273</td>\n",
              "      <td>5.245</td>\n",
              "    </tr>\n",
              "    <tr>\n",
              "      <th>3</th>\n",
              "      <td>4.50</td>\n",
              "      <td>133</td>\n",
              "      <td>16.250</td>\n",
              "    </tr>\n",
              "    <tr>\n",
              "      <th>4</th>\n",
              "      <td>4.45</td>\n",
              "      <td>106</td>\n",
              "      <td>16.095</td>\n",
              "    </tr>\n",
              "  </tbody>\n",
              "</table>\n",
              "</div>"
            ],
            "text/plain": [
              "   used_years  price  prediction\n",
              "0        2.65    175      10.515\n",
              "1        3.80     63      14.080\n",
              "2        0.95    273       5.245\n",
              "3        4.50    133      16.250\n",
              "4        4.45    106      16.095"
            ]
          },
          "execution_count": 10,
          "metadata": {},
          "output_type": "execute_result"
        }
      ],
      "source": [
        "#prediction -> 예측값\n",
        "macbook['prediction'] = prediction\n",
        "macbook.head()"
      ]
    },
    {
      "cell_type": "code",
      "execution_count": null,
      "id": "d5ae1a1e",
      "metadata": {
        "id": "d5ae1a1e",
        "outputId": "97ff1caf-941f-4112-efca-708de6ed8f8c"
      },
      "outputs": [
        {
          "data": {
            "text/html": [
              "<div>\n",
              "<style scoped>\n",
              "    .dataframe tbody tr th:only-of-type {\n",
              "        vertical-align: middle;\n",
              "    }\n",
              "\n",
              "    .dataframe tbody tr th {\n",
              "        vertical-align: top;\n",
              "    }\n",
              "\n",
              "    .dataframe thead th {\n",
              "        text-align: right;\n",
              "    }\n",
              "</style>\n",
              "<table border=\"1\" class=\"dataframe\">\n",
              "  <thead>\n",
              "    <tr style=\"text-align: right;\">\n",
              "      <th></th>\n",
              "      <th>used_years</th>\n",
              "      <th>price</th>\n",
              "      <th>prediction</th>\n",
              "      <th>error</th>\n",
              "    </tr>\n",
              "  </thead>\n",
              "  <tbody>\n",
              "    <tr>\n",
              "      <th>0</th>\n",
              "      <td>2.65</td>\n",
              "      <td>175</td>\n",
              "      <td>10.515</td>\n",
              "      <td>164.485</td>\n",
              "    </tr>\n",
              "    <tr>\n",
              "      <th>1</th>\n",
              "      <td>3.80</td>\n",
              "      <td>63</td>\n",
              "      <td>14.080</td>\n",
              "      <td>48.920</td>\n",
              "    </tr>\n",
              "    <tr>\n",
              "      <th>2</th>\n",
              "      <td>0.95</td>\n",
              "      <td>273</td>\n",
              "      <td>5.245</td>\n",
              "      <td>267.755</td>\n",
              "    </tr>\n",
              "    <tr>\n",
              "      <th>3</th>\n",
              "      <td>4.50</td>\n",
              "      <td>133</td>\n",
              "      <td>16.250</td>\n",
              "      <td>116.750</td>\n",
              "    </tr>\n",
              "    <tr>\n",
              "      <th>4</th>\n",
              "      <td>4.45</td>\n",
              "      <td>106</td>\n",
              "      <td>16.095</td>\n",
              "      <td>89.905</td>\n",
              "    </tr>\n",
              "  </tbody>\n",
              "</table>\n",
              "</div>"
            ],
            "text/plain": [
              "   used_years  price  prediction    error\n",
              "0        2.65    175      10.515  164.485\n",
              "1        3.80     63      14.080   48.920\n",
              "2        0.95    273       5.245  267.755\n",
              "3        4.50    133      16.250  116.750\n",
              "4        4.45    106      16.095   89.905"
            ]
          },
          "execution_count": 11,
          "metadata": {},
          "output_type": "execute_result"
        }
      ],
      "source": [
        "#error -> 정답과 예측값 간의 차이\n",
        "macbook['error'] = macbook['price'] - macbook['prediction']\n",
        "macbook.head()"
      ]
    },
    {
      "cell_type": "code",
      "execution_count": null,
      "id": "b09e03f2",
      "metadata": {
        "id": "b09e03f2"
      },
      "outputs": [],
      "source": [
        "def RMSE(a,b):    #MSE = 제곱된 오차들의 평균임 RMSE = MSE의 제곱근을 씌움 (루트)\n",
        "    mse = ((a-b)**2).mean()\n",
        "    rmse = mse ** 0.5\n",
        "    return rmse"
      ]
    },
    {
      "cell_type": "code",
      "execution_count": null,
      "id": "f77b194a",
      "metadata": {
        "id": "f77b194a",
        "outputId": "fd81ff5f-ec51-461f-f4da-58d447a7528b"
      },
      "outputs": [
        {
          "name": "stdout",
          "output_type": "stream",
          "text": [
            "[10.515 14.08   5.245 16.25  16.095 10.67  11.755  9.275  9.43   8.035\n",
            "  6.95   5.245 10.36   4.005  8.655  4.625 14.545 10.98   8.655  5.865\n",
            "  6.485 12.685  6.485  9.895  9.74   2.61  12.995  9.585  4.47   5.555\n",
            "  7.725 15.01  16.25  14.7    8.5    9.895 10.05   8.81  11.6   14.855\n",
            " 10.67   8.965 12.53   9.74  11.135  7.415  7.105  8.965 12.84   7.105\n",
            "  4.78  11.445  9.74   6.64   7.415  9.275 14.235 14.39  16.56   9.585\n",
            " 14.855  6.02   8.345  7.26   8.5    7.88  13.925 13.615  9.585  9.12\n",
            "  5.4   15.165  5.71   7.105 11.445  6.95   7.415  5.71  12.375  4.625]\n"
          ]
        }
      ],
      "source": [
        "x = macbook[\"used_years\"].values\n",
        "y = macbook[\"price\"].values\n",
        "\n",
        "predictions = model(x, w, b)\n",
        "print(predictions)"
      ]
    },
    {
      "cell_type": "code",
      "execution_count": null,
      "id": "01e37c29",
      "metadata": {
        "id": "01e37c29",
        "outputId": "20f52d03-6bd1-45e7-fd19-b7fc4f9dacea"
      },
      "outputs": [
        {
          "data": {
            "text/plain": [
              "188.81322969819274"
            ]
          },
          "execution_count": 14,
          "metadata": {},
          "output_type": "execute_result"
        }
      ],
      "source": [
        "rmse = RMSE(predictions, y)\n",
        "rmse"
      ]
    },
    {
      "cell_type": "code",
      "execution_count": null,
      "id": "2bfc378b",
      "metadata": {
        "id": "2bfc378b"
      },
      "outputs": [],
      "source": [
        "#손실함수\n",
        "def loss(x,w,b,y):\n",
        "    predictions = model(x,w,b)\n",
        "    L = RMSE(predictions,y)\n",
        "    return L"
      ]
    },
    {
      "cell_type": "code",
      "execution_count": null,
      "id": "50d48e06",
      "metadata": {
        "id": "50d48e06"
      },
      "outputs": [],
      "source": [
        "#x,w,b,y를 입력받아 손실함수값을 계산한 후, w와 b 각각에 대한 기울기를 계산해줌\n",
        "def gradient(x, w, b, y):\n",
        "    dw = (loss(x, w + 0.0001, b, y) - loss(x, w, b, y)) / 0.0001\n",
        "    db = (loss(x, w, b + 0.0001, y) - loss(x, w, b, y)) / 0.0001\n",
        "    return dw, db"
      ]
    },
    {
      "cell_type": "code",
      "execution_count": null,
      "id": "48dc196f",
      "metadata": {
        "id": "48dc196f"
      },
      "outputs": [],
      "source": [
        "#하이퍼 파라미터\n",
        "\n",
        "#경사하강법에서 필요했던 학습률 η 상수를 정의하고 시작\n",
        "LEARNING_RATE = 1"
      ]
    },
    {
      "cell_type": "code",
      "execution_count": null,
      "id": "817644b8",
      "metadata": {
        "id": "817644b8"
      },
      "outputs": [],
      "source": [
        "#학습이 어떤식으로 진행되는지 보여줌\n",
        "losses = []"
      ]
    },
    {
      "cell_type": "code",
      "execution_count": null,
      "id": "cf26fa08",
      "metadata": {
        "id": "cf26fa08",
        "outputId": "b89393b3-feb2-4b8f-e89e-1217eb160639"
      },
      "outputs": [
        {
          "name": "stdout",
          "output_type": "stream",
          "text": [
            "Iteration 100 : Loss 108.0080\n",
            "Iteration 200 : Loss 94.5709\n",
            "Iteration 300 : Loss 81.8560\n",
            "Iteration 400 : Loss 70.1799\n",
            "Iteration 500 : Loss 59.9778\n",
            "Iteration 600 : Loss 51.7475\n",
            "Iteration 700 : Loss 45.8356\n",
            "Iteration 800 : Loss 42.1474\n",
            "Iteration 900 : Loss 40.1357\n",
            "Iteration 1000 : Loss 39.1420\n",
            "Iteration 1100 : Loss 38.6793\n",
            "Iteration 1200 : Loss 38.4703\n",
            "Iteration 1300 : Loss 38.3772\n",
            "Iteration 1400 : Loss 38.3360\n",
            "Iteration 1500 : Loss 38.3179\n",
            "Iteration 1600 : Loss 38.3099\n",
            "Iteration 1700 : Loss 38.3064\n",
            "Iteration 1800 : Loss 38.3048\n",
            "Iteration 1900 : Loss 38.3041\n",
            "Iteration 2000 : Loss 38.3038\n"
          ]
        }
      ],
      "source": [
        "#학습\n",
        "for i in range(1,2001):\n",
        "    dw,db = gradient(x,w,b,y)\n",
        "    w -= LEARNING_RATE * dw\n",
        "    b -= LEARNING_RATE * db\n",
        "    L = loss(x,w,b,y)\n",
        "    losses.append(L)\n",
        "    if i%100 == 0:\n",
        "        print('Iteration %d : Loss %0.4f' % (i,L))"
      ]
    },
    {
      "cell_type": "code",
      "execution_count": null,
      "id": "bdad8d1e",
      "metadata": {
        "id": "bdad8d1e",
        "outputId": "2c46f71d-8715-4c6c-81bd-912b5caa0c04"
      },
      "outputs": [
        {
          "data": {
            "image/png": "[encoded data removed]",
            "text/plain": [
              "<Figure size 432x288 with 1 Axes>"
            ]
          },
          "metadata": {
            "needs_background": "light"
          },
          "output_type": "display_data"
        }
      ],
      "source": [
        "plt.plot(losses)\n",
        "plt.show()"
      ]
    },
    {
      "cell_type": "code",
      "execution_count": null,
      "id": "38edc50f",
      "metadata": {
        "id": "38edc50f",
        "outputId": "e176ee2a-a8b3-4661-d7f9-9cd2100b78fb"
      },
      "outputs": [
        {
          "data": {
            "text/plain": [
              "(-44.92756090768412, 293.0815786721102)"
            ]
          },
          "execution_count": 21,
          "metadata": {},
          "output_type": "execute_result"
        }
      ],
      "source": [
        "w,b"
      ]
    },
    {
      "cell_type": "code",
      "execution_count": null,
      "id": "d9d5b07a",
      "metadata": {
        "id": "d9d5b07a",
        "outputId": "d84df7cb-55bc-4089-b38f-2c5de05e976e"
      },
      "outputs": [
        {
          "data": {
            "image/png": "[encoded data removed]",
            "text/plain": [
              "<Figure size 432x288 with 1 Axes>"
            ]
          },
          "metadata": {
            "needs_background": "light"
          },
          "output_type": "display_data"
        }
      ],
      "source": [
        "#모델에 넣을 x값 준비\n",
        "x = np.linspace(0,5,6)\n",
        "\n",
        "#x,w,b를 모델에 넣어 y값 출력\n",
        "y = model(x,w,b)\n",
        "\n",
        "#일차함수 그리기\n",
        "plt.plot(y, c='r')\n",
        "\n",
        "plt.scatter(macbook['used_years'], macbook['price'])\n",
        "plt.show()"
      ]
    },
    {
      "cell_type": "code",
      "execution_count": null,
      "id": "f5eee446",
      "metadata": {
        "id": "f5eee446",
        "outputId": "18ebd6bb-656a-4968-ab3b-c5c4aa6a1e58"
      },
      "outputs": [
        {
          "name": "stdout",
          "output_type": "stream",
          "text": [
            "(20, 2)\n"
          ]
        },
        {
          "data": {
            "text/html": [
              "<div>\n",
              "<style scoped>\n",
              "    .dataframe tbody tr th:only-of-type {\n",
              "        vertical-align: middle;\n",
              "    }\n",
              "\n",
              "    .dataframe tbody tr th {\n",
              "        vertical-align: top;\n",
              "    }\n",
              "\n",
              "    .dataframe thead th {\n",
              "        text-align: right;\n",
              "    }\n",
              "</style>\n",
              "<table border=\"1\" class=\"dataframe\">\n",
              "  <thead>\n",
              "    <tr style=\"text-align: right;\">\n",
              "      <th></th>\n",
              "      <th>used_years</th>\n",
              "      <th>price</th>\n",
              "    </tr>\n",
              "  </thead>\n",
              "  <tbody>\n",
              "    <tr>\n",
              "      <th>0</th>\n",
              "      <td>1.20</td>\n",
              "      <td>203</td>\n",
              "    </tr>\n",
              "    <tr>\n",
              "      <th>1</th>\n",
              "      <td>1.85</td>\n",
              "      <td>206</td>\n",
              "    </tr>\n",
              "    <tr>\n",
              "      <th>2</th>\n",
              "      <td>2.40</td>\n",
              "      <td>191</td>\n",
              "    </tr>\n",
              "    <tr>\n",
              "      <th>3</th>\n",
              "      <td>2.85</td>\n",
              "      <td>164</td>\n",
              "    </tr>\n",
              "    <tr>\n",
              "      <th>4</th>\n",
              "      <td>3.05</td>\n",
              "      <td>176</td>\n",
              "    </tr>\n",
              "  </tbody>\n",
              "</table>\n",
              "</div>"
            ],
            "text/plain": [
              "   used_years  price\n",
              "0        1.20    203\n",
              "1        1.85    206\n",
              "2        2.40    191\n",
              "3        2.85    164\n",
              "4        3.05    176"
            ]
          },
          "execution_count": 23,
          "metadata": {},
          "output_type": "execute_result"
        }
      ],
      "source": [
        "#학습과정에서 보지 않았던 새로운 데이터도 잘 예측하는지 확인\n",
        "\n",
        "#새로운 데이터 macbook_test\n",
        "test = pd.read_csv(\"~/aiffel/bike_regression/data/macbook_test.csv\")\n",
        "print(test.shape)\n",
        "test.head()"
      ]
    },
    {
      "cell_type": "code",
      "execution_count": null,
      "id": "29493a18",
      "metadata": {
        "id": "29493a18"
      },
      "outputs": [],
      "source": [
        "test_x = test['used_years'].values\n",
        "test_y = test['price'].values"
      ]
    },
    {
      "cell_type": "code",
      "execution_count": null,
      "id": "93b842a7",
      "metadata": {
        "id": "93b842a7",
        "outputId": "11b33492-7973-406d-c3e9-103416a4fc51"
      },
      "outputs": [
        {
          "data": {
            "text/html": [
              "<div>\n",
              "<style scoped>\n",
              "    .dataframe tbody tr th:only-of-type {\n",
              "        vertical-align: middle;\n",
              "    }\n",
              "\n",
              "    .dataframe tbody tr th {\n",
              "        vertical-align: top;\n",
              "    }\n",
              "\n",
              "    .dataframe thead th {\n",
              "        text-align: right;\n",
              "    }\n",
              "</style>\n",
              "<table border=\"1\" class=\"dataframe\">\n",
              "  <thead>\n",
              "    <tr style=\"text-align: right;\">\n",
              "      <th></th>\n",
              "      <th>used_years</th>\n",
              "      <th>price</th>\n",
              "      <th>prediction</th>\n",
              "    </tr>\n",
              "  </thead>\n",
              "  <tbody>\n",
              "    <tr>\n",
              "      <th>0</th>\n",
              "      <td>1.20</td>\n",
              "      <td>203</td>\n",
              "      <td>239.168506</td>\n",
              "    </tr>\n",
              "    <tr>\n",
              "      <th>1</th>\n",
              "      <td>1.85</td>\n",
              "      <td>206</td>\n",
              "      <td>209.965591</td>\n",
              "    </tr>\n",
              "    <tr>\n",
              "      <th>2</th>\n",
              "      <td>2.40</td>\n",
              "      <td>191</td>\n",
              "      <td>185.255432</td>\n",
              "    </tr>\n",
              "    <tr>\n",
              "      <th>3</th>\n",
              "      <td>2.85</td>\n",
              "      <td>164</td>\n",
              "      <td>165.038030</td>\n",
              "    </tr>\n",
              "    <tr>\n",
              "      <th>4</th>\n",
              "      <td>3.05</td>\n",
              "      <td>176</td>\n",
              "      <td>156.052518</td>\n",
              "    </tr>\n",
              "    <tr>\n",
              "      <th>5</th>\n",
              "      <td>3.35</td>\n",
              "      <td>136</td>\n",
              "      <td>142.574250</td>\n",
              "    </tr>\n",
              "    <tr>\n",
              "      <th>6</th>\n",
              "      <td>2.55</td>\n",
              "      <td>133</td>\n",
              "      <td>178.516298</td>\n",
              "    </tr>\n",
              "    <tr>\n",
              "      <th>7</th>\n",
              "      <td>2.60</td>\n",
              "      <td>181</td>\n",
              "      <td>176.269920</td>\n",
              "    </tr>\n",
              "    <tr>\n",
              "      <th>8</th>\n",
              "      <td>2.50</td>\n",
              "      <td>181</td>\n",
              "      <td>180.762676</td>\n",
              "    </tr>\n",
              "    <tr>\n",
              "      <th>9</th>\n",
              "      <td>3.10</td>\n",
              "      <td>86</td>\n",
              "      <td>153.806140</td>\n",
              "    </tr>\n",
              "    <tr>\n",
              "      <th>10</th>\n",
              "      <td>2.70</td>\n",
              "      <td>171</td>\n",
              "      <td>171.777164</td>\n",
              "    </tr>\n",
              "    <tr>\n",
              "      <th>11</th>\n",
              "      <td>3.40</td>\n",
              "      <td>253</td>\n",
              "      <td>140.327872</td>\n",
              "    </tr>\n",
              "    <tr>\n",
              "      <th>12</th>\n",
              "      <td>1.30</td>\n",
              "      <td>263</td>\n",
              "      <td>234.675749</td>\n",
              "    </tr>\n",
              "    <tr>\n",
              "      <th>13</th>\n",
              "      <td>1.80</td>\n",
              "      <td>129</td>\n",
              "      <td>212.211969</td>\n",
              "    </tr>\n",
              "    <tr>\n",
              "      <th>14</th>\n",
              "      <td>3.10</td>\n",
              "      <td>135</td>\n",
              "      <td>153.806140</td>\n",
              "    </tr>\n",
              "    <tr>\n",
              "      <th>15</th>\n",
              "      <td>1.55</td>\n",
              "      <td>236</td>\n",
              "      <td>223.443859</td>\n",
              "    </tr>\n",
              "    <tr>\n",
              "      <th>16</th>\n",
              "      <td>1.80</td>\n",
              "      <td>206</td>\n",
              "      <td>212.211969</td>\n",
              "    </tr>\n",
              "    <tr>\n",
              "      <th>17</th>\n",
              "      <td>3.55</td>\n",
              "      <td>203</td>\n",
              "      <td>133.588737</td>\n",
              "    </tr>\n",
              "    <tr>\n",
              "      <th>18</th>\n",
              "      <td>3.40</td>\n",
              "      <td>96</td>\n",
              "      <td>140.327872</td>\n",
              "    </tr>\n",
              "    <tr>\n",
              "      <th>19</th>\n",
              "      <td>2.50</td>\n",
              "      <td>115</td>\n",
              "      <td>180.762676</td>\n",
              "    </tr>\n",
              "  </tbody>\n",
              "</table>\n",
              "</div>"
            ],
            "text/plain": [
              "    used_years  price  prediction\n",
              "0         1.20    203  239.168506\n",
              "1         1.85    206  209.965591\n",
              "2         2.40    191  185.255432\n",
              "3         2.85    164  165.038030\n",
              "4         3.05    176  156.052518\n",
              "5         3.35    136  142.574250\n",
              "6         2.55    133  178.516298\n",
              "7         2.60    181  176.269920\n",
              "8         2.50    181  180.762676\n",
              "9         3.10     86  153.806140\n",
              "10        2.70    171  171.777164\n",
              "11        3.40    253  140.327872\n",
              "12        1.30    263  234.675749\n",
              "13        1.80    129  212.211969\n",
              "14        3.10    135  153.806140\n",
              "15        1.55    236  223.443859\n",
              "16        1.80    206  212.211969\n",
              "17        3.55    203  133.588737\n",
              "18        3.40     96  140.327872\n",
              "19        2.50    115  180.762676"
            ]
          },
          "execution_count": 25,
          "metadata": {},
          "output_type": "execute_result"
        }
      ],
      "source": [
        "prediction = model(test_x, w, b)\n",
        "test['prediction'] = prediction\n",
        "test"
      ]
    },
    {
      "cell_type": "code",
      "execution_count": null,
      "id": "782487cc",
      "metadata": {
        "id": "782487cc",
        "outputId": "c6f77086-7df3-4867-8391-956b3b5f2b5c"
      },
      "outputs": [
        {
          "data": {
            "text/html": [
              "<div>\n",
              "<style scoped>\n",
              "    .dataframe tbody tr th:only-of-type {\n",
              "        vertical-align: middle;\n",
              "    }\n",
              "\n",
              "    .dataframe tbody tr th {\n",
              "        vertical-align: top;\n",
              "    }\n",
              "\n",
              "    .dataframe thead th {\n",
              "        text-align: right;\n",
              "    }\n",
              "</style>\n",
              "<table border=\"1\" class=\"dataframe\">\n",
              "  <thead>\n",
              "    <tr style=\"text-align: right;\">\n",
              "      <th></th>\n",
              "      <th>used_years</th>\n",
              "      <th>price</th>\n",
              "      <th>prediction</th>\n",
              "      <th>error</th>\n",
              "    </tr>\n",
              "  </thead>\n",
              "  <tbody>\n",
              "    <tr>\n",
              "      <th>0</th>\n",
              "      <td>1.20</td>\n",
              "      <td>203</td>\n",
              "      <td>239.168506</td>\n",
              "      <td>-36.168506</td>\n",
              "    </tr>\n",
              "    <tr>\n",
              "      <th>1</th>\n",
              "      <td>1.85</td>\n",
              "      <td>206</td>\n",
              "      <td>209.965591</td>\n",
              "      <td>-3.965591</td>\n",
              "    </tr>\n",
              "    <tr>\n",
              "      <th>2</th>\n",
              "      <td>2.40</td>\n",
              "      <td>191</td>\n",
              "      <td>185.255432</td>\n",
              "      <td>5.744568</td>\n",
              "    </tr>\n",
              "    <tr>\n",
              "      <th>3</th>\n",
              "      <td>2.85</td>\n",
              "      <td>164</td>\n",
              "      <td>165.038030</td>\n",
              "      <td>-1.038030</td>\n",
              "    </tr>\n",
              "    <tr>\n",
              "      <th>4</th>\n",
              "      <td>3.05</td>\n",
              "      <td>176</td>\n",
              "      <td>156.052518</td>\n",
              "      <td>19.947482</td>\n",
              "    </tr>\n",
              "    <tr>\n",
              "      <th>5</th>\n",
              "      <td>3.35</td>\n",
              "      <td>136</td>\n",
              "      <td>142.574250</td>\n",
              "      <td>-6.574250</td>\n",
              "    </tr>\n",
              "    <tr>\n",
              "      <th>6</th>\n",
              "      <td>2.55</td>\n",
              "      <td>133</td>\n",
              "      <td>178.516298</td>\n",
              "      <td>-45.516298</td>\n",
              "    </tr>\n",
              "    <tr>\n",
              "      <th>7</th>\n",
              "      <td>2.60</td>\n",
              "      <td>181</td>\n",
              "      <td>176.269920</td>\n",
              "      <td>4.730080</td>\n",
              "    </tr>\n",
              "    <tr>\n",
              "      <th>8</th>\n",
              "      <td>2.50</td>\n",
              "      <td>181</td>\n",
              "      <td>180.762676</td>\n",
              "      <td>0.237324</td>\n",
              "    </tr>\n",
              "    <tr>\n",
              "      <th>9</th>\n",
              "      <td>3.10</td>\n",
              "      <td>86</td>\n",
              "      <td>153.806140</td>\n",
              "      <td>-67.806140</td>\n",
              "    </tr>\n",
              "    <tr>\n",
              "      <th>10</th>\n",
              "      <td>2.70</td>\n",
              "      <td>171</td>\n",
              "      <td>171.777164</td>\n",
              "      <td>-0.777164</td>\n",
              "    </tr>\n",
              "    <tr>\n",
              "      <th>11</th>\n",
              "      <td>3.40</td>\n",
              "      <td>253</td>\n",
              "      <td>140.327872</td>\n",
              "      <td>112.672128</td>\n",
              "    </tr>\n",
              "    <tr>\n",
              "      <th>12</th>\n",
              "      <td>1.30</td>\n",
              "      <td>263</td>\n",
              "      <td>234.675749</td>\n",
              "      <td>28.324251</td>\n",
              "    </tr>\n",
              "    <tr>\n",
              "      <th>13</th>\n",
              "      <td>1.80</td>\n",
              "      <td>129</td>\n",
              "      <td>212.211969</td>\n",
              "      <td>-83.211969</td>\n",
              "    </tr>\n",
              "    <tr>\n",
              "      <th>14</th>\n",
              "      <td>3.10</td>\n",
              "      <td>135</td>\n",
              "      <td>153.806140</td>\n",
              "      <td>-18.806140</td>\n",
              "    </tr>\n",
              "    <tr>\n",
              "      <th>15</th>\n",
              "      <td>1.55</td>\n",
              "      <td>236</td>\n",
              "      <td>223.443859</td>\n",
              "      <td>12.556141</td>\n",
              "    </tr>\n",
              "    <tr>\n",
              "      <th>16</th>\n",
              "      <td>1.80</td>\n",
              "      <td>206</td>\n",
              "      <td>212.211969</td>\n",
              "      <td>-6.211969</td>\n",
              "    </tr>\n",
              "    <tr>\n",
              "      <th>17</th>\n",
              "      <td>3.55</td>\n",
              "      <td>203</td>\n",
              "      <td>133.588737</td>\n",
              "      <td>69.411263</td>\n",
              "    </tr>\n",
              "    <tr>\n",
              "      <th>18</th>\n",
              "      <td>3.40</td>\n",
              "      <td>96</td>\n",
              "      <td>140.327872</td>\n",
              "      <td>-44.327872</td>\n",
              "    </tr>\n",
              "    <tr>\n",
              "      <th>19</th>\n",
              "      <td>2.50</td>\n",
              "      <td>115</td>\n",
              "      <td>180.762676</td>\n",
              "      <td>-65.762676</td>\n",
              "    </tr>\n",
              "  </tbody>\n",
              "</table>\n",
              "</div>"
            ],
            "text/plain": [
              "    used_years  price  prediction       error\n",
              "0         1.20    203  239.168506  -36.168506\n",
              "1         1.85    206  209.965591   -3.965591\n",
              "2         2.40    191  185.255432    5.744568\n",
              "3         2.85    164  165.038030   -1.038030\n",
              "4         3.05    176  156.052518   19.947482\n",
              "5         3.35    136  142.574250   -6.574250\n",
              "6         2.55    133  178.516298  -45.516298\n",
              "7         2.60    181  176.269920    4.730080\n",
              "8         2.50    181  180.762676    0.237324\n",
              "9         3.10     86  153.806140  -67.806140\n",
              "10        2.70    171  171.777164   -0.777164\n",
              "11        3.40    253  140.327872  112.672128\n",
              "12        1.30    263  234.675749   28.324251\n",
              "13        1.80    129  212.211969  -83.211969\n",
              "14        3.10    135  153.806140  -18.806140\n",
              "15        1.55    236  223.443859   12.556141\n",
              "16        1.80    206  212.211969   -6.211969\n",
              "17        3.55    203  133.588737   69.411263\n",
              "18        3.40     96  140.327872  -44.327872\n",
              "19        2.50    115  180.762676  -65.762676"
            ]
          },
          "execution_count": 26,
          "metadata": {},
          "output_type": "execute_result"
        }
      ],
      "source": [
        "test['error'] = test['price'] - test['prediction']\n",
        "test"
      ]
    },
    {
      "cell_type": "code",
      "execution_count": null,
      "id": "10696520",
      "metadata": {
        "id": "10696520",
        "outputId": "61533547-a60b-4ebd-8e23-0431e6abdfd6"
      },
      "outputs": [
        {
          "data": {
            "text/plain": [
              "45.03918284717212"
            ]
          },
          "execution_count": 27,
          "metadata": {},
          "output_type": "execute_result"
        }
      ],
      "source": [
        "rmse = ((test['error'] ** 2).sum() / len(test)) ** 0.5\n",
        "rmse"
      ]
    },
    {
      "cell_type": "code",
      "execution_count": null,
      "id": "49a9cdb8",
      "metadata": {
        "id": "49a9cdb8",
        "outputId": "74138132-4890-46ad-bd27-842ad9f873b5"
      },
      "outputs": [
        {
          "data": {
            "image/png": "[encoded data removed]",
            "text/plain": [
              "<Figure size 432x288 with 1 Axes>"
            ]
          },
          "metadata": {
            "needs_background": "light"
          },
          "output_type": "display_data"
        }
      ],
      "source": [
        "# 모델 일차함수 그리기\n",
        "x = np.linspace(0, 5, 6)\n",
        "y = model(x, w, b)\n",
        "plt.plot(y, c=\"r\")\n",
        "\n",
        "# 실제 데이터 값\n",
        "plt.scatter(test['used_years'], test['price'])\n",
        "\n",
        "# 모델이 예측한 값\n",
        "plt.scatter(test['used_years'], test['prediction'])\n",
        "plt.show()"
      ]
    },
    {
      "cell_type": "code",
      "execution_count": null,
      "id": "a0381157",
      "metadata": {
        "id": "a0381157"
      },
      "outputs": [],
      "source": []
    },
    {
      "cell_type": "code",
      "execution_count": null,
      "id": "bf873656",
      "metadata": {
        "id": "bf873656"
      },
      "outputs": [],
      "source": [
        "# 다양한 정보로 원하는 값 예측해보기"
      ]
    },
    {
      "cell_type": "code",
      "execution_count": null,
      "id": "66f11e60",
      "metadata": {
        "id": "66f11e60",
        "outputId": "e631c235-4687-44ec-a782-8a8b0f0c3b42"
      },
      "outputs": [
        {
          "data": {
            "text/plain": [
              "['anagrams',\n",
              " 'anscombe',\n",
              " 'attention',\n",
              " 'brain_networks',\n",
              " 'car_crashes',\n",
              " 'diamonds',\n",
              " 'dots',\n",
              " 'dowjones',\n",
              " 'exercise',\n",
              " 'flights',\n",
              " 'fmri',\n",
              " 'geyser',\n",
              " 'glue',\n",
              " 'healthexp',\n",
              " 'iris',\n",
              " 'mpg',\n",
              " 'penguins',\n",
              " 'planets',\n",
              " 'seaice',\n",
              " 'taxis',\n",
              " 'tips',\n",
              " 'titanic']"
            ]
          },
          "execution_count": 30,
          "metadata": {},
          "output_type": "execute_result"
        }
      ],
      "source": [
        "#seaborn은 간단한 데이터셋으로 여러 실험을 해볼 수 있는 샘플 데이터셋을 제공함\n",
        "#제공되는 데이터셋 확인해보기\n",
        "import seaborn as sns\n",
        "sns.get_dataset_names()"
      ]
    },
    {
      "cell_type": "code",
      "execution_count": null,
      "id": "b7ede1b3",
      "metadata": {
        "id": "b7ede1b3",
        "outputId": "4084998d-f672-4d52-dee1-4d69007713e8"
      },
      "outputs": [
        {
          "data": {
            "text/html": [
              "<div>\n",
              "<style scoped>\n",
              "    .dataframe tbody tr th:only-of-type {\n",
              "        vertical-align: middle;\n",
              "    }\n",
              "\n",
              "    .dataframe tbody tr th {\n",
              "        vertical-align: top;\n",
              "    }\n",
              "\n",
              "    .dataframe thead th {\n",
              "        text-align: right;\n",
              "    }\n",
              "</style>\n",
              "<table border=\"1\" class=\"dataframe\">\n",
              "  <thead>\n",
              "    <tr style=\"text-align: right;\">\n",
              "      <th></th>\n",
              "      <th>total_bill</th>\n",
              "      <th>tip</th>\n",
              "      <th>sex</th>\n",
              "      <th>smoker</th>\n",
              "      <th>day</th>\n",
              "      <th>time</th>\n",
              "      <th>size</th>\n",
              "    </tr>\n",
              "  </thead>\n",
              "  <tbody>\n",
              "    <tr>\n",
              "      <th>0</th>\n",
              "      <td>16.99</td>\n",
              "      <td>1.01</td>\n",
              "      <td>Female</td>\n",
              "      <td>No</td>\n",
              "      <td>Sun</td>\n",
              "      <td>Dinner</td>\n",
              "      <td>2</td>\n",
              "    </tr>\n",
              "    <tr>\n",
              "      <th>1</th>\n",
              "      <td>10.34</td>\n",
              "      <td>1.66</td>\n",
              "      <td>Male</td>\n",
              "      <td>No</td>\n",
              "      <td>Sun</td>\n",
              "      <td>Dinner</td>\n",
              "      <td>3</td>\n",
              "    </tr>\n",
              "    <tr>\n",
              "      <th>2</th>\n",
              "      <td>21.01</td>\n",
              "      <td>3.50</td>\n",
              "      <td>Male</td>\n",
              "      <td>No</td>\n",
              "      <td>Sun</td>\n",
              "      <td>Dinner</td>\n",
              "      <td>3</td>\n",
              "    </tr>\n",
              "    <tr>\n",
              "      <th>3</th>\n",
              "      <td>23.68</td>\n",
              "      <td>3.31</td>\n",
              "      <td>Male</td>\n",
              "      <td>No</td>\n",
              "      <td>Sun</td>\n",
              "      <td>Dinner</td>\n",
              "      <td>2</td>\n",
              "    </tr>\n",
              "    <tr>\n",
              "      <th>4</th>\n",
              "      <td>24.59</td>\n",
              "      <td>3.61</td>\n",
              "      <td>Female</td>\n",
              "      <td>No</td>\n",
              "      <td>Sun</td>\n",
              "      <td>Dinner</td>\n",
              "      <td>4</td>\n",
              "    </tr>\n",
              "  </tbody>\n",
              "</table>\n",
              "</div>"
            ],
            "text/plain": [
              "   total_bill   tip     sex smoker  day    time  size\n",
              "0       16.99  1.01  Female     No  Sun  Dinner     2\n",
              "1       10.34  1.66    Male     No  Sun  Dinner     3\n",
              "2       21.01  3.50    Male     No  Sun  Dinner     3\n",
              "3       23.68  3.31    Male     No  Sun  Dinner     2\n",
              "4       24.59  3.61  Female     No  Sun  Dinner     4"
            ]
          },
          "execution_count": 31,
          "metadata": {},
          "output_type": "execute_result"
        }
      ],
      "source": [
        "tips = sns.load_dataset('tips')\n",
        "tips.head()"
      ]
    },
    {
      "cell_type": "code",
      "execution_count": null,
      "id": "4670a0e6",
      "metadata": {
        "scrolled": true,
        "id": "4670a0e6",
        "outputId": "5ced31c5-cead-4580-8cb9-a0e1fc7a4e49"
      },
      "outputs": [
        {
          "data": {
            "text/html": [
              "<div>\n",
              "<style scoped>\n",
              "    .dataframe tbody tr th:only-of-type {\n",
              "        vertical-align: middle;\n",
              "    }\n",
              "\n",
              "    .dataframe tbody tr th {\n",
              "        vertical-align: top;\n",
              "    }\n",
              "\n",
              "    .dataframe thead th {\n",
              "        text-align: right;\n",
              "    }\n",
              "</style>\n",
              "<table border=\"1\" class=\"dataframe\">\n",
              "  <thead>\n",
              "    <tr style=\"text-align: right;\">\n",
              "      <th></th>\n",
              "      <th>total_bill</th>\n",
              "      <th>tip</th>\n",
              "      <th>size</th>\n",
              "      <th>sex_Male</th>\n",
              "      <th>sex_Female</th>\n",
              "      <th>smoker_Yes</th>\n",
              "      <th>smoker_No</th>\n",
              "      <th>day_Thur</th>\n",
              "      <th>day_Fri</th>\n",
              "      <th>day_Sat</th>\n",
              "      <th>day_Sun</th>\n",
              "      <th>time_Lunch</th>\n",
              "      <th>time_Dinner</th>\n",
              "    </tr>\n",
              "  </thead>\n",
              "  <tbody>\n",
              "    <tr>\n",
              "      <th>0</th>\n",
              "      <td>16.99</td>\n",
              "      <td>1.01</td>\n",
              "      <td>2</td>\n",
              "      <td>0</td>\n",
              "      <td>1</td>\n",
              "      <td>0</td>\n",
              "      <td>1</td>\n",
              "      <td>0</td>\n",
              "      <td>0</td>\n",
              "      <td>0</td>\n",
              "      <td>1</td>\n",
              "      <td>0</td>\n",
              "      <td>1</td>\n",
              "    </tr>\n",
              "    <tr>\n",
              "      <th>1</th>\n",
              "      <td>10.34</td>\n",
              "      <td>1.66</td>\n",
              "      <td>3</td>\n",
              "      <td>1</td>\n",
              "      <td>0</td>\n",
              "      <td>0</td>\n",
              "      <td>1</td>\n",
              "      <td>0</td>\n",
              "      <td>0</td>\n",
              "      <td>0</td>\n",
              "      <td>1</td>\n",
              "      <td>0</td>\n",
              "      <td>1</td>\n",
              "    </tr>\n",
              "    <tr>\n",
              "      <th>2</th>\n",
              "      <td>21.01</td>\n",
              "      <td>3.50</td>\n",
              "      <td>3</td>\n",
              "      <td>1</td>\n",
              "      <td>0</td>\n",
              "      <td>0</td>\n",
              "      <td>1</td>\n",
              "      <td>0</td>\n",
              "      <td>0</td>\n",
              "      <td>0</td>\n",
              "      <td>1</td>\n",
              "      <td>0</td>\n",
              "      <td>1</td>\n",
              "    </tr>\n",
              "    <tr>\n",
              "      <th>3</th>\n",
              "      <td>23.68</td>\n",
              "      <td>3.31</td>\n",
              "      <td>2</td>\n",
              "      <td>1</td>\n",
              "      <td>0</td>\n",
              "      <td>0</td>\n",
              "      <td>1</td>\n",
              "      <td>0</td>\n",
              "      <td>0</td>\n",
              "      <td>0</td>\n",
              "      <td>1</td>\n",
              "      <td>0</td>\n",
              "      <td>1</td>\n",
              "    </tr>\n",
              "    <tr>\n",
              "      <th>4</th>\n",
              "      <td>24.59</td>\n",
              "      <td>3.61</td>\n",
              "      <td>4</td>\n",
              "      <td>0</td>\n",
              "      <td>1</td>\n",
              "      <td>0</td>\n",
              "      <td>1</td>\n",
              "      <td>0</td>\n",
              "      <td>0</td>\n",
              "      <td>0</td>\n",
              "      <td>1</td>\n",
              "      <td>0</td>\n",
              "      <td>1</td>\n",
              "    </tr>\n",
              "    <tr>\n",
              "      <th>...</th>\n",
              "      <td>...</td>\n",
              "      <td>...</td>\n",
              "      <td>...</td>\n",
              "      <td>...</td>\n",
              "      <td>...</td>\n",
              "      <td>...</td>\n",
              "      <td>...</td>\n",
              "      <td>...</td>\n",
              "      <td>...</td>\n",
              "      <td>...</td>\n",
              "      <td>...</td>\n",
              "      <td>...</td>\n",
              "      <td>...</td>\n",
              "    </tr>\n",
              "    <tr>\n",
              "      <th>239</th>\n",
              "      <td>29.03</td>\n",
              "      <td>5.92</td>\n",
              "      <td>3</td>\n",
              "      <td>1</td>\n",
              "      <td>0</td>\n",
              "      <td>0</td>\n",
              "      <td>1</td>\n",
              "      <td>0</td>\n",
              "      <td>0</td>\n",
              "      <td>1</td>\n",
              "      <td>0</td>\n",
              "      <td>0</td>\n",
              "      <td>1</td>\n",
              "    </tr>\n",
              "    <tr>\n",
              "      <th>240</th>\n",
              "      <td>27.18</td>\n",
              "      <td>2.00</td>\n",
              "      <td>2</td>\n",
              "      <td>0</td>\n",
              "      <td>1</td>\n",
              "      <td>1</td>\n",
              "      <td>0</td>\n",
              "      <td>0</td>\n",
              "      <td>0</td>\n",
              "      <td>1</td>\n",
              "      <td>0</td>\n",
              "      <td>0</td>\n",
              "      <td>1</td>\n",
              "    </tr>\n",
              "    <tr>\n",
              "      <th>241</th>\n",
              "      <td>22.67</td>\n",
              "      <td>2.00</td>\n",
              "      <td>2</td>\n",
              "      <td>1</td>\n",
              "      <td>0</td>\n",
              "      <td>1</td>\n",
              "      <td>0</td>\n",
              "      <td>0</td>\n",
              "      <td>0</td>\n",
              "      <td>1</td>\n",
              "      <td>0</td>\n",
              "      <td>0</td>\n",
              "      <td>1</td>\n",
              "    </tr>\n",
              "    <tr>\n",
              "      <th>242</th>\n",
              "      <td>17.82</td>\n",
              "      <td>1.75</td>\n",
              "      <td>2</td>\n",
              "      <td>1</td>\n",
              "      <td>0</td>\n",
              "      <td>0</td>\n",
              "      <td>1</td>\n",
              "      <td>0</td>\n",
              "      <td>0</td>\n",
              "      <td>1</td>\n",
              "      <td>0</td>\n",
              "      <td>0</td>\n",
              "      <td>1</td>\n",
              "    </tr>\n",
              "    <tr>\n",
              "      <th>243</th>\n",
              "      <td>18.78</td>\n",
              "      <td>3.00</td>\n",
              "      <td>2</td>\n",
              "      <td>0</td>\n",
              "      <td>1</td>\n",
              "      <td>0</td>\n",
              "      <td>1</td>\n",
              "      <td>1</td>\n",
              "      <td>0</td>\n",
              "      <td>0</td>\n",
              "      <td>0</td>\n",
              "      <td>0</td>\n",
              "      <td>1</td>\n",
              "    </tr>\n",
              "  </tbody>\n",
              "</table>\n",
              "<p>244 rows × 13 columns</p>\n",
              "</div>"
            ],
            "text/plain": [
              "     total_bill   tip  size  sex_Male  sex_Female  smoker_Yes  smoker_No  \\\n",
              "0         16.99  1.01     2         0           1           0          1   \n",
              "1         10.34  1.66     3         1           0           0          1   \n",
              "2         21.01  3.50     3         1           0           0          1   \n",
              "3         23.68  3.31     2         1           0           0          1   \n",
              "4         24.59  3.61     4         0           1           0          1   \n",
              "..          ...   ...   ...       ...         ...         ...        ...   \n",
              "239       29.03  5.92     3         1           0           0          1   \n",
              "240       27.18  2.00     2         0           1           1          0   \n",
              "241       22.67  2.00     2         1           0           1          0   \n",
              "242       17.82  1.75     2         1           0           0          1   \n",
              "243       18.78  3.00     2         0           1           0          1   \n",
              "\n",
              "     day_Thur  day_Fri  day_Sat  day_Sun  time_Lunch  time_Dinner  \n",
              "0           0        0        0        1           0            1  \n",
              "1           0        0        0        1           0            1  \n",
              "2           0        0        0        1           0            1  \n",
              "3           0        0        0        1           0            1  \n",
              "4           0        0        0        1           0            1  \n",
              "..        ...      ...      ...      ...         ...          ...  \n",
              "239         0        0        1        0           0            1  \n",
              "240         0        0        1        0           0            1  \n",
              "241         0        0        1        0           0            1  \n",
              "242         0        0        1        0           0            1  \n",
              "243         1        0        0        0           0            1  \n",
              "\n",
              "[244 rows x 13 columns]"
            ]
          },
          "execution_count": 32,
          "metadata": {},
          "output_type": "execute_result"
        }
      ],
      "source": [
        "#수식에 데이터를 넣어서 계산할거임 -> 문자열들을 0,1로 변환\n",
        "import pandas as pd\n",
        "tips = pd.get_dummies(tips, columns=['sex','smoker','day', 'time'])\n",
        "tips"
      ]
    },
    {
      "cell_type": "code",
      "execution_count": null,
      "id": "60afd0a2",
      "metadata": {
        "scrolled": true,
        "id": "60afd0a2",
        "outputId": "8bed7450-a0e4-43b3-da6e-ffb67a521456"
      },
      "outputs": [
        {
          "data": {
            "text/html": [
              "<div>\n",
              "<style scoped>\n",
              "    .dataframe tbody tr th:only-of-type {\n",
              "        vertical-align: middle;\n",
              "    }\n",
              "\n",
              "    .dataframe tbody tr th {\n",
              "        vertical-align: top;\n",
              "    }\n",
              "\n",
              "    .dataframe thead th {\n",
              "        text-align: right;\n",
              "    }\n",
              "</style>\n",
              "<table border=\"1\" class=\"dataframe\">\n",
              "  <thead>\n",
              "    <tr style=\"text-align: right;\">\n",
              "      <th></th>\n",
              "      <th>total_bill</th>\n",
              "      <th>size</th>\n",
              "      <th>sex_Male</th>\n",
              "      <th>sex_Female</th>\n",
              "      <th>smoker_Yes</th>\n",
              "      <th>smoker_No</th>\n",
              "      <th>day_Thur</th>\n",
              "      <th>day_Fri</th>\n",
              "      <th>day_Sat</th>\n",
              "      <th>day_Sun</th>\n",
              "      <th>time_Lunch</th>\n",
              "      <th>time_Dinner</th>\n",
              "      <th>tip</th>\n",
              "    </tr>\n",
              "  </thead>\n",
              "  <tbody>\n",
              "    <tr>\n",
              "      <th>0</th>\n",
              "      <td>16.99</td>\n",
              "      <td>2</td>\n",
              "      <td>0</td>\n",
              "      <td>1</td>\n",
              "      <td>0</td>\n",
              "      <td>1</td>\n",
              "      <td>0</td>\n",
              "      <td>0</td>\n",
              "      <td>0</td>\n",
              "      <td>1</td>\n",
              "      <td>0</td>\n",
              "      <td>1</td>\n",
              "      <td>1.01</td>\n",
              "    </tr>\n",
              "    <tr>\n",
              "      <th>1</th>\n",
              "      <td>10.34</td>\n",
              "      <td>3</td>\n",
              "      <td>1</td>\n",
              "      <td>0</td>\n",
              "      <td>0</td>\n",
              "      <td>1</td>\n",
              "      <td>0</td>\n",
              "      <td>0</td>\n",
              "      <td>0</td>\n",
              "      <td>1</td>\n",
              "      <td>0</td>\n",
              "      <td>1</td>\n",
              "      <td>1.66</td>\n",
              "    </tr>\n",
              "    <tr>\n",
              "      <th>2</th>\n",
              "      <td>21.01</td>\n",
              "      <td>3</td>\n",
              "      <td>1</td>\n",
              "      <td>0</td>\n",
              "      <td>0</td>\n",
              "      <td>1</td>\n",
              "      <td>0</td>\n",
              "      <td>0</td>\n",
              "      <td>0</td>\n",
              "      <td>1</td>\n",
              "      <td>0</td>\n",
              "      <td>1</td>\n",
              "      <td>3.50</td>\n",
              "    </tr>\n",
              "    <tr>\n",
              "      <th>3</th>\n",
              "      <td>23.68</td>\n",
              "      <td>2</td>\n",
              "      <td>1</td>\n",
              "      <td>0</td>\n",
              "      <td>0</td>\n",
              "      <td>1</td>\n",
              "      <td>0</td>\n",
              "      <td>0</td>\n",
              "      <td>0</td>\n",
              "      <td>1</td>\n",
              "      <td>0</td>\n",
              "      <td>1</td>\n",
              "      <td>3.31</td>\n",
              "    </tr>\n",
              "    <tr>\n",
              "      <th>4</th>\n",
              "      <td>24.59</td>\n",
              "      <td>4</td>\n",
              "      <td>0</td>\n",
              "      <td>1</td>\n",
              "      <td>0</td>\n",
              "      <td>1</td>\n",
              "      <td>0</td>\n",
              "      <td>0</td>\n",
              "      <td>0</td>\n",
              "      <td>1</td>\n",
              "      <td>0</td>\n",
              "      <td>1</td>\n",
              "      <td>3.61</td>\n",
              "    </tr>\n",
              "  </tbody>\n",
              "</table>\n",
              "</div>"
            ],
            "text/plain": [
              "   total_bill  size  sex_Male  sex_Female  smoker_Yes  smoker_No  day_Thur  \\\n",
              "0       16.99     2         0           1           0          1         0   \n",
              "1       10.34     3         1           0           0          1         0   \n",
              "2       21.01     3         1           0           0          1         0   \n",
              "3       23.68     2         1           0           0          1         0   \n",
              "4       24.59     4         0           1           0          1         0   \n",
              "\n",
              "   day_Fri  day_Sat  day_Sun  time_Lunch  time_Dinner   tip  \n",
              "0        0        0        1           0            1  1.01  \n",
              "1        0        0        1           0            1  1.66  \n",
              "2        0        0        1           0            1  3.50  \n",
              "3        0        0        1           0            1  3.31  \n",
              "4        0        0        1           0            1  3.61  "
            ]
          },
          "execution_count": 33,
          "metadata": {},
          "output_type": "execute_result"
        }
      ],
      "source": [
        "tips = tips[['total_bill', 'size', 'sex_Male', 'sex_Female', 'smoker_Yes', 'smoker_No',\n",
        "             'day_Thur', 'day_Fri', 'day_Sat', 'day_Sun', 'time_Lunch', 'time_Dinner', 'tip']]\n",
        "tips.head()"
      ]
    },
    {
      "cell_type": "code",
      "execution_count": null,
      "id": "dc86e66e",
      "metadata": {
        "id": "dc86e66e"
      },
      "outputs": [],
      "source": [
        "X = tips[['total_bill', 'size', 'sex_Male', 'sex_Female', 'smoker_Yes', 'smoker_No',\n",
        "          'day_Thur', 'day_Fri', 'day_Sat', 'day_Sun', 'time_Lunch', 'time_Dinner']].values\n",
        "y = tips['tip'].values"
      ]
    },
    {
      "cell_type": "code",
      "execution_count": null,
      "id": "3182cc6f",
      "metadata": {
        "id": "3182cc6f"
      },
      "outputs": [],
      "source": [
        "from sklearn.model_selection import train_test_split\n",
        "X_train,X_test,y_train,y_test = train_test_split(X,y,test_size=0.2,random_state=42)"
      ]
    },
    {
      "cell_type": "code",
      "execution_count": null,
      "id": "4c821e90",
      "metadata": {
        "id": "4c821e90"
      },
      "outputs": [],
      "source": [
        "import numpy as np\n",
        "\n",
        "#12개의 정보가 있는 데이터로 tip값을 예측하는거니까 12개의 w와 1개의 b가 필요\n",
        "W = np.random.rand(12)\n",
        "b = np.random.rand()"
      ]
    },
    {
      "cell_type": "code",
      "execution_count": null,
      "id": "cf64d0a1",
      "metadata": {
        "id": "cf64d0a1"
      },
      "outputs": [],
      "source": [
        "#for문으로 12번 반복\n",
        "def model(X, W, b):\n",
        "    predictions = 0\n",
        "    for i in range(12):\n",
        "        predictions += X[:, i] * W[i]\n",
        "    predictions += b\n",
        "    return predictions"
      ]
    },
    {
      "cell_type": "code",
      "execution_count": null,
      "id": "611bc557",
      "metadata": {
        "id": "611bc557"
      },
      "outputs": [],
      "source": [
        "def MSE(a, b):\n",
        "    mse = ((a - b) ** 2).mean()  # 두 값의 차이의 제곱의 평균\n",
        "    return mse"
      ]
    },
    {
      "cell_type": "code",
      "execution_count": null,
      "id": "981668ec",
      "metadata": {
        "id": "981668ec"
      },
      "outputs": [],
      "source": [
        "def loss(X, W, b, y):\n",
        "    predictions = model(X, W, b)\n",
        "    L = MSE(predictions, y)\n",
        "    return L"
      ]
    },
    {
      "cell_type": "code",
      "execution_count": null,
      "id": "94c3c693",
      "metadata": {
        "id": "94c3c693"
      },
      "outputs": [],
      "source": [
        "def gradient(X, W, b, y):\n",
        "    # N은 가중치의 개수\n",
        "    N = len(W)\n",
        "    \n",
        "    # y_pred 준비\n",
        "    y_pred = model(X, W, b)\n",
        "    \n",
        "    # 공식에 맞게 gradient 계산\n",
        "    dW = 1/N * 2 * X.T.dot(y_pred - y)\n",
        "        \n",
        "    # b의 gradient 계산\n",
        "    db = 2 * (y_pred - y).mean()\n",
        "    return dW, db"
      ]
    },
    {
      "cell_type": "code",
      "execution_count": null,
      "id": "a7e9be3f",
      "metadata": {
        "id": "a7e9be3f",
        "outputId": "9dc2fe75-e4a1-47b6-b1a8-d34fb0791302"
      },
      "outputs": [
        {
          "name": "stdout",
          "output_type": "stream",
          "text": [
            "dW: [9959.93808037 1214.51581633  290.97143567  145.24158232  173.76398204\n",
            "  262.44903595  102.86469641   30.36986432  162.17368533  140.80477192\n",
            "  110.52675051  325.68626748]\n",
            "db: 21.453099245004683\n"
          ]
        }
      ],
      "source": [
        "dW, db = gradient(X, W, b, y)\n",
        "print(\"dW:\", dW)\n",
        "print(\"db:\", db)"
      ]
    },
    {
      "cell_type": "code",
      "execution_count": null,
      "id": "e920810e",
      "metadata": {
        "id": "e920810e"
      },
      "outputs": [],
      "source": [
        "#학습률 설정\n",
        "LEARNING_RATE = 0.0001"
      ]
    },
    {
      "cell_type": "code",
      "execution_count": null,
      "id": "f6c042da",
      "metadata": {
        "id": "f6c042da",
        "outputId": "86136c4d-2847-442f-fa7b-f8180b831660"
      },
      "outputs": [
        {
          "name": "stdout",
          "output_type": "stream",
          "text": [
            "Iteration 10 : Loss 2.1166\n",
            "Iteration 20 : Loss 2.0682\n",
            "Iteration 30 : Loss 2.0279\n",
            "Iteration 40 : Loss 1.9897\n",
            "Iteration 50 : Loss 1.9538\n",
            "Iteration 60 : Loss 1.9198\n",
            "Iteration 70 : Loss 1.8876\n",
            "Iteration 80 : Loss 1.8573\n",
            "Iteration 90 : Loss 1.8285\n",
            "Iteration 100 : Loss 1.8013\n",
            "Iteration 110 : Loss 1.7756\n",
            "Iteration 120 : Loss 1.7512\n",
            "Iteration 130 : Loss 1.7281\n",
            "Iteration 140 : Loss 1.7062\n",
            "Iteration 150 : Loss 1.6854\n",
            "Iteration 160 : Loss 1.6656\n",
            "Iteration 170 : Loss 1.6469\n",
            "Iteration 180 : Loss 1.6290\n",
            "Iteration 190 : Loss 1.6121\n",
            "Iteration 200 : Loss 1.5960\n",
            "Iteration 210 : Loss 1.5806\n",
            "Iteration 220 : Loss 1.5660\n",
            "Iteration 230 : Loss 1.5521\n",
            "Iteration 240 : Loss 1.5388\n",
            "Iteration 250 : Loss 1.5261\n",
            "Iteration 260 : Loss 1.5140\n",
            "Iteration 270 : Loss 1.5024\n",
            "Iteration 280 : Loss 1.4914\n",
            "Iteration 290 : Loss 1.4808\n",
            "Iteration 300 : Loss 1.4707\n",
            "Iteration 310 : Loss 1.4610\n",
            "Iteration 320 : Loss 1.4517\n",
            "Iteration 330 : Loss 1.4428\n",
            "Iteration 340 : Loss 1.4343\n",
            "Iteration 350 : Loss 1.4261\n",
            "Iteration 360 : Loss 1.4182\n",
            "Iteration 370 : Loss 1.4106\n",
            "Iteration 380 : Loss 1.4033\n",
            "Iteration 390 : Loss 1.3963\n",
            "Iteration 400 : Loss 1.3896\n",
            "Iteration 410 : Loss 1.3831\n",
            "Iteration 420 : Loss 1.3768\n",
            "Iteration 430 : Loss 1.3707\n",
            "Iteration 440 : Loss 1.3649\n",
            "Iteration 450 : Loss 1.3593\n",
            "Iteration 460 : Loss 1.3538\n",
            "Iteration 470 : Loss 1.3486\n",
            "Iteration 480 : Loss 1.3435\n",
            "Iteration 490 : Loss 1.3386\n",
            "Iteration 500 : Loss 1.3338\n",
            "Iteration 510 : Loss 1.3292\n",
            "Iteration 520 : Loss 1.3247\n",
            "Iteration 530 : Loss 1.3204\n",
            "Iteration 540 : Loss 1.3162\n",
            "Iteration 550 : Loss 1.3121\n",
            "Iteration 560 : Loss 1.3081\n",
            "Iteration 570 : Loss 1.3043\n",
            "Iteration 580 : Loss 1.3005\n",
            "Iteration 590 : Loss 1.2969\n",
            "Iteration 600 : Loss 1.2933\n",
            "Iteration 610 : Loss 1.2899\n",
            "Iteration 620 : Loss 1.2865\n",
            "Iteration 630 : Loss 1.2833\n",
            "Iteration 640 : Loss 1.2801\n",
            "Iteration 650 : Loss 1.2770\n",
            "Iteration 660 : Loss 1.2740\n",
            "Iteration 670 : Loss 1.2710\n",
            "Iteration 680 : Loss 1.2682\n",
            "Iteration 690 : Loss 1.2654\n",
            "Iteration 700 : Loss 1.2626\n",
            "Iteration 710 : Loss 1.2600\n",
            "Iteration 720 : Loss 1.2574\n",
            "Iteration 730 : Loss 1.2548\n",
            "Iteration 740 : Loss 1.2523\n",
            "Iteration 750 : Loss 1.2499\n",
            "Iteration 760 : Loss 1.2475\n",
            "Iteration 770 : Loss 1.2452\n",
            "Iteration 780 : Loss 1.2429\n",
            "Iteration 790 : Loss 1.2407\n",
            "Iteration 800 : Loss 1.2385\n",
            "Iteration 810 : Loss 1.2364\n",
            "Iteration 820 : Loss 1.2343\n",
            "Iteration 830 : Loss 1.2323\n",
            "Iteration 840 : Loss 1.2303\n",
            "Iteration 850 : Loss 1.2283\n",
            "Iteration 860 : Loss 1.2264\n",
            "Iteration 870 : Loss 1.2245\n",
            "Iteration 880 : Loss 1.2227\n",
            "Iteration 890 : Loss 1.2209\n",
            "Iteration 900 : Loss 1.2191\n",
            "Iteration 910 : Loss 1.2174\n",
            "Iteration 920 : Loss 1.2157\n",
            "Iteration 930 : Loss 1.2140\n",
            "Iteration 940 : Loss 1.2123\n",
            "Iteration 950 : Loss 1.2107\n",
            "Iteration 960 : Loss 1.2091\n",
            "Iteration 970 : Loss 1.2076\n",
            "Iteration 980 : Loss 1.2061\n",
            "Iteration 990 : Loss 1.2046\n",
            "Iteration 1000 : Loss 1.2031\n"
          ]
        }
      ],
      "source": [
        "losses = []\n",
        "\n",
        "for i in range(1, 1001):\n",
        "    dW, db = gradient(X_train, W, b, y_train)\n",
        "    W -= LEARNING_RATE * dW\n",
        "    b -= LEARNING_RATE * db\n",
        "    L = loss(X_train, W, b, y_train)\n",
        "    losses.append(L)\n",
        "    if i % 10 == 0:\n",
        "        print('Iteration %d : Loss %0.4f' % (i, L))"
      ]
    },
    {
      "cell_type": "code",
      "execution_count": null,
      "id": "78a2c852",
      "metadata": {
        "id": "78a2c852",
        "outputId": "ee191b06-ceb7-4ffb-fc48-54bf0129d6a3"
      },
      "outputs": [
        {
          "data": {
            "image/png": "[encoded data removed]",
            "text/plain": [
              "<Figure size 432x288 with 1 Axes>"
            ]
          },
          "metadata": {
            "needs_background": "light"
          },
          "output_type": "display_data"
        }
      ],
      "source": [
        "import matplotlib.pyplot as plt\n",
        "plt.plot(losses)\n",
        "plt.show()"
      ]
    },
    {
      "cell_type": "code",
      "execution_count": null,
      "id": "1d99d588",
      "metadata": {
        "id": "1d99d588",
        "outputId": "133c9482-355f-4a39-f652-20300ddc47b3"
      },
      "outputs": [
        {
          "data": {
            "text/plain": [
              "(array([ 0.0802169 ,  0.02733722,  0.35200994,  0.31272665,  0.09325913,\n",
              "         0.16199255,  0.13025377,  0.39496239,  0.29985785,  0.31090101,\n",
              "        -0.02362484, -0.21607084]),\n",
              " 0.9138738980847791)"
            ]
          },
          "execution_count": 45,
          "metadata": {},
          "output_type": "execute_result"
        }
      ],
      "source": [
        "W, b"
      ]
    },
    {
      "cell_type": "code",
      "execution_count": null,
      "id": "68c303f4",
      "metadata": {
        "id": "68c303f4",
        "outputId": "3f5e9405-40b5-404e-d734-120eb9a382d3"
      },
      "outputs": [
        {
          "data": {
            "text/plain": [
              "0.6687019792423168"
            ]
          },
          "execution_count": 46,
          "metadata": {},
          "output_type": "execute_result"
        }
      ],
      "source": [
        "prediction = model(X_test, W, b)\n",
        "mse = loss(X_test, W, b, y_test)\n",
        "mse"
      ]
    },
    {
      "cell_type": "code",
      "execution_count": null,
      "id": "9a807d6c",
      "metadata": {
        "id": "9a807d6c"
      },
      "outputs": [],
      "source": []
    },
    {
      "cell_type": "code",
      "execution_count": null,
      "id": "7f827476",
      "metadata": {
        "id": "7f827476"
      },
      "outputs": [],
      "source": []
    },
    {
      "cell_type": "code",
      "execution_count": null,
      "id": "ee6631c6",
      "metadata": {
        "id": "ee6631c6"
      },
      "outputs": [],
      "source": []
    },
    {
      "cell_type": "code",
      "execution_count": null,
      "id": "557509b8",
      "metadata": {
        "id": "557509b8"
      },
      "outputs": [],
      "source": []
    },
    {
      "cell_type": "code",
      "execution_count": null,
      "id": "02e3d826",
      "metadata": {
        "id": "02e3d826"
      },
      "outputs": [],
      "source": []
    },
    {
      "cell_type": "code",
      "execution_count": null,
      "id": "e7846746",
      "metadata": {
        "id": "e7846746"
      },
      "outputs": [],
      "source": []
    },
    {
      "cell_type": "code",
      "execution_count": null,
      "id": "ffc7c9c7",
      "metadata": {
        "id": "ffc7c9c7"
      },
      "outputs": [],
      "source": []
    },
    {
      "cell_type": "code",
      "execution_count": null,
      "id": "1a1eef2c",
      "metadata": {
        "id": "1a1eef2c"
      },
      "outputs": [],
      "source": []
    },
    {
      "cell_type": "code",
      "execution_count": null,
      "id": "d9d0ba30",
      "metadata": {
        "id": "d9d0ba30"
      },
      "outputs": [],
      "source": []
    }
  ],
  "metadata": {
    "kernelspec": {
      "display_name": "Python 3 (ipykernel)",
      "language": "python",
      "name": "python3"
    },
    "language_info": {
      "codemirror_mode": {
        "name": "ipython",
        "version": 3
      },
      "file_extension": ".py",
      "mimetype": "text/x-python",
      "name": "python",
      "nbconvert_exporter": "python",
      "pygments_lexer": "ipython3",
      "version": "3.9.7"
    },
    "colab": {
      "provenance": [],
      "collapsed_sections": []
    }
  },
  "nbformat": 4,
  "nbformat_minor": 5
}