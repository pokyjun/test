{
  "cells": [
    {
      "cell_type": "markdown",
      "id": "470a3a19",
      "metadata": {
        "id": "470a3a19"
      },
      "source": [
        "# Step 1.데이터 수집하기"
      ]
    },
    {
      "cell_type": "code",
      "execution_count": null,
      "id": "676333d3",
      "metadata": {
        "id": "676333d3",
        "outputId": "02d5a9df-7bc6-4094-bdfd-12f012511ae9"
      },
      "outputs": [
        {
          "data": {
            "text/html": [
              "<div>\n",
              "<style scoped>\n",
              "    .dataframe tbody tr th:only-of-type {\n",
              "        vertical-align: middle;\n",
              "    }\n",
              "\n",
              "    .dataframe tbody tr th {\n",
              "        vertical-align: top;\n",
              "    }\n",
              "\n",
              "    .dataframe thead th {\n",
              "        text-align: right;\n",
              "    }\n",
              "</style>\n",
              "<table border=\"1\" class=\"dataframe\">\n",
              "  <thead>\n",
              "    <tr style=\"text-align: right;\">\n",
              "      <th></th>\n",
              "      <th>headlines</th>\n",
              "      <th>text</th>\n",
              "    </tr>\n",
              "  </thead>\n",
              "  <tbody>\n",
              "    <tr>\n",
              "      <th>23205</th>\n",
              "      <td>Apple's value equals GDP of 16th largest econo...</td>\n",
              "      <td>US consumer technology giant Apple's $1 trilli...</td>\n",
              "    </tr>\n",
              "    <tr>\n",
              "      <th>25711</th>\n",
              "      <td>Firm studying crypto: CEO of world's largest a...</td>\n",
              "      <td>Larry Fink, the Chairman and CEO of the world'...</td>\n",
              "    </tr>\n",
              "    <tr>\n",
              "      <th>73131</th>\n",
              "      <td>13 killed in car bomb explosion in Afghanistan</td>\n",
              "      <td>At least 13 people were killed and 18 others w...</td>\n",
              "    </tr>\n",
              "    <tr>\n",
              "      <th>27032</th>\n",
              "      <td>I feel inspired to make biopic on Kapil Sharma...</td>\n",
              "      <td>Director Vinod Tiwari has revealed that after ...</td>\n",
              "    </tr>\n",
              "    <tr>\n",
              "      <th>63481</th>\n",
              "      <td>N Korea drops fliers calling Trump 'mentally i...</td>\n",
              "      <td>North Korea has dropped propaganda leaflets br...</td>\n",
              "    </tr>\n",
              "    <tr>\n",
              "      <th>62129</th>\n",
              "      <td>One third of cars in VW emissions scandal yet ...</td>\n",
              "      <td>A third of Volkswagen cars fitted with softwar...</td>\n",
              "    </tr>\n",
              "    <tr>\n",
              "      <th>81526</th>\n",
              "      <td>Priests, Buddhist get high on magic mushroom i...</td>\n",
              "      <td>Over 20 religious leaders are getting high on ...</td>\n",
              "    </tr>\n",
              "    <tr>\n",
              "      <th>42234</th>\n",
              "      <td>Govt ends solar anti-dumping probe, new petiti...</td>\n",
              "      <td>The Commerce Ministry's investigation arm has ...</td>\n",
              "    </tr>\n",
              "    <tr>\n",
              "      <th>71397</th>\n",
              "      <td>UK school bans skirts to make uniform 'gender ...</td>\n",
              "      <td>A secondary school in the UK has banned girls ...</td>\n",
              "    </tr>\n",
              "    <tr>\n",
              "      <th>45476</th>\n",
              "      <td>All five 400m athletes disqualified at World I...</td>\n",
              "      <td>All five athletes competing in the heats of th...</td>\n",
              "    </tr>\n",
              "  </tbody>\n",
              "</table>\n",
              "</div>"
            ],
            "text/plain": [
              "                                               headlines  \\\n",
              "23205  Apple's value equals GDP of 16th largest econo...   \n",
              "25711  Firm studying crypto: CEO of world's largest a...   \n",
              "73131     13 killed in car bomb explosion in Afghanistan   \n",
              "27032  I feel inspired to make biopic on Kapil Sharma...   \n",
              "63481  N Korea drops fliers calling Trump 'mentally i...   \n",
              "62129  One third of cars in VW emissions scandal yet ...   \n",
              "81526  Priests, Buddhist get high on magic mushroom i...   \n",
              "42234  Govt ends solar anti-dumping probe, new petiti...   \n",
              "71397  UK school bans skirts to make uniform 'gender ...   \n",
              "45476  All five 400m athletes disqualified at World I...   \n",
              "\n",
              "                                                    text  \n",
              "23205  US consumer technology giant Apple's $1 trilli...  \n",
              "25711  Larry Fink, the Chairman and CEO of the world'...  \n",
              "73131  At least 13 people were killed and 18 others w...  \n",
              "27032  Director Vinod Tiwari has revealed that after ...  \n",
              "63481  North Korea has dropped propaganda leaflets br...  \n",
              "62129  A third of Volkswagen cars fitted with softwar...  \n",
              "81526  Over 20 religious leaders are getting high on ...  \n",
              "42234  The Commerce Ministry's investigation arm has ...  \n",
              "71397  A secondary school in the UK has banned girls ...  \n",
              "45476  All five athletes competing in the heats of th...  "
            ]
          },
          "execution_count": 5,
          "metadata": {},
          "output_type": "execute_result"
        }
      ],
      "source": [
        "from importlib.metadata import version\n",
        "import nltk\n",
        "import tensorflow as tf\n",
        "import summa\n",
        "import pandas as pd\n",
        "import urllib.request\n",
        "urllib.request.urlretrieve(\"https://raw.githubusercontent.com/sunnysai12345/News_Summary/master/news_summary_more.csv\", filename=\"news_summary_more.csv\")\n",
        "data = pd.read_csv('news_summary_more.csv', encoding='iso-8859-1')\n",
        "data.sample(10)"
      ]
    },
    {
      "cell_type": "markdown",
      "id": "406c8cb0",
      "metadata": {
        "id": "406c8cb0"
      },
      "source": [
        "# Step 2. 데이터 전처리하기 (추상적 요약)"
      ]
    },
    {
      "cell_type": "code",
      "execution_count": null,
      "id": "bd138895",
      "metadata": {
        "id": "bd138895",
        "outputId": "d57c6b65-de81-475d-b761-f764ac04854e"
      },
      "outputs": [
        {
          "name": "stdout",
          "output_type": "stream",
          "text": [
            "headlines    0\n",
            "text         0\n",
            "dtype: int64\n"
          ]
        },
        {
          "name": "stderr",
          "output_type": "stream",
          "text": [
            "[nltk_data] Downloading package stopwords to /aiffel/nltk_data...\n",
            "[nltk_data]   Unzipping corpora/stopwords.zip.\n"
          ]
        }
      ],
      "source": [
        "import re\n",
        "import nltk\n",
        "nltk.download('stopwords')\n",
        "print(data.isnull().sum()) # 결측치 확인\n",
        "# 데이터 전처리 함수\n",
        "def preprocess_sentence(sentence, remove_stopwords=True):\n",
        "    sentence = sentence.lower() # 텍스트 소문자화\n",
        "    sentence = re.sub(r'\\([^)]*\\)', '', sentence) # 괄호로 닫힌 문자열 (...) 제거 Ex) my husband (and myself!) for => my husband for\n",
        "    sentence = re.sub('\"','', sentence) # 쌍따옴표 \" 제거\n",
        "    sentence = re.sub(r\"'s\\b\",\"\", sentence) # 소유격 제거. Ex) roland's -> roland\n",
        "    sentence = re.sub(\"[^a-zA-Z]\", \" \", sentence) # 영어 외 문자(숫자, 특수문자 등) 공백으로 변환\n",
        "    sentence = re.sub('[m]{2,}', 'mm', sentence) # m이 3개 이상이면 2개로 변경. Ex) ummmmmmm yeah -> umm yeah\n",
        "    \n",
        "    # 불용어 제거 (Text)\n",
        "    if remove_stopwords:\n",
        "        tokens = ' '.join(word for word in sentence.split() if not word in stopwords.words('english') if len(word) > 1)\n",
        "    # 불용어 미제거 (Summary)\n",
        "    else:\n",
        "        tokens = ' '.join(word for word in sentence.split() if len(word) > 1)\n",
        "    return tokens"
      ]
    },
    {
      "cell_type": "code",
      "execution_count": null,
      "id": "ea91a694",
      "metadata": {
        "id": "ea91a694",
        "outputId": "19c1643b-320f-4673-a802-cf818e563fc6"
      },
      "outputs": [
        {
          "name": "stdout",
          "output_type": "stream",
          "text": [
            "text:  everything bought great infact ordered twice third ordered br mother father\n",
            "headlines: great way to start the day\n"
          ]
        }
      ],
      "source": [
        "temp_text = 'Everything I bought was great, infact I ordered twice and the third ordered was<br />for my mother and father.'\n",
        "temp_summary = 'Great way to start (or finish) the day!!!'\n",
        "\n",
        "print(\"text: \", preprocess_sentence(temp_text))\n",
        "print(\"headlines:\", preprocess_sentence(temp_summary, False))  # 불용어를 제거하지 않습니다."
      ]
    },
    {
      "cell_type": "markdown",
      "id": "7d35e50d",
      "metadata": {
        "id": "7d35e50d"
      },
      "source": [
        "### 데이터 분리"
      ]
    },
    {
      "cell_type": "code",
      "execution_count": null,
      "id": "a206d025",
      "metadata": {
        "id": "a206d025",
        "outputId": "bf1c24a1-a13f-42a8-c9bf-f2069368714e"
      },
      "outputs": [
        {
          "name": "stdout",
          "output_type": "stream",
          "text": [
            "텍스트의 최소 길이 : 1\n",
            "텍스트의 최대 길이 : 91\n",
            "텍스트의 평균 길이 : 58.2385341612382\n",
            "요약의 최소 길이 : 1\n",
            "요약의 최대 길이 : 18\n",
            "요약의 평균 길이 : 9.553906972490116\n"
          ]
        },
        {
          "data": {
            "image/png": "[encoded data removed]",
            "text/plain": [
              "<Figure size 432x288 with 2 Axes>"
            ]
          },
          "metadata": {
            "needs_background": "light"
          },
          "output_type": "display_data"
        },
        {
          "data": {
            "image/png": "[encoded data removed]",
            "text/plain": [
              "<Figure size 432x288 with 1 Axes>"
            ]
          },
          "metadata": {
            "needs_background": "light"
          },
          "output_type": "display_data"
        },
        {
          "data": {
            "image/png": "[encoded data removed]",
            "text/plain": [
              "<Figure size 432x288 with 1 Axes>"
            ]
          },
          "metadata": {
            "needs_background": "light"
          },
          "output_type": "display_data"
        }
      ],
      "source": [
        "# 길이 분포 출력\n",
        "import matplotlib.pyplot as plt\n",
        "import numpy as np\n",
        "\n",
        "text_len = [len(s.split()) for s in data['text']]\n",
        "headlines_len = [len(s.split()) for s in data['headlines']]\n",
        "\n",
        "print('텍스트의 최소 길이 : {}'.format(np.min(text_len)))\n",
        "print('텍스트의 최대 길이 : {}'.format(np.max(text_len)))\n",
        "print('텍스트의 평균 길이 : {}'.format(np.mean(text_len)))\n",
        "print('요약의 최소 길이 : {}'.format(np.min(headlines_len)))\n",
        "print('요약의 최대 길이 : {}'.format(np.max(headlines_len)))\n",
        "print('요약의 평균 길이 : {}'.format(np.mean(headlines_len)))\n",
        "\n",
        "plt.subplot(1,2,1)\n",
        "plt.boxplot(text_len)\n",
        "plt.title('Text')\n",
        "plt.subplot(1,2,2)\n",
        "plt.boxplot(headlines_len)\n",
        "plt.title('headlines')\n",
        "plt.tight_layout()\n",
        "plt.show()\n",
        "\n",
        "plt.title('Text')\n",
        "plt.hist(text_len, bins = 40)\n",
        "plt.xlabel('length of samples')\n",
        "plt.ylabel('number of samples')\n",
        "plt.show()\n",
        "\n",
        "plt.title('headlines')\n",
        "plt.hist(headlines_len, bins = 40)\n",
        "plt.xlabel('length of samples')\n",
        "plt.ylabel('number of samples')\n",
        "plt.show()"
      ]
    },
    {
      "cell_type": "code",
      "execution_count": null,
      "id": "6ac39264",
      "metadata": {
        "id": "6ac39264",
        "outputId": "b68833ba-1853-42be-cf13-56437e022010"
      },
      "outputs": [
        {
          "name": "stdout",
          "output_type": "stream",
          "text": [
            "전체 샘플 중 길이가 60 이하인 샘플의 비율: 0.997449212914503\n",
            "전체 샘플 중 길이가 10 이하인 샘플의 비율: 0.7526549526935702\n"
          ]
        }
      ],
      "source": [
        "text_max_len = 60\n",
        "headlines_max_len = 10\n",
        "\n",
        "def below_threshold_len(max_len, nested_list):\n",
        "  cnt = 0\n",
        "  for s in nested_list:\n",
        "    if(len(s.split()) <= max_len):\n",
        "        cnt = cnt + 1\n",
        "  print('전체 샘플 중 길이가 %s 이하인 샘플의 비율: %s'%(max_len, (cnt / len(nested_list))))\n",
        "below_threshold_len(text_max_len, data['text'])\n",
        "below_threshold_len(headlines_max_len,  data['headlines'])"
      ]
    },
    {
      "cell_type": "code",
      "execution_count": null,
      "id": "dd425895",
      "metadata": {
        "id": "dd425895",
        "outputId": "856d6ef3-9db3-429d-fedb-526cf0e4bb3b"
      },
      "outputs": [
        {
          "name": "stdout",
          "output_type": "stream",
          "text": [
            "전체 샘플수 : 73890\n"
          ]
        }
      ],
      "source": [
        "data = data[data['text'].apply(lambda x: len(x.split()) <= text_max_len)]\n",
        "data = data[data['headlines'].apply(lambda x: len(x.split()) <= headlines_max_len)]\n",
        "print('전체 샘플수 :', (len(data)))"
      ]
    },
    {
      "cell_type": "code",
      "execution_count": null,
      "id": "63a731fa",
      "metadata": {
        "id": "63a731fa",
        "outputId": "2a4741bd-c9b2-4610-bd71-bdb42e4815e8"
      },
      "outputs": [
        {
          "data": {
            "text/html": [
              "<div>\n",
              "<style scoped>\n",
              "    .dataframe tbody tr th:only-of-type {\n",
              "        vertical-align: middle;\n",
              "    }\n",
              "\n",
              "    .dataframe tbody tr th {\n",
              "        vertical-align: top;\n",
              "    }\n",
              "\n",
              "    .dataframe thead th {\n",
              "        text-align: right;\n",
              "    }\n",
              "</style>\n",
              "<table border=\"1\" class=\"dataframe\">\n",
              "  <thead>\n",
              "    <tr style=\"text-align: right;\">\n",
              "      <th></th>\n",
              "      <th>headlines</th>\n",
              "      <th>text</th>\n",
              "      <th>decoder_input</th>\n",
              "      <th>decoder_target</th>\n",
              "    </tr>\n",
              "  </thead>\n",
              "  <tbody>\n",
              "    <tr>\n",
              "      <th>2</th>\n",
              "      <td>New Zealand end Rohit Sharma-led India's 12-ma...</td>\n",
              "      <td>New Zealand defeated India by 8 wickets in the...</td>\n",
              "      <td>sostoken New Zealand end Rohit Sharma-led Indi...</td>\n",
              "      <td>New Zealand end Rohit Sharma-led India's 12-ma...</td>\n",
              "    </tr>\n",
              "    <tr>\n",
              "      <th>3</th>\n",
              "      <td>Aegon life iTerm insurance plan helps customer...</td>\n",
              "      <td>With Aegon Life iTerm Insurance plan, customer...</td>\n",
              "      <td>sostoken Aegon life iTerm insurance plan helps...</td>\n",
              "      <td>Aegon life iTerm insurance plan helps customer...</td>\n",
              "    </tr>\n",
              "    <tr>\n",
              "      <th>5</th>\n",
              "      <td>Rahat Fateh Ali Khan denies getting notice for...</td>\n",
              "      <td>Pakistani singer Rahat Fateh Ali Khan has deni...</td>\n",
              "      <td>sostoken Rahat Fateh Ali Khan denies getting n...</td>\n",
              "      <td>Rahat Fateh Ali Khan denies getting notice for...</td>\n",
              "    </tr>\n",
              "    <tr>\n",
              "      <th>10</th>\n",
              "      <td>UP cousins fed human excreta for friendship wi...</td>\n",
              "      <td>Two minor cousins in Uttar Pradesh's Gorakhpur...</td>\n",
              "      <td>sostoken UP cousins fed human excreta for frie...</td>\n",
              "      <td>UP cousins fed human excreta for friendship wi...</td>\n",
              "    </tr>\n",
              "    <tr>\n",
              "      <th>11</th>\n",
              "      <td>81-yr-old woman conducts physical training in ...</td>\n",
              "      <td>Isha Ghosh, an 81-year-old member of Bharat Sc...</td>\n",
              "      <td>sostoken 81-yr-old woman conducts physical tra...</td>\n",
              "      <td>81-yr-old woman conducts physical training in ...</td>\n",
              "    </tr>\n",
              "  </tbody>\n",
              "</table>\n",
              "</div>"
            ],
            "text/plain": [
              "                                            headlines  \\\n",
              "2   New Zealand end Rohit Sharma-led India's 12-ma...   \n",
              "3   Aegon life iTerm insurance plan helps customer...   \n",
              "5   Rahat Fateh Ali Khan denies getting notice for...   \n",
              "10  UP cousins fed human excreta for friendship wi...   \n",
              "11  81-yr-old woman conducts physical training in ...   \n",
              "\n",
              "                                                 text  \\\n",
              "2   New Zealand defeated India by 8 wickets in the...   \n",
              "3   With Aegon Life iTerm Insurance plan, customer...   \n",
              "5   Pakistani singer Rahat Fateh Ali Khan has deni...   \n",
              "10  Two minor cousins in Uttar Pradesh's Gorakhpur...   \n",
              "11  Isha Ghosh, an 81-year-old member of Bharat Sc...   \n",
              "\n",
              "                                        decoder_input  \\\n",
              "2   sostoken New Zealand end Rohit Sharma-led Indi...   \n",
              "3   sostoken Aegon life iTerm insurance plan helps...   \n",
              "5   sostoken Rahat Fateh Ali Khan denies getting n...   \n",
              "10  sostoken UP cousins fed human excreta for frie...   \n",
              "11  sostoken 81-yr-old woman conducts physical tra...   \n",
              "\n",
              "                                       decoder_target  \n",
              "2   New Zealand end Rohit Sharma-led India's 12-ma...  \n",
              "3   Aegon life iTerm insurance plan helps customer...  \n",
              "5   Rahat Fateh Ali Khan denies getting notice for...  \n",
              "10  UP cousins fed human excreta for friendship wi...  \n",
              "11  81-yr-old woman conducts physical training in ...  "
            ]
          },
          "execution_count": 37,
          "metadata": {},
          "output_type": "execute_result"
        }
      ],
      "source": [
        "# 요약 데이터에는 시작 토큰과 종료 토큰을 추가한다.\n",
        "data['decoder_input'] = data['headlines'].apply(lambda x : 'sostoken '+ x)\n",
        "data['decoder_target'] = data['headlines'].apply(lambda x : x + ' eostoken')\n",
        "data.head()"
      ]
    },
    {
      "cell_type": "code",
      "execution_count": null,
      "id": "c055040a",
      "metadata": {
        "id": "c055040a",
        "outputId": "92e138df-728b-475d-beeb-50ed2f68042a"
      },
      "outputs": [
        {
          "name": "stdout",
          "output_type": "stream",
          "text": [
            "[60967 62179 58529 ... 30212 69665 50338]\n"
          ]
        }
      ],
      "source": [
        "encoder_input = np.array(data['text']) # 인코더의 입력\n",
        "decoder_input = np.array(data['decoder_input']) # 디코더의 입력\n",
        "decoder_target = np.array(data['decoder_target']) # 디코더의 레이블\n",
        "indices = np.arange(encoder_input.shape[0])\n",
        "np.random.shuffle(indices)\n",
        "print(indices)"
      ]
    },
    {
      "cell_type": "code",
      "execution_count": null,
      "id": "c0178c22",
      "metadata": {
        "id": "c0178c22"
      },
      "outputs": [],
      "source": [
        "encoder_input = encoder_input[indices]\n",
        "decoder_input = decoder_input[indices]\n",
        "decoder_target = decoder_target[indices]"
      ]
    },
    {
      "cell_type": "code",
      "execution_count": null,
      "id": "8ab594ab",
      "metadata": {
        "id": "8ab594ab",
        "outputId": "5179404b-9660-4a03-c5e2-78945f0c554e"
      },
      "outputs": [
        {
          "name": "stdout",
          "output_type": "stream",
          "text": [
            "테스트 데이터의 수 : 14778\n"
          ]
        }
      ],
      "source": [
        "n_of_val = int(len(encoder_input)*0.2)\n",
        "print('테스트 데이터의 수 :', n_of_val)"
      ]
    },
    {
      "cell_type": "code",
      "execution_count": null,
      "id": "2a8806c9",
      "metadata": {
        "id": "2a8806c9",
        "outputId": "8bf123c0-2c1c-4684-d236-86edf644a7d9"
      },
      "outputs": [
        {
          "name": "stdout",
          "output_type": "stream",
          "text": [
            "훈련 데이터의 개수 : 59112\n",
            "훈련 레이블의 개수 : 59112\n",
            "테스트 데이터의 개수 : 14778\n",
            "테스트 레이블의 개수 : 14778\n"
          ]
        }
      ],
      "source": [
        "encoder_input_train = encoder_input[:-n_of_val]\n",
        "decoder_input_train = decoder_input[:-n_of_val]\n",
        "decoder_target_train = decoder_target[:-n_of_val]\n",
        "\n",
        "encoder_input_test = encoder_input[-n_of_val:]\n",
        "decoder_input_test = decoder_input[-n_of_val:]\n",
        "decoder_target_test = decoder_target[-n_of_val:]\n",
        "\n",
        "print('훈련 데이터의 개수 :', len(encoder_input_train))\n",
        "print('훈련 레이블의 개수 :', len(decoder_input_train))\n",
        "print('테스트 데이터의 개수 :', len(encoder_input_test))\n",
        "print('테스트 레이블의 개수 :', len(decoder_input_test))"
      ]
    },
    {
      "cell_type": "code",
      "execution_count": null,
      "id": "830929fc",
      "metadata": {
        "id": "830929fc",
        "outputId": "964531e0-afc8-4910-af92-d0711145dfdd"
      },
      "outputs": [
        {
          "name": "stdout",
          "output_type": "stream",
          "text": [
            "단어 집합(vocabulary)의 크기 : 81726\n",
            "등장 빈도가 6번 이하인 희귀 단어의 수: 60005\n",
            "단어 집합에서 희귀 단어를 제외시킬 경우의 단어 집합의 크기 21721\n",
            "단어 집합에서 희귀 단어의 비율: 73.42216675231872\n",
            "전체 등장 빈도에서 희귀 단어 등장 빈도 비율: 3.297350695390164\n"
          ]
        }
      ],
      "source": [
        "from tensorflow.keras.preprocessing.text import Tokenizer \n",
        "src_tokenizer = Tokenizer() # 토크나이저 정의\n",
        "src_tokenizer.fit_on_texts(encoder_input_train) # 입력된 데이터로부터 단어 집합 생성\n",
        "threshold = 7\n",
        "total_cnt = len(src_tokenizer.word_index) # 단어의 수\n",
        "rare_cnt = 0 # 등장 빈도수가 threshold보다 작은 단어의 개수를 카운트\n",
        "total_freq = 0 # 훈련 데이터의 전체 단어 빈도수 총 합\n",
        "rare_freq = 0 # 등장 빈도수가 threshold보다 작은 단어의 등장 빈도수의 총 합\n",
        "\n",
        "# 단어와 빈도수의 쌍(pair)을 key와 value로 받는다.\n",
        "for key, value in src_tokenizer.word_counts.items():\n",
        "    total_freq = total_freq + value\n",
        "\n",
        "    # 단어의 등장 빈도수가 threshold보다 작으면\n",
        "    if(value < threshold):\n",
        "        rare_cnt = rare_cnt + 1\n",
        "        rare_freq = rare_freq + value\n",
        "\n",
        "print('단어 집합(vocabulary)의 크기 :', total_cnt)\n",
        "print('등장 빈도가 %s번 이하인 희귀 단어의 수: %s'%(threshold - 1, rare_cnt))\n",
        "print('단어 집합에서 희귀 단어를 제외시킬 경우의 단어 집합의 크기 %s'%(total_cnt - rare_cnt))\n",
        "print(\"단어 집합에서 희귀 단어의 비율:\", (rare_cnt / total_cnt)*100)\n",
        "print(\"전체 등장 빈도에서 희귀 단어 등장 빈도 비율:\", (rare_freq / total_freq)*100)"
      ]
    },
    {
      "cell_type": "code",
      "execution_count": null,
      "id": "cca7c989",
      "metadata": {
        "id": "cca7c989",
        "outputId": "74a94f09-53bc-45e2-9275-7d52db148ed1"
      },
      "outputs": [
        {
          "name": "stdout",
          "output_type": "stream",
          "text": [
            "[[426, 921, 6710, 294, 3, 878, 7, 236, 177, 5, 61, 6167, 9, 3, 936, 279, 20, 426, 1740, 128, 61, 541, 19, 56, 626, 2, 2284, 1, 1988, 789, 14, 43, 269, 4, 1, 936, 2016, 6710, 3831, 994, 776, 19, 1, 1073, 6, 3019, 4043, 1316, 329, 4043, 1316, 4, 1, 2031, 1229], [208, 98, 1446, 402, 4401, 7377, 6168, 192, 25, 760, 19, 3280, 201, 20, 72, 201, 4491, 1691, 100, 2, 3, 67, 1055, 251, 233, 654, 269, 588, 8, 3738, 9, 2469, 1, 233, 35, 4401, 3639, 13, 38, 77, 1330, 9, 1, 251, 82, 6168, 13, 10, 2, 25, 43, 51, 2819], [102, 338, 555, 715, 10, 135, 33, 50, 29, 27, 39, 6513, 3174, 43, 429, 9, 2265, 1098, 1230, 495, 1480, 1757, 82, 2453, 9, 61, 2240, 2593, 12, 323, 4, 556, 977, 194, 1, 5345, 94, 13, 4, 441, 6, 4, 70, 879, 551, 793, 180, 6, 1412, 1757, 2545, 133, 1675, 19, 47, 83, 14, 6514, 1230]]\n"
          ]
        }
      ],
      "source": [
        "src_vocab = 8000\n",
        "src_tokenizer = Tokenizer(num_words=src_vocab) # 단어 집합의 크기를 8,000으로 제한\n",
        "src_tokenizer.fit_on_texts(encoder_input_train) # 단어 집합 재생성\n",
        "# 텍스트 시퀀스를 정수 시퀀스로 변환\n",
        "encoder_input_train = src_tokenizer.texts_to_sequences(encoder_input_train) \n",
        "encoder_input_test = src_tokenizer.texts_to_sequences(encoder_input_test)\n",
        "\n",
        "# 잘 진행되었는지 샘플 출력\n",
        "print(encoder_input_train[:3])"
      ]
    },
    {
      "cell_type": "code",
      "execution_count": null,
      "id": "537b7caf",
      "metadata": {
        "id": "537b7caf",
        "outputId": "940c71b8-7fc0-4b6a-af15-daea02d92945"
      },
      "outputs": [
        {
          "name": "stdout",
          "output_type": "stream",
          "text": [
            "단어 집합(vocabulary)의 크기 : 36877\n",
            "등장 빈도가 5번 이하인 희귀 단어의 수: 27115\n",
            "단어 집합에서 희귀 단어를 제외시킬 경우의 단어 집합의 크기 9762\n",
            "단어 집합에서 희귀 단어의 비율: 73.52821541882474\n",
            "전체 등장 빈도에서 희귀 단어 등장 빈도 비율: 7.932538230047749\n"
          ]
        }
      ],
      "source": [
        "# headlines에도 동일한 작업 수행\n",
        "tar_tokenizer = Tokenizer()\n",
        "tar_tokenizer.fit_on_texts(decoder_input_train)\n",
        "threshold = 6\n",
        "total_cnt = len(tar_tokenizer.word_index) # 단어의 수\n",
        "rare_cnt = 0 # 등장 빈도수가 threshold보다 작은 단어의 개수를 카운트\n",
        "total_freq = 0 # 훈련 데이터의 전체 단어 빈도수 총 합\n",
        "rare_freq = 0 # 등장 빈도수가 threshold보다 작은 단어의 등장 빈도수의 총 합\n",
        "\n",
        "# 단어와 빈도수의 쌍(pair)을 key와 value로 받는다.\n",
        "for key, value in tar_tokenizer.word_counts.items():\n",
        "    total_freq = total_freq + value\n",
        "\n",
        "    # 단어의 등장 빈도수가 threshold보다 작으면\n",
        "    if(value < threshold):\n",
        "        rare_cnt = rare_cnt + 1\n",
        "        rare_freq = rare_freq + value\n",
        "\n",
        "print('단어 집합(vocabulary)의 크기 :', total_cnt)\n",
        "print('등장 빈도가 %s번 이하인 희귀 단어의 수: %s'%(threshold - 1, rare_cnt))\n",
        "print('단어 집합에서 희귀 단어를 제외시킬 경우의 단어 집합의 크기 %s'%(total_cnt - rare_cnt))\n",
        "print(\"단어 집합에서 희귀 단어의 비율:\", (rare_cnt / total_cnt)*100)\n",
        "print(\"전체 등장 빈도에서 희귀 단어 등장 빈도 비율:\", (rare_freq / total_freq)*100)"
      ]
    },
    {
      "cell_type": "code",
      "execution_count": null,
      "id": "aae1ca45",
      "metadata": {
        "id": "aae1ca45",
        "outputId": "c9f672b7-1fee-4c7e-f92d-426284b2a440"
      },
      "outputs": [
        {
          "name": "stdout",
          "output_type": "stream",
          "text": [
            "input\n",
            "input  [[1, 586, 1706, 5, 837, 9, 297], [1, 128, 91, 324, 194, 74, 29], [1, 1975, 15, 1416, 398, 1043, 4, 525, 35], [1, 703, 409, 98, 597, 8, 688], [1, 9, 339, 199, 146, 7, 117]]\n",
            "target\n",
            "decoder  [[586, 1706, 5, 837, 9, 297, 2], [128, 91, 324, 194, 74, 29, 2], [1975, 15, 1416, 398, 1043, 4, 525, 35, 2], [703, 409, 98, 597, 8, 688, 2], [9, 339, 199, 146, 7, 117, 2]]\n"
          ]
        }
      ],
      "source": [
        "tar_vocab = 2000\n",
        "tar_tokenizer = Tokenizer(num_words=tar_vocab) \n",
        "tar_tokenizer.fit_on_texts(decoder_input_train)\n",
        "tar_tokenizer.fit_on_texts(decoder_target_train)\n",
        "\n",
        "# 텍스트 시퀀스를 정수 시퀀스로 변환\n",
        "decoder_input_train = tar_tokenizer.texts_to_sequences(decoder_input_train) \n",
        "decoder_target_train = tar_tokenizer.texts_to_sequences(decoder_target_train)\n",
        "decoder_input_test = tar_tokenizer.texts_to_sequences(decoder_input_test)\n",
        "decoder_target_test = tar_tokenizer.texts_to_sequences(decoder_target_test)\n",
        "\n",
        "# 잘 변환되었는지 확인\n",
        "print('input')\n",
        "print('input ',decoder_input_train[:5])\n",
        "print('target')\n",
        "print('decoder ',decoder_target_train[:5])"
      ]
    },
    {
      "cell_type": "code",
      "execution_count": null,
      "id": "55579bb9",
      "metadata": {
        "id": "55579bb9",
        "outputId": "ef0e249a-0e0d-4e66-aba2-d4e629211f4d"
      },
      "outputs": [
        {
          "name": "stdout",
          "output_type": "stream",
          "text": [
            "삭제할 훈련 데이터의 개수 : 19\n",
            "삭제할 테스트 데이터의 개수 : 0\n",
            "훈련 데이터의 개수 : 59093\n",
            "훈련 레이블의 개수 : 59093\n",
            "테스트 데이터의 개수 : 14778\n",
            "테스트 레이블의 개수 : 14778\n"
          ]
        }
      ],
      "source": [
        "drop_train = [index for index, sentence in enumerate(decoder_input_train) if len(sentence) == 1]\n",
        "drop_test = [index for index, sentence in enumerate(decoder_input_test) if len(sentence) == 1]\n",
        "\n",
        "print('삭제할 훈련 데이터의 개수 :', len(drop_train))\n",
        "print('삭제할 테스트 데이터의 개수 :', len(drop_test))\n",
        "\n",
        "encoder_input_train = [sentence for index, sentence in enumerate(encoder_input_train) if index not in drop_train]\n",
        "decoder_input_train = [sentence for index, sentence in enumerate(decoder_input_train) if index not in drop_train]\n",
        "decoder_target_train = [sentence for index, sentence in enumerate(decoder_target_train) if index not in drop_train]\n",
        "\n",
        "encoder_input_test = [sentence for index, sentence in enumerate(encoder_input_test) if index not in drop_test]\n",
        "decoder_input_test = [sentence for index, sentence in enumerate(decoder_input_test) if index not in drop_test]\n",
        "decoder_target_test = [sentence for index, sentence in enumerate(decoder_target_test) if index not in drop_test]\n",
        "\n",
        "print('훈련 데이터의 개수 :', len(encoder_input_train))\n",
        "print('훈련 레이블의 개수 :', len(decoder_input_train))\n",
        "print('테스트 데이터의 개수 :', len(encoder_input_test))\n",
        "print('테스트 레이블의 개수 :', len(decoder_input_test))"
      ]
    },
    {
      "cell_type": "code",
      "execution_count": null,
      "id": "604c19f2",
      "metadata": {
        "id": "604c19f2"
      },
      "outputs": [],
      "source": [
        "from tensorflow.keras.preprocessing.sequence import pad_sequences # 패딩\n",
        "encoder_input_train = pad_sequences(encoder_input_train, maxlen=text_max_len, padding='post')\n",
        "encoder_input_test = pad_sequences(encoder_input_test, maxlen=text_max_len, padding='post')\n",
        "decoder_input_train = pad_sequences(decoder_input_train, maxlen=headlines_max_len, padding='post')\n",
        "decoder_target_train = pad_sequences(decoder_target_train, maxlen=headlines_max_len, padding='post')\n",
        "decoder_input_test = pad_sequences(decoder_input_test, maxlen=headlines_max_len, padding='post')\n",
        "decoder_target_test = pad_sequences(decoder_target_test, maxlen=headlines_max_len, padding='post')"
      ]
    },
    {
      "cell_type": "markdown",
      "id": "263e3e1f",
      "metadata": {
        "id": "263e3e1f"
      },
      "source": [
        "# Step 3. 어텐션 메커니즘 사용하기 (추상적 요약)"
      ]
    },
    {
      "cell_type": "code",
      "execution_count": null,
      "id": "7f48a087",
      "metadata": {
        "id": "7f48a087"
      },
      "outputs": [],
      "source": [
        "from tensorflow.keras.layers import Input, LSTM, Embedding, Dense, Concatenate, TimeDistributed\n",
        "from tensorflow.keras.models import Model\n",
        "from tensorflow.keras.callbacks import EarlyStopping, ModelCheckpoint\n",
        "\n",
        "\n",
        "# 인코더 설계 시작\n",
        "embedding_dim = 128\n",
        "hidden_size = 256\n",
        "\n",
        "# 인코더\n",
        "encoder_inputs = Input(shape=(text_max_len,))\n",
        "\n",
        "# 인코더의 임베딩 층\n",
        "enc_emb = Embedding(src_vocab, embedding_dim)(encoder_inputs)\n",
        "\n",
        "# 인코더의 LSTM 1\n",
        "# encoder_lstm1 = LSTM(hidden_size, return_sequences=True, return_state=True ,dropout = 0.4, recurrent_dropout = 0.4)\n",
        "encoder_lstm1 = LSTM(hidden_size, return_sequences=True, return_state=True ,dropout = 0.4)\n",
        "encoder_output1, state_h1, state_c1 = encoder_lstm1(enc_emb)\n",
        "\n",
        "# 인코더의 LSTM 2\n",
        "# encoder_lstm2 = LSTM(hidden_size, return_sequences=True, return_state=True, dropout=0.4, recurrent_dropout=0.4)\n",
        "encoder_lstm2 = LSTM(hidden_size, return_sequences=True, return_state=True, dropout=0.4)\n",
        "encoder_output2, state_h2, state_c2 = encoder_lstm2(encoder_output1)\n",
        "\n",
        "# 인코더의 LSTM 3\n",
        "# encoder_lstm3 = LSTM(hidden_size, return_state=True, return_sequences=True, dropout=0.4, recurrent_dropout=0.4)\n",
        "encoder_lstm3 = LSTM(hidden_size, return_state=True, return_sequences=True, dropout=0.4)\n",
        "encoder_outputs, state_h, state_c= encoder_lstm3(encoder_output2)"
      ]
    },
    {
      "cell_type": "code",
      "execution_count": null,
      "id": "aee4dfde",
      "metadata": {
        "id": "aee4dfde"
      },
      "outputs": [],
      "source": [
        "# 디코더 설계\n",
        "decoder_inputs = Input(shape=(None,))\n",
        "\n",
        "# 디코더의 임베딩 층\n",
        "dec_emb_layer = Embedding(tar_vocab, embedding_dim)\n",
        "dec_emb = dec_emb_layer(decoder_inputs)\n",
        "\n",
        "# 디코더의 LSTM\n",
        "# decoder_lstm = LSTM(hidden_size, return_sequences=True, return_state=True, dropout=0.4, recurrent_dropout=0.2)\n",
        "decoder_lstm = LSTM(hidden_size, return_sequences=True, return_state=True, dropout=0.4)\n",
        "decoder_outputs, _, _ = decoder_lstm(dec_emb, initial_state=[state_h, state_c])"
      ]
    },
    {
      "cell_type": "code",
      "execution_count": null,
      "id": "3859466a",
      "metadata": {
        "id": "3859466a",
        "outputId": "ff9bc673-1b74-49f2-e975-5365a3fad689"
      },
      "outputs": [
        {
          "name": "stdout",
          "output_type": "stream",
          "text": [
            "Model: \"model\"\n",
            "__________________________________________________________________________________________________\n",
            "Layer (type)                    Output Shape         Param #     Connected to                     \n",
            "==================================================================================================\n",
            "input_1 (InputLayer)            [(None, 60)]         0                                            \n",
            "__________________________________________________________________________________________________\n",
            "embedding (Embedding)           (None, 60, 128)      1024000     input_1[0][0]                    \n",
            "__________________________________________________________________________________________________\n",
            "lstm (LSTM)                     [(None, 60, 256), (N 394240      embedding[0][0]                  \n",
            "__________________________________________________________________________________________________\n",
            "input_2 (InputLayer)            [(None, None)]       0                                            \n",
            "__________________________________________________________________________________________________\n",
            "lstm_1 (LSTM)                   [(None, 60, 256), (N 525312      lstm[0][0]                       \n",
            "__________________________________________________________________________________________________\n",
            "embedding_1 (Embedding)         (None, None, 128)    256000      input_2[0][0]                    \n",
            "__________________________________________________________________________________________________\n",
            "lstm_2 (LSTM)                   [(None, 60, 256), (N 525312      lstm_1[0][0]                     \n",
            "__________________________________________________________________________________________________\n",
            "lstm_3 (LSTM)                   [(None, None, 256),  394240      embedding_1[0][0]                \n",
            "                                                                 lstm_2[0][1]                     \n",
            "                                                                 lstm_2[0][2]                     \n",
            "__________________________________________________________________________________________________\n",
            "dense (Dense)                   (None, None, 2000)   514000      lstm_3[0][0]                     \n",
            "==================================================================================================\n",
            "Total params: 3,633,104\n",
            "Trainable params: 3,633,104\n",
            "Non-trainable params: 0\n",
            "__________________________________________________________________________________________________\n"
          ]
        }
      ],
      "source": [
        "# 디코더의 출력층\n",
        "decoder_softmax_layer = Dense(tar_vocab, activation='softmax')\n",
        "decoder_softmax_outputs = decoder_softmax_layer(decoder_outputs) \n",
        "\n",
        "# 모델 정의\n",
        "model = Model([encoder_inputs, decoder_inputs], decoder_softmax_outputs)\n",
        "model.summary()"
      ]
    },
    {
      "cell_type": "markdown",
      "id": "fed99a42",
      "metadata": {
        "id": "fed99a42"
      },
      "source": [
        "# Step 3. 어텐션 메커니즘 사용하기 (추상적 요약)"
      ]
    },
    {
      "cell_type": "code",
      "execution_count": null,
      "id": "c32d4be5",
      "metadata": {
        "id": "c32d4be5",
        "outputId": "c1bd1fa9-e0ed-4434-fb95-9d121083e634"
      },
      "outputs": [
        {
          "name": "stdout",
          "output_type": "stream",
          "text": [
            "Model: \"model_1\"\n",
            "__________________________________________________________________________________________________\n",
            "Layer (type)                    Output Shape         Param #     Connected to                     \n",
            "==================================================================================================\n",
            "input_1 (InputLayer)            [(None, 60)]         0                                            \n",
            "__________________________________________________________________________________________________\n",
            "embedding (Embedding)           (None, 60, 128)      1024000     input_1[0][0]                    \n",
            "__________________________________________________________________________________________________\n",
            "lstm (LSTM)                     [(None, 60, 256), (N 394240      embedding[0][0]                  \n",
            "__________________________________________________________________________________________________\n",
            "input_2 (InputLayer)            [(None, None)]       0                                            \n",
            "__________________________________________________________________________________________________\n",
            "lstm_1 (LSTM)                   [(None, 60, 256), (N 525312      lstm[0][0]                       \n",
            "__________________________________________________________________________________________________\n",
            "embedding_1 (Embedding)         (None, None, 128)    256000      input_2[0][0]                    \n",
            "__________________________________________________________________________________________________\n",
            "lstm_2 (LSTM)                   [(None, 60, 256), (N 525312      lstm_1[0][0]                     \n",
            "__________________________________________________________________________________________________\n",
            "lstm_3 (LSTM)                   [(None, None, 256),  394240      embedding_1[0][0]                \n",
            "                                                                 lstm_2[0][1]                     \n",
            "                                                                 lstm_2[0][2]                     \n",
            "__________________________________________________________________________________________________\n",
            "attention_layer (AdditiveAttent (None, None, 256)    256         lstm_3[0][0]                     \n",
            "                                                                 lstm_2[0][0]                     \n",
            "__________________________________________________________________________________________________\n",
            "concat_layer (Concatenate)      (None, None, 512)    0           lstm_3[0][0]                     \n",
            "                                                                 attention_layer[0][0]            \n",
            "__________________________________________________________________________________________________\n",
            "dense_1 (Dense)                 (None, None, 2000)   1026000     concat_layer[0][0]               \n",
            "==================================================================================================\n",
            "Total params: 4,145,360\n",
            "Trainable params: 4,145,360\n",
            "Non-trainable params: 0\n",
            "__________________________________________________________________________________________________\n"
          ]
        }
      ],
      "source": [
        "from tensorflow.keras.layers import AdditiveAttention\n",
        "\n",
        "# 어텐션 층(어텐션 함수)\n",
        "attn_layer = AdditiveAttention(name='attention_layer')\n",
        "\n",
        "# 인코더와 디코더의 모든 time step의 hidden state를 어텐션 층에 전달하고 결과를 리턴\n",
        "attn_out = attn_layer([decoder_outputs, encoder_outputs])\n",
        "\n",
        "\n",
        "# 어텐션의 결과와 디코더의 hidden state들을 연결\n",
        "decoder_concat_input = Concatenate(axis=-1, name='concat_layer')([decoder_outputs, attn_out])\n",
        "\n",
        "# 디코더의 출력층\n",
        "decoder_softmax_layer = Dense(tar_vocab, activation='softmax')\n",
        "decoder_softmax_outputs = decoder_softmax_layer(decoder_concat_input)\n",
        "\n",
        "# 모델 정의\n",
        "model = Model([encoder_inputs, decoder_inputs], decoder_softmax_outputs)\n",
        "model.summary()"
      ]
    },
    {
      "cell_type": "code",
      "execution_count": null,
      "id": "8ebb8728",
      "metadata": {
        "scrolled": true,
        "id": "8ebb8728",
        "outputId": "0fe7739f-9ccf-448f-a1b4-262a48f1e35d"
      },
      "outputs": [
        {
          "name": "stdout",
          "output_type": "stream",
          "text": [
            "Epoch 1/50\n",
            "231/231 [==============================] - 48s 85ms/step - loss: 4.4585 - val_loss: 4.1756\n",
            "Epoch 2/50\n",
            "231/231 [==============================] - 19s 81ms/step - loss: 4.0639 - val_loss: 3.8792\n",
            "Epoch 3/50\n",
            "231/231 [==============================] - 19s 82ms/step - loss: 3.7591 - val_loss: 3.5923\n",
            "Epoch 4/50\n",
            "231/231 [==============================] - 19s 83ms/step - loss: 3.5142 - val_loss: 3.4209\n",
            "Epoch 5/50\n",
            "231/231 [==============================] - 19s 84ms/step - loss: 3.3449 - val_loss: 3.2977\n",
            "Epoch 6/50\n",
            "231/231 [==============================] - 20s 85ms/step - loss: 3.2036 - val_loss: 3.1932\n",
            "Epoch 7/50\n",
            "231/231 [==============================] - 20s 86ms/step - loss: 3.0829 - val_loss: 3.1156\n",
            "Epoch 8/50\n",
            "231/231 [==============================] - 20s 86ms/step - loss: 2.9778 - val_loss: 3.0499\n",
            "Epoch 9/50\n",
            "231/231 [==============================] - 20s 86ms/step - loss: 2.8862 - val_loss: 2.9933\n",
            "Epoch 10/50\n",
            "231/231 [==============================] - 20s 85ms/step - loss: 2.8046 - val_loss: 2.9520\n",
            "Epoch 11/50\n",
            "231/231 [==============================] - 20s 86ms/step - loss: 2.7302 - val_loss: 2.9113\n",
            "Epoch 12/50\n",
            "231/231 [==============================] - 20s 86ms/step - loss: 2.6621 - val_loss: 2.8829\n",
            "Epoch 13/50\n",
            "231/231 [==============================] - 20s 86ms/step - loss: 2.5992 - val_loss: 2.8610\n",
            "Epoch 14/50\n",
            "231/231 [==============================] - 20s 85ms/step - loss: 2.5417 - val_loss: 2.8411\n",
            "Epoch 15/50\n",
            "231/231 [==============================] - 20s 85ms/step - loss: 2.4875 - val_loss: 2.8267\n",
            "Epoch 16/50\n",
            "231/231 [==============================] - 20s 85ms/step - loss: 2.4376 - val_loss: 2.8117\n",
            "Epoch 17/50\n",
            "231/231 [==============================] - 20s 85ms/step - loss: 2.3905 - val_loss: 2.7998\n",
            "Epoch 18/50\n",
            "231/231 [==============================] - 20s 85ms/step - loss: 2.3461 - val_loss: 2.7950\n",
            "Epoch 19/50\n",
            "231/231 [==============================] - 20s 86ms/step - loss: 2.3013 - val_loss: 2.7889\n",
            "Epoch 20/50\n",
            "231/231 [==============================] - 20s 86ms/step - loss: 2.2626 - val_loss: 2.7841\n",
            "Epoch 21/50\n",
            "231/231 [==============================] - 20s 85ms/step - loss: 2.2219 - val_loss: 2.7822\n",
            "Epoch 22/50\n",
            "231/231 [==============================] - 20s 86ms/step - loss: 2.1875 - val_loss: 2.7842\n",
            "Epoch 23/50\n",
            "231/231 [==============================] - 20s 86ms/step - loss: 2.1531 - val_loss: 2.7837\n",
            "Epoch 00023: early stopping\n"
          ]
        }
      ],
      "source": [
        "# 모델 훈련\n",
        "model.compile(optimizer='rmsprop', loss='sparse_categorical_crossentropy')\n",
        "es = EarlyStopping(monitor='val_loss', patience=2, verbose=1)\n",
        "history = model.fit(x=[encoder_input_train, decoder_input_train], y=decoder_target_train, \\\n",
        "          validation_data=([encoder_input_test, decoder_input_test], decoder_target_test), \\\n",
        "          batch_size=256, callbacks=[es], epochs=50)"
      ]
    },
    {
      "cell_type": "code",
      "execution_count": null,
      "id": "885fc86f",
      "metadata": {
        "id": "885fc86f",
        "outputId": "408e0390-34e2-4ec3-bd20-a68e3a0502e4"
      },
      "outputs": [
        {
          "name": "stdout",
          "output_type": "stream",
          "text": [
            "원문 : bengaluru based startup has raised an undisclosed amount in a pre series a funding led by global education services and other investors ceo said the funds will be used to expand its of campus related products and services founded in 2013 offers a platform to connect all in the education sector \n",
            "실제 요약 : startup raises pre series a funding \n",
            "예측 요약 :  startup raises funds from\n",
            "\n",
            "\n",
            "원문 : the chennai railway police has arrested three police for a man at the chennai central railway station the 23 year old passenger was sleeping in the waiting hall when he was allegedly up by the policemen on duty the policemen then assaulted him and took away ã¢ââ¹1 500 and a watch worth ã¢ââ¹1 000 the man said in his complaint \n",
            "실제 요약 : 3 cops for man at chennai railway station \n",
            "예측 요약 :  mumbai man held for to train in mumbai\n",
            "\n",
            "\n",
            "원문 : actor grant has revealed his new bride swedish producer anna was kidnapped by a taxi driver during their in paris after their wedding last month the 57 year old actor took a taxi with his 39 year old wife and asked the driver to drive to a cash machine the machine didn't work and the driver drove away with anna \n",
            "실제 요약 : reveals his new was on \n",
            "예측 요약 :  actor to shoot from car in mumbai\n",
            "\n",
            "\n",
            "원문 : the maharashtra government has signed 34 agreements with various organisations like tata and aditya birla foundation to improve healthcare and education facilities in villages this move is part of the village transformation mission adopted by the state in 2016 this is the biggest ever public private partnership that will change the lives of the cm devendra fadnavis said \n",
            "실제 요약 : maharashtra govt signs on health education \n",
            "예측 요약 :  maha to get up for\n",
            "\n",
            "\n",
            "원문 : shikhar dhawan has received a pay hike from the bcci earning a fee of ã¢ââ¹7 crore up from ã¢ââ¹50 lakh last year dhawan has been to the newly introduced grade a from grade c further rohit sharma bhuvneshwar kumar and jasprit bumrah who were in grade b ã¢ââ¹1 crore last year will earn ã¢ââ¹7 crore each \n",
            "실제 요약 : dhawan given salary hike by bcci \n",
            "예측 요약 :  varun dhawan fee by ã¢ââ¹1 lakh\n",
            "\n",
            "\n",
            "원문 : after the pakistani forces the bodies of two indian soldiers the army on monday killed seven pakistani soldiers according to reports two pakistani were also destroyed in the retaliation by the indian army reports added earlier defence minister arun jaitley had said the armed forces will react to pakistan's act \n",
            "실제 요약 : army kills 7 pakistani soldiers 2 reports \n",
            "예측 요약 :  pakistani kills pakistani soldiers in ceasefire\n",
            "\n",
            "\n",
            "원문 : the annual yatra festival of lord began on sunday in odisha's puri the year old festival marks the return of lord to with his brother and sister to the temple of devi their ten thousand people are expected to attend the yatra which will end on july 3 \n",
            "실제 요약 : biggest festival begins \n",
            "예측 요약 :  in pictures of the\n",
            "\n",
            "\n",
            "원문 : a member of the us demonstration team died on sunday after his failed to open while performing in an aerial exhibition as part of new york fleet week festival fleet week is an annual celebration to honour the members of the us navy coast guard and marine and showcase maritime latest capabilities \n",
            "실제 요약 : us navy dies after fails to open \n",
            "예측 요약 :  dies in paris\n",
            "\n",
            "\n",
            "원문 : indian shooter became the world number one shooter in the 10 metre air pistol category after having won a silver medal at the recently concluded shooting world cup in south korea the other indian shooter in the world top 10 rankings is rai who is placed sixth while shooter om prakash is placed 12th in the list \n",
            "실제 요약 : indian becomes world no 1 in air \n",
            "예측 요약 :  india's 1st world champion fails to win silver\n",
            "\n",
            "\n",
            "원문 : mark gave a speech for 36 seconds after winning an oscar for best costume design which was the speech at the academy awards received a jet and a free stay at a luxury hotel in arizona as promised by oscars host jimmy who said the winner with the speech short would be \n",
            "실제 요약 : the speech at 2018 36 \n",
            "예측 요약 :  year old wins award for\n",
            "\n",
            "\n",
            "원문 : prakash is set to direct a biopic on bihar dr narayan singh talking about his upcoming film said dr is our national his life is so inspiring i would love to direct a biopic on him earlier vikas bahl had announced a biopic titled on patna based anand kumar starring hrithik roshan \n",
            "실제 요약 : to a biopic on a bihar \n",
            "예측 요약 :  my film on my life\n",
            "\n",
            "\n",
            "원문 : swedish fighter jets dropped bombs in an effort to tackle the in the country since 16 days the move was aimed at the of oxygen with the help of the pressure caused by the explosive devices the have affected an estimated 250 square kilometre of forest area \n",
            "실제 요약 : video to \n",
            "예측 요약 :  in pictures of the\n",
            "\n",
            "\n",
            "원문 : the 18 rebel aiadmk mlas will not move the supreme court against the madras high court's order their but will face the by elections leader ttv dhinakaran said chief election commissioner rawat had said the commission will start making arrangements for by elections if the disqualified mlas fail to challenge the verdict within 30 days \n",
            "실제 요약 : 18 aiadmk mlas won't challenge order \n",
            "예측 요약 :  no parties to parties in polls sc\n",
            "\n",
            "\n",
            "원문 : the european union eu has fined unit 1 billion ã¢ââ¹6 800 crore on wednesday over price fixing it said with 5 truck manufacturers for 14 years to fix prices and pass on costs of new emissions reducing technology this fine is second highest ever for price fixing after was fined 1 19 billion in the same investigation \n",
            "실제 요약 : fined 1 billion by eu for price fixing \n",
            "예측 요약 :  eu net worth crore\n",
            "\n",
            "\n",
            "원문 : congress mp and former union minister shashi tharoor has denied the rumours of him joining bjp for 40 years i have spoken and written in defence of a india with equal rights on this no compromise he said this comes after cpi m leader said four congress leaders including tharoor were planning to join bjp \n",
            "실제 요약 : tharoor denies reports of him bjp \n",
            "예측 요약 :  congress mp calls congress mp\n",
            "\n",
            "\n",
            "원문 : to telecom conglomerate reliance shares as much as 6 6 on friday 000 crore from the company's market value this comes despite reliance reporting a 17 3 rise in profit at ã¢ââ¹9 crore for the september quarter however its gross margin or profit earned on each of crude processed fell to a 3 5 year low of 9 50 per \n",
            "실제 요약 : reliance loses in after results \n",
            "예측 요약 :  reliance profit rises to ã¢ââ¹1 crore\n",
            "\n",
            "\n",
            "원문 : portuguese president de trolled his us counterpart donald trump after the latter joked that footballer cristiano ronaldo could beat him if he ever runs for presidency responding to trump's remark that he wouldn't have a chance of beating ronaldo in the elections de said president i must tell you portugal is not just united states \n",
            "실제 요약 : trump says ronaldo can beat prez in polls trolled \n",
            "예측 요약 :  trump is a in the world trump\n",
            "\n",
            "\n",
            "원문 : maharashtra congress secretary sanjay was killed while three others were injured after their suv collided with a bus near on sunday police said they were returning from a function in when the accident happened the suv driver lost control and hit the bus while trying to save a who came from the wrong side police added \n",
            "실제 요약 : congress leader killed in road accident in maharashtra \n",
            "예측 요약 :  congress leader killed in fire in accident\n",
            "\n",
            "\n",
            "원문 : german maker mercedes on saturday unveiled 20 foot long mercedes vision 6 concept car the electric car is the first full sized open top with a drive system that has an of the car offers a range of 500 kilometres on a single charge and is claimed to run 96 6 kilometres with just five minutes of charging \n",
            "실제 요약 : unveils 20 foot long concept car \n",
            "예측 요약 :  unveils car car\n",
            "\n",
            "\n",
            "원문 : actor known for his roles in tv series and superhero film said that he is his own worst critic there's my own criticism which is probably than anyone would ever suspect he added the full of hate but it's nothing compared to the self critic in your head for he further said \n",
            "실제 요약 : i am my own worst \n",
            "예측 요약 :  i got look from his own\n",
            "\n",
            "\n",
            "원문 : with an average age of 29 india will be world's youngest country by 2020 india's envoy to sri lanka singh said on sunday with western europe the us south korea japan and even china this potential offers india an unprecedented edge which could further contribute to the gdp growth rate he stated n \n",
            "실제 요약 : india will be world's youngest nation by 2020 envoy \n",
            "예측 요약 :  india to become india's 1st world\n",
            "\n",
            "\n",
            "원문 : indian railways is reportedly planning to charge ã¢ââ¹50 100 extra on the booking of lower as there is a high demand for these the move similar to airlines charging extra for window seats is aimed to benefit senior citizens and those in need at present passengers can select the while booking their tickets on the indian railways website \n",
            "실제 요약 : railways to charge ã¢ââ¹50 100 for \n",
            "예측 요약 :  railways to get to check on\n",
            "\n",
            "\n",
            "원문 : locals in florida us have been posting online about that are falling from trees after being completely frozen and because of the cold temperatures in the region don't that they're dead it's too cold for them to move a wildlife official said this comes after led to the first in florida after 29 years \n",
            "실제 요약 : and down from in \n",
            "예측 요약 :  us police lets face on\n",
            "\n",
            "\n",
            "원문 : to prove consent hollywood producer harvey weinstein has submitted in court e he received from the woman who accused him of rape one of the e read i love you always do but i hate feeling like a b call the woman had sent the email on 8 2017 nearly four years after weinstein allegedly raped her \n",
            "실제 요약 : love e to \n",
            "예측 요약 :  court rejects rape of rape\n",
            "\n",
            "\n",
            "원문 : has launched a 5 day taj hotel sale offering flat 30 on taj hotels for hdfc credit card users other card users will get flat 15 the sale from 12th 16th june is valid for taj properties in india abroad providing a perfect opportunity to plan a customers also get taj experiences card with every booking \n",
            "실제 요약 : offers 30 on at taj \n",
            "예측 요약 :  launches free education in bengaluru\n",
            "\n",
            "\n",
            "원문 : yogi adityanath government has approved making the registration of marriages compulsory for all religions and castes in uttar pradesh the approval comes in wake of a 2006 supreme court's verdict which asked centre and state governments to draft rules for making marriage registration compulsory reportedly ã¢ââ¹10 fine will be levied for delay up to a year and ã¢ââ¹50 beyond that \n",
            "실제 요약 : up government makes of \n",
            "예측 요약 :  up to get up for\n",
            "\n",
            "\n",
            "원문 : south korean conglomerate and carmaker have discussed proposals to invest about 6 billion combined in india according to reports reportedly will likely invest 3 5 billion in next five years in retail chemicals food processing and real estate in india may invest about 1 2 billion to build a car factory and an engine plant in southern india \n",
            "실제 요약 : to invest 6 billion in india report \n",
            "예측 요약 :  to invest 1 billion in india\n",
            "\n",
            "\n",
            "원문 : fans of 19th century author recently participated in the parade during the annual 10 day festival in england dressed in traditional the fans danced in front of the historic royal before making their way through the city centre notably 2017 marks the anniversary of death \n",
            "실제 요약 : fans in \n",
            "예측 요약 :  fans to run at\n",
            "\n",
            "\n",
            "원문 : foreign ministry has denied reports claiming that it has its ambassador to pakistan abu ali palestine had recalled ali over his presence at a rally organised by 26 11 mastermind and jamaat ud chief hafiz saeed last month palestine had assured india that the country would not engage with those who commit acts of terror against it \n",
            "실제 요약 : denies pak envoy after him \n",
            "예측 요약 :  denies pak's claim of pakistan\n",
            "\n",
            "\n",
            "원문 : actor ryan cancelled surgery for an arm injury to promote his film 2' in beijing ahead of its release in china the actor who injured his left arm while shooting for the film said this was more important i was not going to miss coming to china the film first released in several countries in may 2018 \n",
            "실제 요약 : ryan surgery to promote 2' in china \n",
            "예측 요약 :  indigo flight to shoot from\n",
            "\n",
            "\n",
            "원문 : rock band has been barred from performing at a concert in jordan for the second year in a row after lawmakers objected to the lead adding that the and lyrics about were against the norms of the country an official said people had a firm say on not hosting such a band \n",
            "실제 요약 : bans with gay lead singer \n",
            "예측 요약 :  banned for at concert\n",
            "\n",
            "\n",
            "원문 : rock band park shared suicide prevention resources on a web page as a tribute to their lead singer who allegedly committed suicide on thursday the page features a photo of as well as links to suicide prevention working in and outside the us the site also has an area for fans to post messages \n",
            "실제 요약 : park shares suicide as tribute to \n",
            "예측 요약 :  singer killed in suicide after death\n",
            "\n",
            "\n",
            "원문 : cash a us based inventor has designed a pair of called in real life glasses that can block out tv screens priced at around ã¢ââ¹5 800 the glasses block the of light that comes from led and screens the glasses currently in beta are all black with the logo printed in white on the sides \n",
            "실제 요약 : ã¢ââ¹5 800 that can out tv \n",
            "예측 요약 :  new tech accidentally accidentally shows on\n",
            "\n",
            "\n",
            "원문 : uttar pradesh cm yogi security asked a sikh man singh to remove his when he went to visit the politician at in gorakhpur singh said that a security man also questioned him about the religious knife sikhs carry he later managed to meet the cm the incident and adityanath assured him proper action \n",
            "실제 요약 : security asks sikh man to remove his \n",
            "예측 요약 :  up cm yogi suspends for\n",
            "\n",
            "\n",
            "원문 : former director general and padma awardee rk who was accused of sexual harassment by his woman colleague in 2015 told a delhi court my age is 78 years please the matter the complainant had resigned from later in 2015 accusing the institution of protecting and her mentally and economically \n",
            "실제 요약 : i'm speed up harassment trial against me \n",
            "예측 요약 :  director accuses ex director of sexual harassment\n",
            "\n",
            "\n",
            "원문 : bengaluru based online grocery delivery startup bigbasket is in early talks to raise 200 million over the next few months from existing and new investors bigbasket had previously raised 300 million in series e round led by alibaba at a valuation of over 800 million in february bigbasket was founded in 2011 and has raised over million till date \n",
            "실제 요약 : in talks to raise 200 million \n",
            "예측 요약 :  startup to raise million in\n",
            "\n",
            "\n",
            "원문 : actor shah rukh khan has said that currently his children and are not thinking of joining films as actors talking about srk said i think she's a great actor she really likes it if the passion is retained in the next two three years come and act he also joked that his youngest son is already acting \n",
            "실제 요약 : films as actors right now srk \n",
            "예측 요약 :  people are not srk srk\n",
            "\n",
            "\n",
            "원문 : singer chauhan while talking about reality shows that feature kids said she would never want her children to go through these shows she added they don't need to ahead of their age who won a singing reality show when she was 13 believes that children are exposed to so much so soon in reality shows these days \n",
            "실제 요약 : never want my children to go through shows \n",
            "예측 요약 :  i am not a children\n",
            "\n",
            "\n",
            "원문 : english third division side midfielder joe who survived cancer twice in last three years played against in an cup match at the stadium on wednesday it felt like i was the walking back into the after being seriously injured in a war said about his return to football \n",
            "실제 요약 : footballer who cancer plays at \n",
            "예측 요약 :  player left in match in\n",
            "\n",
            "\n",
            "원문 : actress tanushree dutta has filed a ã¢ââ¹10 crore defamation suit against rakhi sawant after she alleged that tanushree was high on drugs on the sets of movie in 2008 lawyer nitin said if she fails to she will be punished for two years or fined or both \n",
            "실제 요약 : files ã¢ââ¹10 cr after \n",
            "예측 요약 :  files defamation against\n",
            "\n",
            "\n",
            "원문 : rana has confirmed he will be replacing nana patekar in 4' after the latter walked out of the project following sexual harassment allegations against him i've never been part of a like and it's exciting to work with different he added rana further said he's looking forward to working with akshay kumar and producer sajid \n",
            "실제 요약 : replaces in 4 \n",
            "예측 요약 :  to replace metoo\n",
            "\n",
            "\n",
            "원문 : as per reports jacqueline fernandez will not star in the upcoming film 4' as its director sajid khan said that he is personally and with the actress the film's producer sajid was reportedly asked to choose between keeping jacqueline or sajid in the film jacqueline was a part of the previous three films in franchise \n",
            "실제 요약 : not in due to khan reports \n",
            "예측 요약 :  to star in report\n",
            "\n",
            "\n",
            "원문 : the cops in punjab have filed a case against a police station in for an alleged theft of electricity notably rules mandate that an fir can be lodged only against living entities a punjab state power corporation limited official said he was surprised that the in charge was not booked instead of the police station \n",
            "실제 요약 : cops file case against police station over theft \n",
            "예측 요약 :  fir against cops over illegal theft\n",
            "\n",
            "\n",
            "원문 : talking about the hole discovered on the international space station iss nasa jim has said the investigation must be allowed to go forward without and without conspiracy he also said i strongly believe we're going to get the right answer to what caused the hole on the international space station the hole was found earlier in august \n",
            "실제 요약 : hole must be without nasa \n",
            "예측 요약 :  astronaut astronaut of\n",
            "\n",
            "\n",
            "원문 : a 91 year old man has been arrested recently for allegedly murdering his 87 year old wife in kerala's district after a police said the man after killing his wife had thrown her body from the second floor of his house and had set it on august 26 the incident came to light when their son filed a missing report \n",
            "실제 요약 : old man held for killing yr old wife over a \n",
            "예측 요약 :  man kills wife for killing wife in law\n",
            "\n",
            "\n",
            "원문 : the us special representative for north korea policy is pursuing talks with north korean diplomats according to officials among the points the has made to his north korean is to stop testing nuclear bombs and missiles officials added notably us president donald had earlier dialogue with north korea as not an answer to the reclusive nation \n",
            "실제 요약 : us with n korea despite trump \n",
            "예측 요약 :  us to north korea to north korea\n",
            "\n",
            "\n",
            "원문 : a video of a news reporter missing being hit by an army helicopter while presenting a promotional report in has surfaced online the reporter can be seen shooting the segment while several helicopters fly close to her head the news aired the segment with a banner that said or courage of journalist and operator \n",
            "실제 요약 : video being hit by army helicopter \n",
            "예측 요약 :  video shows gun attacked by\n",
            "\n",
            "\n",
            "원문 : following his career best against sri lanka indian captain virat kohli has grabbed second position in the icc test rankings for batsmen kohli who had started the series in sixth position david warner cheteshwar pujara and joe root after finishing the series with an average of 50 australian captain steve smith holds the number one position \n",
            "실제 요약 : virat kohli rises to second spot in icc test \n",
            "예측 요약 :  kohli named top cricketer of icc test\n",
            "\n",
            "\n",
            "원문 : former england captain hussain trolled former indian captain sourav ganguly for posting a selfie from the lord's where ganguly had celebrated after winning against hussain led england in the trophy final in 2002 the 46 year old had posted a photo from the lord's back at this is where career started \n",
            "실제 요약 : trolls ganguly on his selfie from \n",
            "예측 요약 :  ex captain captain joins in\n",
            "\n",
            "\n",
            "원문 : fast food chain pizza has developed a limited edition jacket called using the material on its delivery according to pizza the has pizza inspired features including triple layer and an interior pizza pocket customers who order a pizza via its website or app will get a chance to have pizza delivered with their pizza \n",
            "실제 요약 : makes from on its delivery \n",
            "예측 요약 :  device that can food made\n",
            "\n",
            "\n"
          ]
        }
      ],
      "source": [
        "src_index_to_word = src_tokenizer.index_word # 원문 단어 집합에서 정수 -> 단어를 얻음\n",
        "tar_word_to_index = tar_tokenizer.word_index # 요약 단어 집합에서 단어 -> 정수를 얻음\n",
        "tar_index_to_word = tar_tokenizer.index_word # 요약 단어 집합에서 정수 -> 단어를 얻음\n",
        "# 인코더 설계\n",
        "encoder_model = Model(inputs=encoder_inputs, outputs=[encoder_outputs, state_h, state_c])\n",
        "\n",
        "# 이전 시점의 상태들을 저장하는 텐서\n",
        "decoder_state_input_h = Input(shape=(hidden_size,))\n",
        "decoder_state_input_c = Input(shape=(hidden_size,))\n",
        "\n",
        "dec_emb2 = dec_emb_layer(decoder_inputs)\n",
        "\n",
        "# 문장의 다음 단어를 예측하기 위해서 초기 상태(initial_state)를 이전 시점의 상태로 사용. 이는 뒤의 함수 decode_sequence()에 구현\n",
        "# 훈련 과정에서와 달리 LSTM의 리턴하는 은닉 상태와 셀 상태인 state_h와 state_c를 버리지 않음.\n",
        "decoder_outputs2, state_h2, state_c2 = decoder_lstm(dec_emb2, initial_state=[decoder_state_input_h, decoder_state_input_c])\n",
        "\n",
        "# 어텐션 함수\n",
        "decoder_hidden_state_input = Input(shape=(text_max_len, hidden_size))\n",
        "attn_out_inf = attn_layer([decoder_outputs2, decoder_hidden_state_input])\n",
        "decoder_inf_concat = Concatenate(axis=-1, name='concat')([decoder_outputs2, attn_out_inf])\n",
        "\n",
        "# 디코더의 출력층\n",
        "decoder_outputs2 = decoder_softmax_layer(decoder_inf_concat) \n",
        "\n",
        "# 최종 디코더 모델\n",
        "decoder_model = Model(\n",
        "    [decoder_inputs] + [decoder_hidden_state_input,decoder_state_input_h, decoder_state_input_c],\n",
        "    [decoder_outputs2] + [state_h2, state_c2])\n",
        "\n",
        "def decode_sequence(input_seq):\n",
        "    # 입력으로부터 인코더의 상태를 얻음\n",
        "    e_out, e_h, e_c = encoder_model.predict(input_seq)\n",
        "\n",
        "     # <SOS>에 해당하는 토큰 생성\n",
        "    target_seq = np.zeros((1,1))\n",
        "    target_seq[0, 0] = tar_word_to_index['sostoken']\n",
        "\n",
        "    stop_condition = False\n",
        "    decoded_sentence = ''\n",
        "    while not stop_condition: # stop_condition이 True가 될 때까지 루프 반복\n",
        "\n",
        "        output_tokens, h, c = decoder_model.predict([target_seq] + [e_out, e_h, e_c])\n",
        "        sampled_token_index = np.argmax(output_tokens[0, -1, :])\n",
        "        sampled_token = tar_index_to_word[sampled_token_index]\n",
        "\n",
        "        if (sampled_token!='eostoken'):\n",
        "            decoded_sentence += ' '+sampled_token\n",
        "\n",
        "        #  <eos>에 도달하거나 최대 길이를 넘으면 중단.\n",
        "        if (sampled_token == 'eostoken'  or len(decoded_sentence.split()) >= (headlines_max_len-1)):\n",
        "            stop_condition = True\n",
        "\n",
        "        # 길이가 1인 타겟 시퀀스를 업데이트\n",
        "        target_seq = np.zeros((1,1))\n",
        "        target_seq[0, 0] = sampled_token_index\n",
        "\n",
        "        # 상태를 업데이트 합니다.\n",
        "        e_h, e_c = h, c\n",
        "\n",
        "    return decoded_sentence\n",
        "\n",
        "# 모델 테스트\n",
        "# 원문의 정수 시퀀스를 텍스트 시퀀스로 변환\n",
        "def seq2text(input_seq):\n",
        "    temp=''\n",
        "    for i in input_seq:\n",
        "        if (i!=0):\n",
        "            temp = temp + src_index_to_word[i]+' '\n",
        "    return temp\n",
        "\n",
        "# 요약문의 정수 시퀀스를 텍스트 시퀀스로 변환\n",
        "def seq2summary(input_seq):\n",
        "    temp=''\n",
        "    for i in input_seq:\n",
        "        if ((i!=0 and i!=tar_word_to_index['sostoken']) and i!=tar_word_to_index['eostoken']):\n",
        "            temp = temp + tar_index_to_word[i] + ' '\n",
        "    return temp\n",
        "\n",
        "for i in range(50, 100):\n",
        "    print(\"원문 :\", seq2text(encoder_input_test[i]))\n",
        "    print(\"실제 요약 :\", seq2summary(decoder_input_test[i]))\n",
        "    print(\"예측 요약 :\", decode_sequence(encoder_input_test[i].reshape(1, text_max_len)))\n",
        "    print(\"\\n\")"
      ]
    },
    {
      "cell_type": "markdown",
      "id": "4fb08641",
      "metadata": {
        "id": "4fb08641"
      },
      "source": [
        "# Step 5. Summa을 이용해서 추출적 요약해보기"
      ]
    },
    {
      "cell_type": "code",
      "execution_count": null,
      "id": "fb707ce3",
      "metadata": {
        "id": "fb707ce3",
        "outputId": "4c4b6dc7-bc45-46d5-b986-f99be9a16100"
      },
      "outputs": [
        {
          "name": "stdout",
          "output_type": "stream",
          "text": [
            "The screen is filled with green, cascading code which gives way to the title, The Matrix.\n",
            "\n",
            "A phone rings and text appears on the screen: \"Call trans opt: received. 2-19-98 13:24:18 REC: Log>\" As a conversation takes place between Trinity (Carrie-Anne Moss) and Cypher (Joe Pantoliano), two free humans, a table of random green numbers are being scanned and individual numbers selected, creating a series of digits not unlike an ordinary phone number, as if a code is being deciphered or a call is being traced.\n",
            "\n",
            "Trinity discusses some unknown person. Cypher taunts Trinity, suggesting she enjoys watching him. Trinity counters that \"Morpheus (Laurence Fishburne) says he may be 'the One',\" just as the sound of a number being selected alerts Trinity that someone may be tracing their call. She ends the call.\n",
            "\n",
            "Armed policemen move down a darkened, decrepit hallway in the Heart O' the City Hotel, their flashlight beam bouncing just ahead of them. They come to room 303, kick down the door and find a woman dressed in black, facing away from them. It's Trinity. She brings her hands up from the laptop she's working on at their command.\n",
            "\n",
            "Outside the hotel a car drives up and three agents appear in neatly pressed black suits. They are Agent Smith (Hugo Weaving), Agent Brown (Paul Goddard), and Agent Jones (Robert Taylor). Agent Smith and the presiding police lieutenant argue. Agent Smith admonishes the policeman that they were given specific orders to contact the agents first, for their\n",
            "1:\n",
            "Morpheus, Trinity, Neo, Apoc, Switch, Mouse and Cypher are jacked into the Matrix.\n",
            "Trinity brings the helicopter down to the floor that Morpheus is on and Neo opens fire on the three Agents.\n",
            "2:\n",
            "['Morpheus, Trinity, Neo, Apoc, Switch, Mouse and Cypher are jacked into the Matrix.', 'Trinity brings the helicopter down to the floor that Morpheus is on and Neo opens fire on the three Agents.']\n",
            "3:\n",
            "Trinity takes Neo to Morpheus.\n",
            "Morpheus, Trinity, Neo, Apoc, Switch, Mouse and Cypher are jacked into the Matrix.\n",
            "Trinity brings the helicopter down to the floor that Morpheus is on and Neo opens fire on the three Agents.\n"
          ]
        }
      ],
      "source": [
        "import requests\n",
        "from summa.summarizer import summarize\n",
        "text = requests.get('http://rare-technologies.com/the_matrix_synopsis.txt').text\n",
        "print(text[:1500])\n",
        "print('1:')\n",
        "print(summarize(text, ratio=0.005))\n",
        "print('2:')\n",
        "print(summarize(text, ratio=0.005, split=True))\n",
        "print('3:')\n",
        "print(summarize(text, words=50))"
      ]
    },
    {
      "cell_type": "markdown",
      "id": "49d3236b",
      "metadata": {
        "id": "49d3236b"
      },
      "source": [
        "- 이번 프로젝트에서 **어려웠던 점,** : 처음부터 끝까지 다 어렵습니다\n",
        "    - 프로젝트를 진행하면서 **알아낸 점** 혹은 **아직 모호한 점**.: 이게 다 영어여서 잘 나왔는지 모르겠습니다..ㅎ\n",
        "    - 루브릭 평가 지표를 맞추기 위해 **시도한 것들** : 전부 다요!!\n",
        "    - 만약에 루브릭 평가 관련 지표를 **달성 하지 못했을 때, 이유에 관한 추정**.: 공부 부족\n",
        "    - **자기 다짐** : 자연어는 아닌 거 같다.."
      ]
    }
  ],
  "metadata": {
    "kernelspec": {
      "display_name": "Python 3 (ipykernel)",
      "language": "python",
      "name": "python3"
    },
    "language_info": {
      "codemirror_mode": {
        "name": "ipython",
        "version": 3
      },
      "file_extension": ".py",
      "mimetype": "text/x-python",
      "name": "python",
      "nbconvert_exporter": "python",
      "pygments_lexer": "ipython3",
      "version": "3.9.7"
    },
    "colab": {
      "provenance": []
    }
  },
  "nbformat": 4,
  "nbformat_minor": 5
}