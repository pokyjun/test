{
  "nbformat": 4,
  "nbformat_minor": 0,
  "metadata": {
    "colab": {
      "provenance": [],
      "collapsed_sections": [
        "wp2TzioVKPAP",
        "UdqcAz6SKSBf",
        "XBhYrwyWMVyd",
        "amE7_5vrPQOZ",
        "WRSU0lXYfMS5",
        "TrnfXNoxVkuc"
      ]
    },
    "kernelspec": {
      "name": "python3",
      "display_name": "Python 3"
    },
    "language_info": {
      "name": "python"
    },
    "widgets": {
      "application/vnd.jupyter.widget-state+json": {
        "f23ca5be525b43658628d39d07fba82c": {
          "model_module": "@jupyter-widgets/controls",
          "model_name": "HBoxModel",
          "model_module_version": "1.5.0",
          "state": {
            "_dom_classes": [],
            "_model_module": "@jupyter-widgets/controls",
            "_model_module_version": "1.5.0",
            "_model_name": "HBoxModel",
            "_view_count": null,
            "_view_module": "@jupyter-widgets/controls",
            "_view_module_version": "1.5.0",
            "_view_name": "HBoxView",
            "box_style": "",
            "children": [
              "IPY_MODEL_d8cbe6fd2969424eb044085df6643572",
              "IPY_MODEL_69bf328bb28b4beca43ec73d4719be60",
              "IPY_MODEL_2ce22c3e39e64139a3338f1f7856aa4d"
            ],
            "layout": "IPY_MODEL_51ddeb55357e40d19003ebc2bb7b4a84"
          }
        },
        "d8cbe6fd2969424eb044085df6643572": {
          "model_module": "@jupyter-widgets/controls",
          "model_name": "HTMLModel",
          "model_module_version": "1.5.0",
          "state": {
            "_dom_classes": [],
            "_model_module": "@jupyter-widgets/controls",
            "_model_module_version": "1.5.0",
            "_model_name": "HTMLModel",
            "_view_count": null,
            "_view_module": "@jupyter-widgets/controls",
            "_view_module_version": "1.5.0",
            "_view_name": "HTMLView",
            "description": "",
            "description_tooltip": null,
            "layout": "IPY_MODEL_0f38cb9734a2485b9f291340edcab3a3",
            "placeholder": "​",
            "style": "IPY_MODEL_0f877998949d46c5b690911bff87a879",
            "value": "100%"
          }
        },
        "69bf328bb28b4beca43ec73d4719be60": {
          "model_module": "@jupyter-widgets/controls",
          "model_name": "FloatProgressModel",
          "model_module_version": "1.5.0",
          "state": {
            "_dom_classes": [],
            "_model_module": "@jupyter-widgets/controls",
            "_model_module_version": "1.5.0",
            "_model_name": "FloatProgressModel",
            "_view_count": null,
            "_view_module": "@jupyter-widgets/controls",
            "_view_module_version": "1.5.0",
            "_view_name": "ProgressView",
            "bar_style": "success",
            "description": "",
            "description_tooltip": null,
            "layout": "IPY_MODEL_f3de71a2e8f949369e09d75224c15bc5",
            "max": 9912422,
            "min": 0,
            "orientation": "horizontal",
            "style": "IPY_MODEL_7ebb6da380ae4bf3a93e8e10569551ab",
            "value": 9912422
          }
        },
        "2ce22c3e39e64139a3338f1f7856aa4d": {
          "model_module": "@jupyter-widgets/controls",
          "model_name": "HTMLModel",
          "model_module_version": "1.5.0",
          "state": {
            "_dom_classes": [],
            "_model_module": "@jupyter-widgets/controls",
            "_model_module_version": "1.5.0",
            "_model_name": "HTMLModel",
            "_view_count": null,
            "_view_module": "@jupyter-widgets/controls",
            "_view_module_version": "1.5.0",
            "_view_name": "HTMLView",
            "description": "",
            "description_tooltip": null,
            "layout": "IPY_MODEL_7f980c41b75d48c9b4b399a856a7aa81",
            "placeholder": "​",
            "style": "IPY_MODEL_cb16693145dc4dcf9b815cb42f3f7bc5",
            "value": " 9912422/9912422 [00:00&lt;00:00, 26466288.44it/s]"
          }
        },
        "51ddeb55357e40d19003ebc2bb7b4a84": {
          "model_module": "@jupyter-widgets/base",
          "model_name": "LayoutModel",
          "model_module_version": "1.2.0",
          "state": {
            "_model_module": "@jupyter-widgets/base",
            "_model_module_version": "1.2.0",
            "_model_name": "LayoutModel",
            "_view_count": null,
            "_view_module": "@jupyter-widgets/base",
            "_view_module_version": "1.2.0",
            "_view_name": "LayoutView",
            "align_content": null,
            "align_items": null,
            "align_self": null,
            "border": null,
            "bottom": null,
            "display": null,
            "flex": null,
            "flex_flow": null,
            "grid_area": null,
            "grid_auto_columns": null,
            "grid_auto_flow": null,
            "grid_auto_rows": null,
            "grid_column": null,
            "grid_gap": null,
            "grid_row": null,
            "grid_template_areas": null,
            "grid_template_columns": null,
            "grid_template_rows": null,
            "height": null,
            "justify_content": null,
            "justify_items": null,
            "left": null,
            "margin": null,
            "max_height": null,
            "max_width": null,
            "min_height": null,
            "min_width": null,
            "object_fit": null,
            "object_position": null,
            "order": null,
            "overflow": null,
            "overflow_x": null,
            "overflow_y": null,
            "padding": null,
            "right": null,
            "top": null,
            "visibility": null,
            "width": null
          }
        },
        "0f38cb9734a2485b9f291340edcab3a3": {
          "model_module": "@jupyter-widgets/base",
          "model_name": "LayoutModel",
          "model_module_version": "1.2.0",
          "state": {
            "_model_module": "@jupyter-widgets/base",
            "_model_module_version": "1.2.0",
            "_model_name": "LayoutModel",
            "_view_count": null,
            "_view_module": "@jupyter-widgets/base",
            "_view_module_version": "1.2.0",
            "_view_name": "LayoutView",
            "align_content": null,
            "align_items": null,
            "align_self": null,
            "border": null,
            "bottom": null,
            "display": null,
            "flex": null,
            "flex_flow": null,
            "grid_area": null,
            "grid_auto_columns": null,
            "grid_auto_flow": null,
            "grid_auto_rows": null,
            "grid_column": null,
            "grid_gap": null,
            "grid_row": null,
            "grid_template_areas": null,
            "grid_template_columns": null,
            "grid_template_rows": null,
            "height": null,
            "justify_content": null,
            "justify_items": null,
            "left": null,
            "margin": null,
            "max_height": null,
            "max_width": null,
            "min_height": null,
            "min_width": null,
            "object_fit": null,
            "object_position": null,
            "order": null,
            "overflow": null,
            "overflow_x": null,
            "overflow_y": null,
            "padding": null,
            "right": null,
            "top": null,
            "visibility": null,
            "width": null
          }
        },
        "0f877998949d46c5b690911bff87a879": {
          "model_module": "@jupyter-widgets/controls",
          "model_name": "DescriptionStyleModel",
          "model_module_version": "1.5.0",
          "state": {
            "_model_module": "@jupyter-widgets/controls",
            "_model_module_version": "1.5.0",
            "_model_name": "DescriptionStyleModel",
            "_view_count": null,
            "_view_module": "@jupyter-widgets/base",
            "_view_module_version": "1.2.0",
            "_view_name": "StyleView",
            "description_width": ""
          }
        },
        "f3de71a2e8f949369e09d75224c15bc5": {
          "model_module": "@jupyter-widgets/base",
          "model_name": "LayoutModel",
          "model_module_version": "1.2.0",
          "state": {
            "_model_module": "@jupyter-widgets/base",
            "_model_module_version": "1.2.0",
            "_model_name": "LayoutModel",
            "_view_count": null,
            "_view_module": "@jupyter-widgets/base",
            "_view_module_version": "1.2.0",
            "_view_name": "LayoutView",
            "align_content": null,
            "align_items": null,
            "align_self": null,
            "border": null,
            "bottom": null,
            "display": null,
            "flex": null,
            "flex_flow": null,
            "grid_area": null,
            "grid_auto_columns": null,
            "grid_auto_flow": null,
            "grid_auto_rows": null,
            "grid_column": null,
            "grid_gap": null,
            "grid_row": null,
            "grid_template_areas": null,
            "grid_template_columns": null,
            "grid_template_rows": null,
            "height": null,
            "justify_content": null,
            "justify_items": null,
            "left": null,
            "margin": null,
            "max_height": null,
            "max_width": null,
            "min_height": null,
            "min_width": null,
            "object_fit": null,
            "object_position": null,
            "order": null,
            "overflow": null,
            "overflow_x": null,
            "overflow_y": null,
            "padding": null,
            "right": null,
            "top": null,
            "visibility": null,
            "width": null
          }
        },
        "7ebb6da380ae4bf3a93e8e10569551ab": {
          "model_module": "@jupyter-widgets/controls",
          "model_name": "ProgressStyleModel",
          "model_module_version": "1.5.0",
          "state": {
            "_model_module": "@jupyter-widgets/controls",
            "_model_module_version": "1.5.0",
            "_model_name": "ProgressStyleModel",
            "_view_count": null,
            "_view_module": "@jupyter-widgets/base",
            "_view_module_version": "1.2.0",
            "_view_name": "StyleView",
            "bar_color": null,
            "description_width": ""
          }
        },
        "7f980c41b75d48c9b4b399a856a7aa81": {
          "model_module": "@jupyter-widgets/base",
          "model_name": "LayoutModel",
          "model_module_version": "1.2.0",
          "state": {
            "_model_module": "@jupyter-widgets/base",
            "_model_module_version": "1.2.0",
            "_model_name": "LayoutModel",
            "_view_count": null,
            "_view_module": "@jupyter-widgets/base",
            "_view_module_version": "1.2.0",
            "_view_name": "LayoutView",
            "align_content": null,
            "align_items": null,
            "align_self": null,
            "border": null,
            "bottom": null,
            "display": null,
            "flex": null,
            "flex_flow": null,
            "grid_area": null,
            "grid_auto_columns": null,
            "grid_auto_flow": null,
            "grid_auto_rows": null,
            "grid_column": null,
            "grid_gap": null,
            "grid_row": null,
            "grid_template_areas": null,
            "grid_template_columns": null,
            "grid_template_rows": null,
            "height": null,
            "justify_content": null,
            "justify_items": null,
            "left": null,
            "margin": null,
            "max_height": null,
            "max_width": null,
            "min_height": null,
            "min_width": null,
            "object_fit": null,
            "object_position": null,
            "order": null,
            "overflow": null,
            "overflow_x": null,
            "overflow_y": null,
            "padding": null,
            "right": null,
            "top": null,
            "visibility": null,
            "width": null
          }
        },
        "cb16693145dc4dcf9b815cb42f3f7bc5": {
          "model_module": "@jupyter-widgets/controls",
          "model_name": "DescriptionStyleModel",
          "model_module_version": "1.5.0",
          "state": {
            "_model_module": "@jupyter-widgets/controls",
            "_model_module_version": "1.5.0",
            "_model_name": "DescriptionStyleModel",
            "_view_count": null,
            "_view_module": "@jupyter-widgets/base",
            "_view_module_version": "1.2.0",
            "_view_name": "StyleView",
            "description_width": ""
          }
        },
        "6c721af21d8342c5873cd75ca224b742": {
          "model_module": "@jupyter-widgets/controls",
          "model_name": "HBoxModel",
          "model_module_version": "1.5.0",
          "state": {
            "_dom_classes": [],
            "_model_module": "@jupyter-widgets/controls",
            "_model_module_version": "1.5.0",
            "_model_name": "HBoxModel",
            "_view_count": null,
            "_view_module": "@jupyter-widgets/controls",
            "_view_module_version": "1.5.0",
            "_view_name": "HBoxView",
            "box_style": "",
            "children": [
              "IPY_MODEL_782d0abe21944262a7e854f9d48efbc1",
              "IPY_MODEL_f837ecbcff8e40db90dd5be87862f359",
              "IPY_MODEL_81e10893aece407b961e72f5cce1dbca"
            ],
            "layout": "IPY_MODEL_9a6ce0a935c84a8891457748406b99e4"
          }
        },
        "782d0abe21944262a7e854f9d48efbc1": {
          "model_module": "@jupyter-widgets/controls",
          "model_name": "HTMLModel",
          "model_module_version": "1.5.0",
          "state": {
            "_dom_classes": [],
            "_model_module": "@jupyter-widgets/controls",
            "_model_module_version": "1.5.0",
            "_model_name": "HTMLModel",
            "_view_count": null,
            "_view_module": "@jupyter-widgets/controls",
            "_view_module_version": "1.5.0",
            "_view_name": "HTMLView",
            "description": "",
            "description_tooltip": null,
            "layout": "IPY_MODEL_f5db5432c546478f8d90c4f22d699ed9",
            "placeholder": "​",
            "style": "IPY_MODEL_97a90a0dcb1d49eca35f5e72a1a04ec9",
            "value": "100%"
          }
        },
        "f837ecbcff8e40db90dd5be87862f359": {
          "model_module": "@jupyter-widgets/controls",
          "model_name": "FloatProgressModel",
          "model_module_version": "1.5.0",
          "state": {
            "_dom_classes": [],
            "_model_module": "@jupyter-widgets/controls",
            "_model_module_version": "1.5.0",
            "_model_name": "FloatProgressModel",
            "_view_count": null,
            "_view_module": "@jupyter-widgets/controls",
            "_view_module_version": "1.5.0",
            "_view_name": "ProgressView",
            "bar_style": "success",
            "description": "",
            "description_tooltip": null,
            "layout": "IPY_MODEL_0fd3a06da3ff4bf9a2ce434f469130d5",
            "max": 28881,
            "min": 0,
            "orientation": "horizontal",
            "style": "IPY_MODEL_148307ad204c4d4d8d7dc2f74cb74b36",
            "value": 28881
          }
        },
        "81e10893aece407b961e72f5cce1dbca": {
          "model_module": "@jupyter-widgets/controls",
          "model_name": "HTMLModel",
          "model_module_version": "1.5.0",
          "state": {
            "_dom_classes": [],
            "_model_module": "@jupyter-widgets/controls",
            "_model_module_version": "1.5.0",
            "_model_name": "HTMLModel",
            "_view_count": null,
            "_view_module": "@jupyter-widgets/controls",
            "_view_module_version": "1.5.0",
            "_view_name": "HTMLView",
            "description": "",
            "description_tooltip": null,
            "layout": "IPY_MODEL_9849b33aabed426b8aab44b5406f52b8",
            "placeholder": "​",
            "style": "IPY_MODEL_0b0966d2041d4ee396cd15b3013d68cb",
            "value": " 28881/28881 [00:00&lt;00:00, 637023.20it/s]"
          }
        },
        "9a6ce0a935c84a8891457748406b99e4": {
          "model_module": "@jupyter-widgets/base",
          "model_name": "LayoutModel",
          "model_module_version": "1.2.0",
          "state": {
            "_model_module": "@jupyter-widgets/base",
            "_model_module_version": "1.2.0",
            "_model_name": "LayoutModel",
            "_view_count": null,
            "_view_module": "@jupyter-widgets/base",
            "_view_module_version": "1.2.0",
            "_view_name": "LayoutView",
            "align_content": null,
            "align_items": null,
            "align_self": null,
            "border": null,
            "bottom": null,
            "display": null,
            "flex": null,
            "flex_flow": null,
            "grid_area": null,
            "grid_auto_columns": null,
            "grid_auto_flow": null,
            "grid_auto_rows": null,
            "grid_column": null,
            "grid_gap": null,
            "grid_row": null,
            "grid_template_areas": null,
            "grid_template_columns": null,
            "grid_template_rows": null,
            "height": null,
            "justify_content": null,
            "justify_items": null,
            "left": null,
            "margin": null,
            "max_height": null,
            "max_width": null,
            "min_height": null,
            "min_width": null,
            "object_fit": null,
            "object_position": null,
            "order": null,
            "overflow": null,
            "overflow_x": null,
            "overflow_y": null,
            "padding": null,
            "right": null,
            "top": null,
            "visibility": null,
            "width": null
          }
        },
        "f5db5432c546478f8d90c4f22d699ed9": {
          "model_module": "@jupyter-widgets/base",
          "model_name": "LayoutModel",
          "model_module_version": "1.2.0",
          "state": {
            "_model_module": "@jupyter-widgets/base",
            "_model_module_version": "1.2.0",
            "_model_name": "LayoutModel",
            "_view_count": null,
            "_view_module": "@jupyter-widgets/base",
            "_view_module_version": "1.2.0",
            "_view_name": "LayoutView",
            "align_content": null,
            "align_items": null,
            "align_self": null,
            "border": null,
            "bottom": null,
            "display": null,
            "flex": null,
            "flex_flow": null,
            "grid_area": null,
            "grid_auto_columns": null,
            "grid_auto_flow": null,
            "grid_auto_rows": null,
            "grid_column": null,
            "grid_gap": null,
            "grid_row": null,
            "grid_template_areas": null,
            "grid_template_columns": null,
            "grid_template_rows": null,
            "height": null,
            "justify_content": null,
            "justify_items": null,
            "left": null,
            "margin": null,
            "max_height": null,
            "max_width": null,
            "min_height": null,
            "min_width": null,
            "object_fit": null,
            "object_position": null,
            "order": null,
            "overflow": null,
            "overflow_x": null,
            "overflow_y": null,
            "padding": null,
            "right": null,
            "top": null,
            "visibility": null,
            "width": null
          }
        },
        "97a90a0dcb1d49eca35f5e72a1a04ec9": {
          "model_module": "@jupyter-widgets/controls",
          "model_name": "DescriptionStyleModel",
          "model_module_version": "1.5.0",
          "state": {
            "_model_module": "@jupyter-widgets/controls",
            "_model_module_version": "1.5.0",
            "_model_name": "DescriptionStyleModel",
            "_view_count": null,
            "_view_module": "@jupyter-widgets/base",
            "_view_module_version": "1.2.0",
            "_view_name": "StyleView",
            "description_width": ""
          }
        },
        "0fd3a06da3ff4bf9a2ce434f469130d5": {
          "model_module": "@jupyter-widgets/base",
          "model_name": "LayoutModel",
          "model_module_version": "1.2.0",
          "state": {
            "_model_module": "@jupyter-widgets/base",
            "_model_module_version": "1.2.0",
            "_model_name": "LayoutModel",
            "_view_count": null,
            "_view_module": "@jupyter-widgets/base",
            "_view_module_version": "1.2.0",
            "_view_name": "LayoutView",
            "align_content": null,
            "align_items": null,
            "align_self": null,
            "border": null,
            "bottom": null,
            "display": null,
            "flex": null,
            "flex_flow": null,
            "grid_area": null,
            "grid_auto_columns": null,
            "grid_auto_flow": null,
            "grid_auto_rows": null,
            "grid_column": null,
            "grid_gap": null,
            "grid_row": null,
            "grid_template_areas": null,
            "grid_template_columns": null,
            "grid_template_rows": null,
            "height": null,
            "justify_content": null,
            "justify_items": null,
            "left": null,
            "margin": null,
            "max_height": null,
            "max_width": null,
            "min_height": null,
            "min_width": null,
            "object_fit": null,
            "object_position": null,
            "order": null,
            "overflow": null,
            "overflow_x": null,
            "overflow_y": null,
            "padding": null,
            "right": null,
            "top": null,
            "visibility": null,
            "width": null
          }
        },
        "148307ad204c4d4d8d7dc2f74cb74b36": {
          "model_module": "@jupyter-widgets/controls",
          "model_name": "ProgressStyleModel",
          "model_module_version": "1.5.0",
          "state": {
            "_model_module": "@jupyter-widgets/controls",
            "_model_module_version": "1.5.0",
            "_model_name": "ProgressStyleModel",
            "_view_count": null,
            "_view_module": "@jupyter-widgets/base",
            "_view_module_version": "1.2.0",
            "_view_name": "StyleView",
            "bar_color": null,
            "description_width": ""
          }
        },
        "9849b33aabed426b8aab44b5406f52b8": {
          "model_module": "@jupyter-widgets/base",
          "model_name": "LayoutModel",
          "model_module_version": "1.2.0",
          "state": {
            "_model_module": "@jupyter-widgets/base",
            "_model_module_version": "1.2.0",
            "_model_name": "LayoutModel",
            "_view_count": null,
            "_view_module": "@jupyter-widgets/base",
            "_view_module_version": "1.2.0",
            "_view_name": "LayoutView",
            "align_content": null,
            "align_items": null,
            "align_self": null,
            "border": null,
            "bottom": null,
            "display": null,
            "flex": null,
            "flex_flow": null,
            "grid_area": null,
            "grid_auto_columns": null,
            "grid_auto_flow": null,
            "grid_auto_rows": null,
            "grid_column": null,
            "grid_gap": null,
            "grid_row": null,
            "grid_template_areas": null,
            "grid_template_columns": null,
            "grid_template_rows": null,
            "height": null,
            "justify_content": null,
            "justify_items": null,
            "left": null,
            "margin": null,
            "max_height": null,
            "max_width": null,
            "min_height": null,
            "min_width": null,
            "object_fit": null,
            "object_position": null,
            "order": null,
            "overflow": null,
            "overflow_x": null,
            "overflow_y": null,
            "padding": null,
            "right": null,
            "top": null,
            "visibility": null,
            "width": null
          }
        },
        "0b0966d2041d4ee396cd15b3013d68cb": {
          "model_module": "@jupyter-widgets/controls",
          "model_name": "DescriptionStyleModel",
          "model_module_version": "1.5.0",
          "state": {
            "_model_module": "@jupyter-widgets/controls",
            "_model_module_version": "1.5.0",
            "_model_name": "DescriptionStyleModel",
            "_view_count": null,
            "_view_module": "@jupyter-widgets/base",
            "_view_module_version": "1.2.0",
            "_view_name": "StyleView",
            "description_width": ""
          }
        },
        "c56f6cdd21824838bc1880c495c0ac6f": {
          "model_module": "@jupyter-widgets/controls",
          "model_name": "HBoxModel",
          "model_module_version": "1.5.0",
          "state": {
            "_dom_classes": [],
            "_model_module": "@jupyter-widgets/controls",
            "_model_module_version": "1.5.0",
            "_model_name": "HBoxModel",
            "_view_count": null,
            "_view_module": "@jupyter-widgets/controls",
            "_view_module_version": "1.5.0",
            "_view_name": "HBoxView",
            "box_style": "",
            "children": [
              "IPY_MODEL_1db8555837ff491e93fed259f160cf4a",
              "IPY_MODEL_107c46d809f044c8ae0cfd0487771b55",
              "IPY_MODEL_9eb311b8a09e448ca4901bad5e21f6f5"
            ],
            "layout": "IPY_MODEL_ecb684218a8e47bfb3b4b79b7eb2d860"
          }
        },
        "1db8555837ff491e93fed259f160cf4a": {
          "model_module": "@jupyter-widgets/controls",
          "model_name": "HTMLModel",
          "model_module_version": "1.5.0",
          "state": {
            "_dom_classes": [],
            "_model_module": "@jupyter-widgets/controls",
            "_model_module_version": "1.5.0",
            "_model_name": "HTMLModel",
            "_view_count": null,
            "_view_module": "@jupyter-widgets/controls",
            "_view_module_version": "1.5.0",
            "_view_name": "HTMLView",
            "description": "",
            "description_tooltip": null,
            "layout": "IPY_MODEL_0cb440e2882a406680ec981d8dfe1c16",
            "placeholder": "​",
            "style": "IPY_MODEL_bc7944ddbc0f424ea0a70c482223a696",
            "value": "100%"
          }
        },
        "107c46d809f044c8ae0cfd0487771b55": {
          "model_module": "@jupyter-widgets/controls",
          "model_name": "FloatProgressModel",
          "model_module_version": "1.5.0",
          "state": {
            "_dom_classes": [],
            "_model_module": "@jupyter-widgets/controls",
            "_model_module_version": "1.5.0",
            "_model_name": "FloatProgressModel",
            "_view_count": null,
            "_view_module": "@jupyter-widgets/controls",
            "_view_module_version": "1.5.0",
            "_view_name": "ProgressView",
            "bar_style": "success",
            "description": "",
            "description_tooltip": null,
            "layout": "IPY_MODEL_f3b3cbeeb76d492fb0802173d55a02a0",
            "max": 1648877,
            "min": 0,
            "orientation": "horizontal",
            "style": "IPY_MODEL_6dada72431fe4e08a359a2836cfbd4d0",
            "value": 1648877
          }
        },
        "9eb311b8a09e448ca4901bad5e21f6f5": {
          "model_module": "@jupyter-widgets/controls",
          "model_name": "HTMLModel",
          "model_module_version": "1.5.0",
          "state": {
            "_dom_classes": [],
            "_model_module": "@jupyter-widgets/controls",
            "_model_module_version": "1.5.0",
            "_model_name": "HTMLModel",
            "_view_count": null,
            "_view_module": "@jupyter-widgets/controls",
            "_view_module_version": "1.5.0",
            "_view_name": "HTMLView",
            "description": "",
            "description_tooltip": null,
            "layout": "IPY_MODEL_6350405e987641e284f345c39bc55881",
            "placeholder": "​",
            "style": "IPY_MODEL_c3f0fea4fa1f4b6b8cb945fb3a7279b9",
            "value": " 1648877/1648877 [00:00&lt;00:00, 8730306.61it/s]"
          }
        },
        "ecb684218a8e47bfb3b4b79b7eb2d860": {
          "model_module": "@jupyter-widgets/base",
          "model_name": "LayoutModel",
          "model_module_version": "1.2.0",
          "state": {
            "_model_module": "@jupyter-widgets/base",
            "_model_module_version": "1.2.0",
            "_model_name": "LayoutModel",
            "_view_count": null,
            "_view_module": "@jupyter-widgets/base",
            "_view_module_version": "1.2.0",
            "_view_name": "LayoutView",
            "align_content": null,
            "align_items": null,
            "align_self": null,
            "border": null,
            "bottom": null,
            "display": null,
            "flex": null,
            "flex_flow": null,
            "grid_area": null,
            "grid_auto_columns": null,
            "grid_auto_flow": null,
            "grid_auto_rows": null,
            "grid_column": null,
            "grid_gap": null,
            "grid_row": null,
            "grid_template_areas": null,
            "grid_template_columns": null,
            "grid_template_rows": null,
            "height": null,
            "justify_content": null,
            "justify_items": null,
            "left": null,
            "margin": null,
            "max_height": null,
            "max_width": null,
            "min_height": null,
            "min_width": null,
            "object_fit": null,
            "object_position": null,
            "order": null,
            "overflow": null,
            "overflow_x": null,
            "overflow_y": null,
            "padding": null,
            "right": null,
            "top": null,
            "visibility": null,
            "width": null
          }
        },
        "0cb440e2882a406680ec981d8dfe1c16": {
          "model_module": "@jupyter-widgets/base",
          "model_name": "LayoutModel",
          "model_module_version": "1.2.0",
          "state": {
            "_model_module": "@jupyter-widgets/base",
            "_model_module_version": "1.2.0",
            "_model_name": "LayoutModel",
            "_view_count": null,
            "_view_module": "@jupyter-widgets/base",
            "_view_module_version": "1.2.0",
            "_view_name": "LayoutView",
            "align_content": null,
            "align_items": null,
            "align_self": null,
            "border": null,
            "bottom": null,
            "display": null,
            "flex": null,
            "flex_flow": null,
            "grid_area": null,
            "grid_auto_columns": null,
            "grid_auto_flow": null,
            "grid_auto_rows": null,
            "grid_column": null,
            "grid_gap": null,
            "grid_row": null,
            "grid_template_areas": null,
            "grid_template_columns": null,
            "grid_template_rows": null,
            "height": null,
            "justify_content": null,
            "justify_items": null,
            "left": null,
            "margin": null,
            "max_height": null,
            "max_width": null,
            "min_height": null,
            "min_width": null,
            "object_fit": null,
            "object_position": null,
            "order": null,
            "overflow": null,
            "overflow_x": null,
            "overflow_y": null,
            "padding": null,
            "right": null,
            "top": null,
            "visibility": null,
            "width": null
          }
        },
        "bc7944ddbc0f424ea0a70c482223a696": {
          "model_module": "@jupyter-widgets/controls",
          "model_name": "DescriptionStyleModel",
          "model_module_version": "1.5.0",
          "state": {
            "_model_module": "@jupyter-widgets/controls",
            "_model_module_version": "1.5.0",
            "_model_name": "DescriptionStyleModel",
            "_view_count": null,
            "_view_module": "@jupyter-widgets/base",
            "_view_module_version": "1.2.0",
            "_view_name": "StyleView",
            "description_width": ""
          }
        },
        "f3b3cbeeb76d492fb0802173d55a02a0": {
          "model_module": "@jupyter-widgets/base",
          "model_name": "LayoutModel",
          "model_module_version": "1.2.0",
          "state": {
            "_model_module": "@jupyter-widgets/base",
            "_model_module_version": "1.2.0",
            "_model_name": "LayoutModel",
            "_view_count": null,
            "_view_module": "@jupyter-widgets/base",
            "_view_module_version": "1.2.0",
            "_view_name": "LayoutView",
            "align_content": null,
            "align_items": null,
            "align_self": null,
            "border": null,
            "bottom": null,
            "display": null,
            "flex": null,
            "flex_flow": null,
            "grid_area": null,
            "grid_auto_columns": null,
            "grid_auto_flow": null,
            "grid_auto_rows": null,
            "grid_column": null,
            "grid_gap": null,
            "grid_row": null,
            "grid_template_areas": null,
            "grid_template_columns": null,
            "grid_template_rows": null,
            "height": null,
            "justify_content": null,
            "justify_items": null,
            "left": null,
            "margin": null,
            "max_height": null,
            "max_width": null,
            "min_height": null,
            "min_width": null,
            "object_fit": null,
            "object_position": null,
            "order": null,
            "overflow": null,
            "overflow_x": null,
            "overflow_y": null,
            "padding": null,
            "right": null,
            "top": null,
            "visibility": null,
            "width": null
          }
        },
        "6dada72431fe4e08a359a2836cfbd4d0": {
          "model_module": "@jupyter-widgets/controls",
          "model_name": "ProgressStyleModel",
          "model_module_version": "1.5.0",
          "state": {
            "_model_module": "@jupyter-widgets/controls",
            "_model_module_version": "1.5.0",
            "_model_name": "ProgressStyleModel",
            "_view_count": null,
            "_view_module": "@jupyter-widgets/base",
            "_view_module_version": "1.2.0",
            "_view_name": "StyleView",
            "bar_color": null,
            "description_width": ""
          }
        },
        "6350405e987641e284f345c39bc55881": {
          "model_module": "@jupyter-widgets/base",
          "model_name": "LayoutModel",
          "model_module_version": "1.2.0",
          "state": {
            "_model_module": "@jupyter-widgets/base",
            "_model_module_version": "1.2.0",
            "_model_name": "LayoutModel",
            "_view_count": null,
            "_view_module": "@jupyter-widgets/base",
            "_view_module_version": "1.2.0",
            "_view_name": "LayoutView",
            "align_content": null,
            "align_items": null,
            "align_self": null,
            "border": null,
            "bottom": null,
            "display": null,
            "flex": null,
            "flex_flow": null,
            "grid_area": null,
            "grid_auto_columns": null,
            "grid_auto_flow": null,
            "grid_auto_rows": null,
            "grid_column": null,
            "grid_gap": null,
            "grid_row": null,
            "grid_template_areas": null,
            "grid_template_columns": null,
            "grid_template_rows": null,
            "height": null,
            "justify_content": null,
            "justify_items": null,
            "left": null,
            "margin": null,
            "max_height": null,
            "max_width": null,
            "min_height": null,
            "min_width": null,
            "object_fit": null,
            "object_position": null,
            "order": null,
            "overflow": null,
            "overflow_x": null,
            "overflow_y": null,
            "padding": null,
            "right": null,
            "top": null,
            "visibility": null,
            "width": null
          }
        },
        "c3f0fea4fa1f4b6b8cb945fb3a7279b9": {
          "model_module": "@jupyter-widgets/controls",
          "model_name": "DescriptionStyleModel",
          "model_module_version": "1.5.0",
          "state": {
            "_model_module": "@jupyter-widgets/controls",
            "_model_module_version": "1.5.0",
            "_model_name": "DescriptionStyleModel",
            "_view_count": null,
            "_view_module": "@jupyter-widgets/base",
            "_view_module_version": "1.2.0",
            "_view_name": "StyleView",
            "description_width": ""
          }
        },
        "ae650db19aa64e96b9299f31480146cb": {
          "model_module": "@jupyter-widgets/controls",
          "model_name": "HBoxModel",
          "model_module_version": "1.5.0",
          "state": {
            "_dom_classes": [],
            "_model_module": "@jupyter-widgets/controls",
            "_model_module_version": "1.5.0",
            "_model_name": "HBoxModel",
            "_view_count": null,
            "_view_module": "@jupyter-widgets/controls",
            "_view_module_version": "1.5.0",
            "_view_name": "HBoxView",
            "box_style": "",
            "children": [
              "IPY_MODEL_70754d24c47943908d379067d81e701e",
              "IPY_MODEL_e76a8293ae2a4e9791affe64cac5f6b4",
              "IPY_MODEL_7d7d4811054b4165a3f4768c05cf1c84"
            ],
            "layout": "IPY_MODEL_2f5e7777c8cf483c8a5ad3362e82e82d"
          }
        },
        "70754d24c47943908d379067d81e701e": {
          "model_module": "@jupyter-widgets/controls",
          "model_name": "HTMLModel",
          "model_module_version": "1.5.0",
          "state": {
            "_dom_classes": [],
            "_model_module": "@jupyter-widgets/controls",
            "_model_module_version": "1.5.0",
            "_model_name": "HTMLModel",
            "_view_count": null,
            "_view_module": "@jupyter-widgets/controls",
            "_view_module_version": "1.5.0",
            "_view_name": "HTMLView",
            "description": "",
            "description_tooltip": null,
            "layout": "IPY_MODEL_6b63802a286a457dad40fb8a37bdbd92",
            "placeholder": "​",
            "style": "IPY_MODEL_956fac0128c742e1840d8cc56cbab9ad",
            "value": "100%"
          }
        },
        "e76a8293ae2a4e9791affe64cac5f6b4": {
          "model_module": "@jupyter-widgets/controls",
          "model_name": "FloatProgressModel",
          "model_module_version": "1.5.0",
          "state": {
            "_dom_classes": [],
            "_model_module": "@jupyter-widgets/controls",
            "_model_module_version": "1.5.0",
            "_model_name": "FloatProgressModel",
            "_view_count": null,
            "_view_module": "@jupyter-widgets/controls",
            "_view_module_version": "1.5.0",
            "_view_name": "ProgressView",
            "bar_style": "success",
            "description": "",
            "description_tooltip": null,
            "layout": "IPY_MODEL_990ad534671d4989bc8da31b66cafeb2",
            "max": 4542,
            "min": 0,
            "orientation": "horizontal",
            "style": "IPY_MODEL_b83584d2f909438c84afd2429323b817",
            "value": 4542
          }
        },
        "7d7d4811054b4165a3f4768c05cf1c84": {
          "model_module": "@jupyter-widgets/controls",
          "model_name": "HTMLModel",
          "model_module_version": "1.5.0",
          "state": {
            "_dom_classes": [],
            "_model_module": "@jupyter-widgets/controls",
            "_model_module_version": "1.5.0",
            "_model_name": "HTMLModel",
            "_view_count": null,
            "_view_module": "@jupyter-widgets/controls",
            "_view_module_version": "1.5.0",
            "_view_name": "HTMLView",
            "description": "",
            "description_tooltip": null,
            "layout": "IPY_MODEL_7a3d0d5ad3004e0ba66ba72b737ba8db",
            "placeholder": "​",
            "style": "IPY_MODEL_6b2dc5697dc24361a72a05aa1a533d4a",
            "value": " 4542/4542 [00:00&lt;00:00, 77095.50it/s]"
          }
        },
        "2f5e7777c8cf483c8a5ad3362e82e82d": {
          "model_module": "@jupyter-widgets/base",
          "model_name": "LayoutModel",
          "model_module_version": "1.2.0",
          "state": {
            "_model_module": "@jupyter-widgets/base",
            "_model_module_version": "1.2.0",
            "_model_name": "LayoutModel",
            "_view_count": null,
            "_view_module": "@jupyter-widgets/base",
            "_view_module_version": "1.2.0",
            "_view_name": "LayoutView",
            "align_content": null,
            "align_items": null,
            "align_self": null,
            "border": null,
            "bottom": null,
            "display": null,
            "flex": null,
            "flex_flow": null,
            "grid_area": null,
            "grid_auto_columns": null,
            "grid_auto_flow": null,
            "grid_auto_rows": null,
            "grid_column": null,
            "grid_gap": null,
            "grid_row": null,
            "grid_template_areas": null,
            "grid_template_columns": null,
            "grid_template_rows": null,
            "height": null,
            "justify_content": null,
            "justify_items": null,
            "left": null,
            "margin": null,
            "max_height": null,
            "max_width": null,
            "min_height": null,
            "min_width": null,
            "object_fit": null,
            "object_position": null,
            "order": null,
            "overflow": null,
            "overflow_x": null,
            "overflow_y": null,
            "padding": null,
            "right": null,
            "top": null,
            "visibility": null,
            "width": null
          }
        },
        "6b63802a286a457dad40fb8a37bdbd92": {
          "model_module": "@jupyter-widgets/base",
          "model_name": "LayoutModel",
          "model_module_version": "1.2.0",
          "state": {
            "_model_module": "@jupyter-widgets/base",
            "_model_module_version": "1.2.0",
            "_model_name": "LayoutModel",
            "_view_count": null,
            "_view_module": "@jupyter-widgets/base",
            "_view_module_version": "1.2.0",
            "_view_name": "LayoutView",
            "align_content": null,
            "align_items": null,
            "align_self": null,
            "border": null,
            "bottom": null,
            "display": null,
            "flex": null,
            "flex_flow": null,
            "grid_area": null,
            "grid_auto_columns": null,
            "grid_auto_flow": null,
            "grid_auto_rows": null,
            "grid_column": null,
            "grid_gap": null,
            "grid_row": null,
            "grid_template_areas": null,
            "grid_template_columns": null,
            "grid_template_rows": null,
            "height": null,
            "justify_content": null,
            "justify_items": null,
            "left": null,
            "margin": null,
            "max_height": null,
            "max_width": null,
            "min_height": null,
            "min_width": null,
            "object_fit": null,
            "object_position": null,
            "order": null,
            "overflow": null,
            "overflow_x": null,
            "overflow_y": null,
            "padding": null,
            "right": null,
            "top": null,
            "visibility": null,
            "width": null
          }
        },
        "956fac0128c742e1840d8cc56cbab9ad": {
          "model_module": "@jupyter-widgets/controls",
          "model_name": "DescriptionStyleModel",
          "model_module_version": "1.5.0",
          "state": {
            "_model_module": "@jupyter-widgets/controls",
            "_model_module_version": "1.5.0",
            "_model_name": "DescriptionStyleModel",
            "_view_count": null,
            "_view_module": "@jupyter-widgets/base",
            "_view_module_version": "1.2.0",
            "_view_name": "StyleView",
            "description_width": ""
          }
        },
        "990ad534671d4989bc8da31b66cafeb2": {
          "model_module": "@jupyter-widgets/base",
          "model_name": "LayoutModel",
          "model_module_version": "1.2.0",
          "state": {
            "_model_module": "@jupyter-widgets/base",
            "_model_module_version": "1.2.0",
            "_model_name": "LayoutModel",
            "_view_count": null,
            "_view_module": "@jupyter-widgets/base",
            "_view_module_version": "1.2.0",
            "_view_name": "LayoutView",
            "align_content": null,
            "align_items": null,
            "align_self": null,
            "border": null,
            "bottom": null,
            "display": null,
            "flex": null,
            "flex_flow": null,
            "grid_area": null,
            "grid_auto_columns": null,
            "grid_auto_flow": null,
            "grid_auto_rows": null,
            "grid_column": null,
            "grid_gap": null,
            "grid_row": null,
            "grid_template_areas": null,
            "grid_template_columns": null,
            "grid_template_rows": null,
            "height": null,
            "justify_content": null,
            "justify_items": null,
            "left": null,
            "margin": null,
            "max_height": null,
            "max_width": null,
            "min_height": null,
            "min_width": null,
            "object_fit": null,
            "object_position": null,
            "order": null,
            "overflow": null,
            "overflow_x": null,
            "overflow_y": null,
            "padding": null,
            "right": null,
            "top": null,
            "visibility": null,
            "width": null
          }
        },
        "b83584d2f909438c84afd2429323b817": {
          "model_module": "@jupyter-widgets/controls",
          "model_name": "ProgressStyleModel",
          "model_module_version": "1.5.0",
          "state": {
            "_model_module": "@jupyter-widgets/controls",
            "_model_module_version": "1.5.0",
            "_model_name": "ProgressStyleModel",
            "_view_count": null,
            "_view_module": "@jupyter-widgets/base",
            "_view_module_version": "1.2.0",
            "_view_name": "StyleView",
            "bar_color": null,
            "description_width": ""
          }
        },
        "7a3d0d5ad3004e0ba66ba72b737ba8db": {
          "model_module": "@jupyter-widgets/base",
          "model_name": "LayoutModel",
          "model_module_version": "1.2.0",
          "state": {
            "_model_module": "@jupyter-widgets/base",
            "_model_module_version": "1.2.0",
            "_model_name": "LayoutModel",
            "_view_count": null,
            "_view_module": "@jupyter-widgets/base",
            "_view_module_version": "1.2.0",
            "_view_name": "LayoutView",
            "align_content": null,
            "align_items": null,
            "align_self": null,
            "border": null,
            "bottom": null,
            "display": null,
            "flex": null,
            "flex_flow": null,
            "grid_area": null,
            "grid_auto_columns": null,
            "grid_auto_flow": null,
            "grid_auto_rows": null,
            "grid_column": null,
            "grid_gap": null,
            "grid_row": null,
            "grid_template_areas": null,
            "grid_template_columns": null,
            "grid_template_rows": null,
            "height": null,
            "justify_content": null,
            "justify_items": null,
            "left": null,
            "margin": null,
            "max_height": null,
            "max_width": null,
            "min_height": null,
            "min_width": null,
            "object_fit": null,
            "object_position": null,
            "order": null,
            "overflow": null,
            "overflow_x": null,
            "overflow_y": null,
            "padding": null,
            "right": null,
            "top": null,
            "visibility": null,
            "width": null
          }
        },
        "6b2dc5697dc24361a72a05aa1a533d4a": {
          "model_module": "@jupyter-widgets/controls",
          "model_name": "DescriptionStyleModel",
          "model_module_version": "1.5.0",
          "state": {
            "_model_module": "@jupyter-widgets/controls",
            "_model_module_version": "1.5.0",
            "_model_name": "DescriptionStyleModel",
            "_view_count": null,
            "_view_module": "@jupyter-widgets/base",
            "_view_module_version": "1.2.0",
            "_view_name": "StyleView",
            "description_width": ""
          }
        }
      }
    }
  },
  "cells": [
    {
      "cell_type": "code",
      "source": [
        "import matplotlib.pyplot as plt\n",
        "import cv2\n",
        "img = cv2.imread('cat2.jpg')\n",
        "img = cv2.cvtColor(img, cv2.COLOR_BGR2RGB)\n",
        "img_gray = cv2.imread('cat2.jpg', cv2.IMREAD_GRAYSCALE)\n",
        "img_un = cv2.imread('cat2.jpg', cv2.IMREAD_UNCHANGED)\n",
        "plt.imshow(img)\n",
        "# plt.imshow(img_gray)\n",
        "plt.imshow(img_un)\n",
        "plt.show()"
      ],
      "metadata": {
        "id": "CH_j_Ssw17Yl",
        "colab": {
          "base_uri": "https://localhost:8080/",
          "height": 256
        },
        "outputId": "8369d437-ac50-49ac-bf52-c4c61a136197"
      },
      "execution_count": null,
      "outputs": [
        {
          "output_type": "display_data",
          "data": {
            "text/plain": [
              "<Figure size 432x288 with 1 Axes>"
            ],
            "image/png": "[encoded data removed]"
          },
          "metadata": {
            "needs_background": "light"
          }
        }
      ]
    },
    {
      "cell_type": "code",
      "source": [
        "img.shape"
      ],
      "metadata": {
        "id": "88z-tv-f17ab",
        "colab": {
          "base_uri": "https://localhost:8080/"
        },
        "outputId": "bb94328f-07fb-48b3-b248-882ac2ad349e"
      },
      "execution_count": null,
      "outputs": [
        {
          "output_type": "execute_result",
          "data": {
            "text/plain": [
              "(391, 640, 3)"
            ]
          },
          "metadata": {},
          "execution_count": 2
        }
      ]
    },
    {
      "cell_type": "markdown",
      "source": [
        "# Torch"
      ],
      "metadata": {
        "id": "h4b5FuykKGca"
      }
    },
    {
      "cell_type": "markdown",
      "source": [
        "### 기본연산"
      ],
      "metadata": {
        "id": "wp2TzioVKPAP"
      }
    },
    {
      "cell_type": "code",
      "source": [
        "from re import X\n",
        "import torch\n",
        "\n",
        "# 초기화 되지 않은 텐서\n",
        "x = torch.empty(4,2)\n",
        "print(x)\n",
        "\n",
        "# 무작위로 초기화된 텐서\n",
        "x = torch.rand(4,2)\n",
        "print(x)\n",
        "\n",
        "# 데이터 타입이 long이고, 0으로 채워진 텐서\n",
        "x = torch.zeros(4,2, dtype=torch.long)\n",
        "print(x)\n",
        "\n",
        "# 사용자가 입력한 값으로 텐서 초기화\n",
        "x = torch.tensor([3, 2.3])\n",
        "print(x)\n",
        "\n",
        "# 2x4 크기, double타입, 1로 채워진 텐서\n",
        "x = x.new_ones(2,4, dtype=torch.double)\n",
        "print(x)\n",
        "\n",
        "# x와 같은 크기, float 타입, 무작위로 채워진 텐서\n",
        "x = torch.randn_like(x, dtype=torch.float)\n",
        "print(x)\n",
        "\n",
        "# 텐서의 크기 계산\n",
        "print(x.size())"
      ],
      "metadata": {
        "id": "RVimUDGm-nYe",
        "colab": {
          "base_uri": "https://localhost:8080/"
        },
        "outputId": "5115955f-6c49-406f-9946-17fe31a6ca80"
      },
      "execution_count": null,
      "outputs": [
        {
          "output_type": "stream",
          "name": "stdout",
          "text": [
            "tensor([[1.3628e-35, 0.0000e+00],\n",
            "        [3.3631e-44, 0.0000e+00],\n",
            "        [       nan, 0.0000e+00],\n",
            "        [1.1578e+27, 1.1362e+30]])\n",
            "tensor([[0.6540, 0.8723],\n",
            "        [0.5109, 0.0562],\n",
            "        [0.6250, 0.0482],\n",
            "        [0.7939, 0.1730]])\n",
            "tensor([[0, 0],\n",
            "        [0, 0],\n",
            "        [0, 0],\n",
            "        [0, 0]])\n",
            "tensor([3.0000, 2.3000])\n",
            "tensor([[1., 1., 1., 1.],\n",
            "        [1., 1., 1., 1.]], dtype=torch.float64)\n",
            "tensor([[ 0.1307, -0.2375, -1.0532, -0.1444],\n",
            "        [-0.1937, -0.4498, -0.0806,  0.7534]])\n",
            "torch.Size([2, 4])\n"
          ]
        }
      ]
    },
    {
      "cell_type": "markdown",
      "source": [
        "### 다차원 텐서 표현"
      ],
      "metadata": {
        "id": "UdqcAz6SKSBf"
      }
    },
    {
      "cell_type": "markdown",
      "source": [
        "0D Tensor(Scalar)\n",
        "- 하나의 숫자를 담고 있는 텐서(tensor)\n",
        "- 축과 형상이 없음"
      ],
      "metadata": {
        "id": "xBiRFT1GKgky"
      }
    },
    {
      "cell_type": "code",
      "source": [
        "t0 = torch.tensor(0)\n",
        "print(t0.ndim)\n",
        "print(t0.shape)\n",
        "print(t0)"
      ],
      "metadata": {
        "id": "t5QIdi9V17jw",
        "colab": {
          "base_uri": "https://localhost:8080/"
        },
        "outputId": "9f1e4bc9-ba86-4a06-8bb8-31aaf8a3aca6"
      },
      "execution_count": null,
      "outputs": [
        {
          "output_type": "stream",
          "name": "stdout",
          "text": [
            "0\n",
            "torch.Size([])\n",
            "tensor(0)\n"
          ]
        }
      ]
    },
    {
      "cell_type": "markdown",
      "source": [
        "1D Tensor(Vector)\n",
        "- 값들을 저장한 리스트와 유사한 텐서\n",
        "- 하나의 축이 존재"
      ],
      "metadata": {
        "id": "dwKTAD3xKwHu"
      }
    },
    {
      "cell_type": "code",
      "source": [
        "t1 = torch.tensor([1,2,3])\n",
        "print(t1.ndim)\n",
        "print(t1.shape)\n",
        "print(t1)"
      ],
      "metadata": {
        "id": "BpQv3OGr17lj",
        "colab": {
          "base_uri": "https://localhost:8080/"
        },
        "outputId": "a6c12862-93da-464e-a799-170956161002"
      },
      "execution_count": null,
      "outputs": [
        {
          "output_type": "stream",
          "name": "stdout",
          "text": [
            "1\n",
            "torch.Size([3])\n",
            "tensor([1, 2, 3])\n"
          ]
        }
      ]
    },
    {
      "cell_type": "markdown",
      "source": [
        "2D Tensor(Matrix)\n",
        "- 행렬과 같은 모양으로 두개의 축이 존재\n",
        "- 일반적인 수치, 통계 데이터셋이 해당\n",
        "- 주로 샘플(samples)과 특성(features)을 가진 구조로 사용"
      ],
      "metadata": {
        "id": "Uz_Aas6mK7pP"
      }
    },
    {
      "cell_type": "code",
      "source": [
        "t2 = torch.tensor([[1,2,3],\n",
        "                   [4,5,6],\n",
        "                   [7,8,9]])\n",
        "print(t2.ndim)\n",
        "print(t2.shape)\n",
        "print(t2)"
      ],
      "metadata": {
        "id": "KZ7N5atc17n0",
        "colab": {
          "base_uri": "https://localhost:8080/"
        },
        "outputId": "cf9c4ccf-6064-4db0-83f6-7b4ce5175ccf"
      },
      "execution_count": null,
      "outputs": [
        {
          "output_type": "stream",
          "name": "stdout",
          "text": [
            "2\n",
            "torch.Size([3, 3])\n",
            "tensor([[1, 2, 3],\n",
            "        [4, 5, 6],\n",
            "        [7, 8, 9]])\n"
          ]
        }
      ]
    },
    {
      "cell_type": "markdown",
      "source": [
        "3D Tensor\n",
        "- 큐브와 같은 모양으로 세개의 축이 존재\n",
        "- 데이터가 연속된 시퀀스 데이터나 시간 축이 포함된 시계열 데이터에 해당\n",
        "- 주식 가격 데이터셋, 시간에 따른 질병 발병 데이터 등이 존재\n",
        "- 주로 샘플(samples), 타임스텝(timesteps), 특성(features)을 가진 구조로 사용"
      ],
      "metadata": {
        "id": "BgV7B43WLgiE"
      }
    },
    {
      "cell_type": "code",
      "source": [
        "t3 = torch.tensor([[[1,2,3],\n",
        "                    [4,5,6],\n",
        "                    [7,8,9]],\n",
        "                   [[1,2,3],\n",
        "                    [4,5,6],\n",
        "                    [7,8,9]],\n",
        "                   [[1,2,3],\n",
        "                    [4,5,6],\n",
        "                    [7,8,9]]])\n",
        "print(t3.ndim)\n",
        "print(t3.shape)\n",
        "print(t3)"
      ],
      "metadata": {
        "id": "FTMdroZ_17pp",
        "colab": {
          "base_uri": "https://localhost:8080/"
        },
        "outputId": "01e46f39-9774-468f-c2ed-4da9414e1b35"
      },
      "execution_count": null,
      "outputs": [
        {
          "output_type": "stream",
          "name": "stdout",
          "text": [
            "3\n",
            "torch.Size([3, 3, 3])\n",
            "tensor([[[1, 2, 3],\n",
            "         [4, 5, 6],\n",
            "         [7, 8, 9]],\n",
            "\n",
            "        [[1, 2, 3],\n",
            "         [4, 5, 6],\n",
            "         [7, 8, 9]],\n",
            "\n",
            "        [[1, 2, 3],\n",
            "         [4, 5, 6],\n",
            "         [7, 8, 9]]])\n"
          ]
        }
      ]
    },
    {
      "cell_type": "markdown",
      "source": [
        "### in-place 방식\n",
        "- in-place방식으로 텐서의 값을 변경하는 연산 뒤에는_가 붙음"
      ],
      "metadata": {
        "id": "XBhYrwyWMVyd"
      }
    },
    {
      "cell_type": "code",
      "source": [
        "x = torch.rand(1,5)\n",
        "y = torch.rand(1,5)\n",
        "print(x)\n",
        "print(y)\n",
        "y.add_(x) # y의 값에 x를 더한 값을 y에 넣어줘라는 뜻\n",
        "print(\"add_ 수행 후 y : \",y)\n",
        "# add(더하기) / sub(빼기) / mul(곱하기) / div(나누기)\n",
        "y.sub_(x)\n",
        "print(\"sub_ 수행 후 y : \",y)\n",
        "y.mul_(x)\n",
        "print(\"mul_ 수행 후 y : \",y)\n",
        "y.div_(x)\n",
        "print(\"div_ 수행 후 y : \",y)"
      ],
      "metadata": {
        "id": "V6iWEIuI17rP",
        "colab": {
          "base_uri": "https://localhost:8080/"
        },
        "outputId": "4846ea16-da78-4e6d-803b-4b49eb97aa3c"
      },
      "execution_count": null,
      "outputs": [
        {
          "output_type": "stream",
          "name": "stdout",
          "text": [
            "tensor([[0.0521, 0.8263, 0.0486, 0.2015, 0.4885]])\n",
            "tensor([[0.9945, 0.0711, 0.7609, 0.7504, 0.0963]])\n",
            "add_ 수행 후 y :  tensor([[1.0466, 0.8974, 0.8095, 0.9520, 0.5848]])\n",
            "sub_ 수행 후 y :  tensor([[0.9945, 0.0711, 0.7609, 0.7504, 0.0963]])\n",
            "mul_ 수행 후 y :  tensor([[0.0518, 0.0587, 0.0370, 0.1512, 0.0471]])\n",
            "div_ 수행 후 y :  tensor([[0.9945, 0.0711, 0.7609, 0.7504, 0.0963]])\n"
          ]
        }
      ]
    },
    {
      "cell_type": "markdown",
      "source": [
        "### 메서드?"
      ],
      "metadata": {
        "id": "amE7_5vrPQOZ"
      }
    },
    {
      "cell_type": "markdown",
      "source": [
        "view: 텐서의 크기(size)나 모양(shape)을 변경\n",
        "- 기본적으로 변경 전과 후에 텐서 안의 원소 개수가 유지되어야 함\n",
        "- -1로 설정되면 계산을 통해 해당 크기값을 유추"
      ],
      "metadata": {
        "id": "bMwrEeUKPUNK"
      }
    },
    {
      "cell_type": "code",
      "source": [
        "x = torch.randn(4,5)\n",
        "print(x)\n",
        "y = x.view(20)\n",
        "print(y)\n",
        "z = x.view(5, -1) # -1 : 행은 5개로 해주고 열은 너가 알아서 해줘\n",
        "print(z)"
      ],
      "metadata": {
        "id": "H5sWFfZQFpDL",
        "colab": {
          "base_uri": "https://localhost:8080/"
        },
        "outputId": "24389bbd-bb90-4d4b-9351-7f3d192df1b0"
      },
      "execution_count": null,
      "outputs": [
        {
          "output_type": "stream",
          "name": "stdout",
          "text": [
            "tensor([[-0.3276,  0.2473,  0.3537,  0.7289, -1.2614],\n",
            "        [-0.8523,  0.3683,  0.1662,  0.7160, -1.1307],\n",
            "        [ 1.4487,  0.1386,  1.4182,  0.0706,  1.8152],\n",
            "        [ 0.0173, -0.2157, -0.7592,  0.0157,  1.5249]])\n",
            "tensor([-0.3276,  0.2473,  0.3537,  0.7289, -1.2614, -0.8523,  0.3683,  0.1662,\n",
            "         0.7160, -1.1307,  1.4487,  0.1386,  1.4182,  0.0706,  1.8152,  0.0173,\n",
            "        -0.2157, -0.7592,  0.0157,  1.5249])\n",
            "tensor([[-0.3276,  0.2473,  0.3537,  0.7289],\n",
            "        [-1.2614, -0.8523,  0.3683,  0.1662],\n",
            "        [ 0.7160, -1.1307,  1.4487,  0.1386],\n",
            "        [ 1.4182,  0.0706,  1.8152,  0.0173],\n",
            "        [-0.2157, -0.7592,  0.0157,  1.5249]])\n"
          ]
        }
      ]
    },
    {
      "cell_type": "markdown",
      "source": [
        "item:텐서에 값이 단 하나라도 존재하면 숫자값을 얻을 수 있음"
      ],
      "metadata": {
        "id": "lA05d9PIPeug"
      }
    },
    {
      "cell_type": "code",
      "source": [
        "x = torch.randn(1)\n",
        "print(x)\n",
        "print(x.item())\n",
        "print(x.dtype)"
      ],
      "metadata": {
        "colab": {
          "base_uri": "https://localhost:8080/"
        },
        "id": "b5w0XVqIPfHS",
        "outputId": "3f553af8-990c-48fc-fbdc-a74661a959f9"
      },
      "execution_count": null,
      "outputs": [
        {
          "output_type": "stream",
          "name": "stdout",
          "text": [
            "tensor([-1.0820])\n",
            "-1.0819724798202515\n",
            "torch.float32\n"
          ]
        }
      ]
    },
    {
      "cell_type": "markdown",
      "source": [
        "스칼라값 하나만 존재해야 item()사용 가능"
      ],
      "metadata": {
        "id": "PvWY9-jIPfej"
      }
    },
    {
      "cell_type": "code",
      "source": [
        "x = torch.randn(2)\n",
        "print(x)\n",
        "print(x.item()) # 값이 2개니까 에러\n",
        "print(x.dtype)"
      ],
      "metadata": {
        "colab": {
          "base_uri": "https://localhost:8080/",
          "height": 241
        },
        "id": "JZ4HpEUvPf1S",
        "outputId": "097f82c6-bf37-43f5-bcb2-d4d14165cfd1"
      },
      "execution_count": null,
      "outputs": [
        {
          "output_type": "stream",
          "name": "stdout",
          "text": [
            "tensor([-0.6849, -0.0985])\n"
          ]
        },
        {
          "output_type": "error",
          "ename": "ValueError",
          "evalue": "ignored",
          "traceback": [
            "\u001b[0;31m---------------------------------------------------------------------------\u001b[0m",
            "\u001b[0;31mValueError\u001b[0m                                Traceback (most recent call last)",
            "\u001b[0;32m<ipython-input-51-7c023f92a1c8>\u001b[0m in \u001b[0;36m<module>\u001b[0;34m\u001b[0m\n\u001b[1;32m      1\u001b[0m \u001b[0mx\u001b[0m \u001b[0;34m=\u001b[0m \u001b[0mtorch\u001b[0m\u001b[0;34m.\u001b[0m\u001b[0mrandn\u001b[0m\u001b[0;34m(\u001b[0m\u001b[0;36m2\u001b[0m\u001b[0;34m)\u001b[0m\u001b[0;34m\u001b[0m\u001b[0;34m\u001b[0m\u001b[0m\n\u001b[1;32m      2\u001b[0m \u001b[0mprint\u001b[0m\u001b[0;34m(\u001b[0m\u001b[0mx\u001b[0m\u001b[0;34m)\u001b[0m\u001b[0;34m\u001b[0m\u001b[0;34m\u001b[0m\u001b[0m\n\u001b[0;32m----> 3\u001b[0;31m \u001b[0mprint\u001b[0m\u001b[0;34m(\u001b[0m\u001b[0mx\u001b[0m\u001b[0;34m.\u001b[0m\u001b[0mitem\u001b[0m\u001b[0;34m(\u001b[0m\u001b[0;34m)\u001b[0m\u001b[0;34m)\u001b[0m\u001b[0;34m\u001b[0m\u001b[0;34m\u001b[0m\u001b[0m\n\u001b[0m\u001b[1;32m      4\u001b[0m \u001b[0mprint\u001b[0m\u001b[0;34m(\u001b[0m\u001b[0mx\u001b[0m\u001b[0;34m.\u001b[0m\u001b[0mdtype\u001b[0m\u001b[0;34m)\u001b[0m\u001b[0;34m\u001b[0m\u001b[0;34m\u001b[0m\u001b[0m\n",
            "\u001b[0;31mValueError\u001b[0m: only one element tensors can be converted to Python scalars"
          ]
        }
      ]
    },
    {
      "cell_type": "markdown",
      "source": [
        "squeeze : 차원을 축소(제거)"
      ],
      "metadata": {
        "id": "49XeU3sLQoQR"
      }
    },
    {
      "cell_type": "code",
      "source": [
        "tensor = torch.rand(1,3,3)\n",
        "print(tensor)\n",
        "print(tensor.shape)"
      ],
      "metadata": {
        "colab": {
          "base_uri": "https://localhost:8080/"
        },
        "id": "aQGzi3DNQySl",
        "outputId": "40d81f1d-04a0-431c-f7ed-1bd2f182214b"
      },
      "execution_count": null,
      "outputs": [
        {
          "output_type": "stream",
          "name": "stdout",
          "text": [
            "tensor([[[0.3027, 0.7059, 0.7327],\n",
            "         [0.7403, 0.8773, 0.8749],\n",
            "         [0.2292, 0.6765, 0.0844]]])\n",
            "torch.Size([1, 3, 3])\n"
          ]
        }
      ]
    },
    {
      "cell_type": "code",
      "source": [
        "t = tensor.squeeze()\n",
        "print(t)\n",
        "print(t.shape)"
      ],
      "metadata": {
        "colab": {
          "base_uri": "https://localhost:8080/"
        },
        "id": "oQGeVTROUw6U",
        "outputId": "a2607847-f704-415a-84df-c87f0222c83e"
      },
      "execution_count": null,
      "outputs": [
        {
          "output_type": "stream",
          "name": "stdout",
          "text": [
            "tensor([[0.3027, 0.7059, 0.7327],\n",
            "        [0.7403, 0.8773, 0.8749],\n",
            "        [0.2292, 0.6765, 0.0844]])\n",
            "torch.Size([3, 3])\n"
          ]
        }
      ]
    },
    {
      "cell_type": "markdown",
      "source": [
        "unsqueeze : 차원을 증가(생성)"
      ],
      "metadata": {
        "id": "QGZ8efGvQzSS"
      }
    },
    {
      "cell_type": "code",
      "source": [
        "t = torch.rand(3,3)\n",
        "print(t)\n",
        "print(t.shape)"
      ],
      "metadata": {
        "colab": {
          "base_uri": "https://localhost:8080/"
        },
        "id": "4phO5S2eQzkh",
        "outputId": "9b5ca39d-47e0-4519-bbfc-41a7bb26d496"
      },
      "execution_count": null,
      "outputs": [
        {
          "output_type": "stream",
          "name": "stdout",
          "text": [
            "tensor([[0.3083, 0.1450, 0.0185],\n",
            "        [0.9170, 0.2782, 0.7235],\n",
            "        [0.3738, 0.4356, 0.5166]])\n",
            "torch.Size([3, 3])\n"
          ]
        }
      ]
    },
    {
      "cell_type": "code",
      "source": [
        "tensor = t.unsqueeze(dim=0)\n",
        "print(tensor)\n",
        "print(tensor.shape)"
      ],
      "metadata": {
        "colab": {
          "base_uri": "https://localhost:8080/"
        },
        "id": "JI4XGWKTWmIo",
        "outputId": "7a912b25-a465-438f-f6e5-1157376d6ed3"
      },
      "execution_count": null,
      "outputs": [
        {
          "output_type": "stream",
          "name": "stdout",
          "text": [
            "tensor([[[0.3083, 0.1450, 0.0185],\n",
            "         [0.9170, 0.2782, 0.7235],\n",
            "         [0.3738, 0.4356, 0.5166]]])\n",
            "torch.Size([1, 3, 3])\n"
          ]
        }
      ]
    },
    {
      "cell_type": "code",
      "source": [
        "tensor = t.unsqueeze(dim=1)\n",
        "print(tensor)\n",
        "print(tensor.shape)"
      ],
      "metadata": {
        "colab": {
          "base_uri": "https://localhost:8080/"
        },
        "id": "BBtibCauW5CB",
        "outputId": "b5b04e3b-2a52-4fca-e6ba-4ccb8397d90f"
      },
      "execution_count": null,
      "outputs": [
        {
          "output_type": "stream",
          "name": "stdout",
          "text": [
            "tensor([[[0.3083, 0.1450, 0.0185]],\n",
            "\n",
            "        [[0.9170, 0.2782, 0.7235]],\n",
            "\n",
            "        [[0.3738, 0.4356, 0.5166]]])\n",
            "torch.Size([3, 1, 3])\n"
          ]
        }
      ]
    },
    {
      "cell_type": "code",
      "source": [
        "tensor = t.unsqueeze(dim=2)\n",
        "print(tensor)\n",
        "print(tensor.shape)"
      ],
      "metadata": {
        "colab": {
          "base_uri": "https://localhost:8080/"
        },
        "id": "y3I1mRI1W8D8",
        "outputId": "ada7ded7-cf97-43bc-969b-cbce9f17f664"
      },
      "execution_count": null,
      "outputs": [
        {
          "output_type": "stream",
          "name": "stdout",
          "text": [
            "tensor([[[0.3083],\n",
            "         [0.1450],\n",
            "         [0.0185]],\n",
            "\n",
            "        [[0.9170],\n",
            "         [0.2782],\n",
            "         [0.7235]],\n",
            "\n",
            "        [[0.3738],\n",
            "         [0.4356],\n",
            "         [0.5166]]])\n",
            "torch.Size([3, 3, 1])\n"
          ]
        }
      ]
    },
    {
      "cell_type": "markdown",
      "source": [
        "stack : 텐서간 결합"
      ],
      "metadata": {
        "id": "A-bs9VfUWz12"
      }
    },
    {
      "cell_type": "code",
      "source": [
        "x = torch.FloatTensor([1,4])\n",
        "print(x)\n",
        "y = torch.FloatTensor([2,5])\n",
        "print(y)\n",
        "z = torch.FloatTensor([3,6])\n",
        "print(z)\n",
        "\n",
        "print(torch.stack([x,y,z]))"
      ],
      "metadata": {
        "colab": {
          "base_uri": "https://localhost:8080/"
        },
        "id": "DvsfSXJ8W_6O",
        "outputId": "a8e9b25a-56dd-4ed4-b5b9-eaa1ebacab11"
      },
      "execution_count": null,
      "outputs": [
        {
          "output_type": "stream",
          "name": "stdout",
          "text": [
            "tensor([1., 4.])\n",
            "tensor([2., 5.])\n",
            "tensor([3., 6.])\n",
            "tensor([[1., 4.],\n",
            "        [2., 5.],\n",
            "        [3., 6.]])\n"
          ]
        }
      ]
    },
    {
      "cell_type": "markdown",
      "source": [
        "cat : 텐서를 결합하는 메소드(concatenate)\n",
        "- 넘파이의 stack과 유사하지만, 쌓을 dim이 존재해야함\n",
        "- 해당 차원을 늘려준 후 결합"
      ],
      "metadata": {
        "id": "qlN07g2oXA-Z"
      }
    },
    {
      "cell_type": "code",
      "source": [
        "a = torch.randn(1,3,3)\n",
        "print(\"a:\",a)\n",
        "b = torch.randn(1,3,3)\n",
        "print(\"b:\",b)\n",
        "c = torch.cat((a,b), dim=0)\n",
        "print(\"c:\",c)\n",
        "print(\"c:\",c.size())"
      ],
      "metadata": {
        "colab": {
          "base_uri": "https://localhost:8080/"
        },
        "id": "u3dfsJEXXE7L",
        "outputId": "f04ccb38-2f8d-4026-c6ba-0740dac11901"
      },
      "execution_count": null,
      "outputs": [
        {
          "output_type": "stream",
          "name": "stdout",
          "text": [
            "a: tensor([[[-0.8595,  0.1723,  0.0304],\n",
            "         [-0.9337, -0.8259,  0.1590],\n",
            "         [ 0.8235, -0.8369, -1.0936]]])\n",
            "b: tensor([[[-0.1079, -0.9501,  0.0279],\n",
            "         [-1.2767, -2.0882, -2.1889],\n",
            "         [-0.3627, -1.0343, -0.8614]]])\n",
            "c: tensor([[[-0.8595,  0.1723,  0.0304],\n",
            "         [-0.9337, -0.8259,  0.1590],\n",
            "         [ 0.8235, -0.8369, -1.0936]],\n",
            "\n",
            "        [[-0.1079, -0.9501,  0.0279],\n",
            "         [-1.2767, -2.0882, -2.1889],\n",
            "         [-0.3627, -1.0343, -0.8614]]])\n",
            "c: torch.Size([2, 3, 3])\n"
          ]
        }
      ]
    },
    {
      "cell_type": "code",
      "source": [
        "c = torch.cat((a,b), dim=1)\n",
        "print(\"c:\",c)\n",
        "print(\"c:\",c.size())"
      ],
      "metadata": {
        "colab": {
          "base_uri": "https://localhost:8080/"
        },
        "id": "YrpMJ7rmXcO8",
        "outputId": "3459c69c-72aa-4bbe-bbe0-be3de3d0a205"
      },
      "execution_count": null,
      "outputs": [
        {
          "output_type": "stream",
          "name": "stdout",
          "text": [
            "c: tensor([[[-0.8595,  0.1723,  0.0304],\n",
            "         [-0.9337, -0.8259,  0.1590],\n",
            "         [ 0.8235, -0.8369, -1.0936],\n",
            "         [-0.1079, -0.9501,  0.0279],\n",
            "         [-1.2767, -2.0882, -2.1889],\n",
            "         [-0.3627, -1.0343, -0.8614]]])\n",
            "c: torch.Size([1, 6, 3])\n"
          ]
        }
      ]
    },
    {
      "cell_type": "code",
      "source": [
        "c = torch.cat((a,b), dim=2)\n",
        "print(\"c:\",c)\n",
        "print(\"c:\",c.size())"
      ],
      "metadata": {
        "colab": {
          "base_uri": "https://localhost:8080/"
        },
        "id": "iAk2pVMJXcpx",
        "outputId": "26a6b1ea-804e-427c-d09a-67905b2aea96"
      },
      "execution_count": null,
      "outputs": [
        {
          "output_type": "stream",
          "name": "stdout",
          "text": [
            "c: tensor([[[-0.8595,  0.1723,  0.0304, -0.1079, -0.9501,  0.0279],\n",
            "         [-0.9337, -0.8259,  0.1590, -1.2767, -2.0882, -2.1889],\n",
            "         [ 0.8235, -0.8369, -1.0936, -0.3627, -1.0343, -0.8614]]])\n",
            "c: torch.Size([1, 3, 6])\n"
          ]
        }
      ]
    },
    {
      "cell_type": "markdown",
      "source": [
        "chunk : 텐서를 여러 ≈개로 나눌 때 사용(몇개로 나눌 것인가?)"
      ],
      "metadata": {
        "id": "impALguIXdnE"
      }
    },
    {
      "cell_type": "code",
      "source": [
        "tensor = torch.rand(3,6)\n",
        "print(tensor)\n",
        "\n",
        "t1, t2, t3 = torch.chunk(tensor, 3, dim=1)\n",
        "print(t1)\n",
        "print(t2)\n",
        "print(t3)"
      ],
      "metadata": {
        "colab": {
          "base_uri": "https://localhost:8080/"
        },
        "id": "F6LssqfjeT49",
        "outputId": "ee275dd8-794a-49a7-ea10-678a2ebadf2c"
      },
      "execution_count": null,
      "outputs": [
        {
          "output_type": "stream",
          "name": "stdout",
          "text": [
            "tensor([[0.0631, 0.7989, 0.7148, 0.4299, 0.4986, 0.0386],\n",
            "        [0.3054, 0.5678, 0.5320, 0.7476, 0.9127, 0.2307],\n",
            "        [0.7048, 0.1839, 0.2283, 0.0660, 0.9688, 0.4283]])\n",
            "tensor([[0.0631, 0.7989],\n",
            "        [0.3054, 0.5678],\n",
            "        [0.7048, 0.1839]])\n",
            "tensor([[0.7148, 0.4299],\n",
            "        [0.5320, 0.7476],\n",
            "        [0.2283, 0.0660]])\n",
            "tensor([[0.4986, 0.0386],\n",
            "        [0.9127, 0.2307],\n",
            "        [0.9688, 0.4283]])\n"
          ]
        }
      ]
    },
    {
      "cell_type": "markdown",
      "source": [
        "split : chuck와 동일한 기능이지만 조금다름 (텐서의 크기는 몇인가?)"
      ],
      "metadata": {
        "id": "gODo6XixeUZy"
      }
    },
    {
      "cell_type": "code",
      "source": [
        "tensor = torch.rand(3,6)\n",
        "t1, t2 = torch.split(tensor, 3, dim=1)\n",
        "\n",
        "print(tensor)\n",
        "print(t1)\n",
        "print(t2)"
      ],
      "metadata": {
        "colab": {
          "base_uri": "https://localhost:8080/"
        },
        "id": "XFsjLwr9eauC",
        "outputId": "81b6a812-523a-4497-cdc4-909662584bc9"
      },
      "execution_count": null,
      "outputs": [
        {
          "output_type": "stream",
          "name": "stdout",
          "text": [
            "tensor([[0.8789, 0.1674, 0.7468, 0.6490, 0.7329, 0.2145],\n",
            "        [0.6706, 0.0243, 0.6404, 0.9445, 0.7074, 0.3023],\n",
            "        [0.3391, 0.6776, 0.5504, 0.3151, 0.7583, 0.0038]])\n",
            "tensor([[0.8789, 0.1674, 0.7468],\n",
            "        [0.6706, 0.0243, 0.6404],\n",
            "        [0.3391, 0.6776, 0.5504]])\n",
            "tensor([[0.6490, 0.7329, 0.2145],\n",
            "        [0.9445, 0.7074, 0.3023],\n",
            "        [0.3151, 0.7583, 0.0038]])\n"
          ]
        }
      ]
    },
    {
      "cell_type": "markdown",
      "source": [
        "### torch <-> numpy\n",
        "- Torch Tensor(텐서)를 numpy array(배열)로 변환 가능\n",
        "  - numpy()\n",
        "  - from_numpy()\n",
        "- Tensor가 CPU상에 있다면 numpy 배열은 메모리 공간을 공유하므로 하나가 변하면, 다른 하나도 변함 / GPU에서는 공유 x"
      ],
      "metadata": {
        "id": "WRSU0lXYfMS5"
      }
    },
    {
      "cell_type": "code",
      "source": [
        "a = torch.ones(7)\n",
        "print(a)\n",
        "b = a.numpy()\n",
        "print(b)\n",
        "a.add_(1)\n",
        "print(a)\n",
        "print(b)"
      ],
      "metadata": {
        "id": "naBkdJKOfXEe",
        "colab": {
          "base_uri": "https://localhost:8080/"
        },
        "outputId": "5dee65d1-6fe2-4c57-f7c0-b325b7b66d3e"
      },
      "execution_count": null,
      "outputs": [
        {
          "output_type": "stream",
          "name": "stdout",
          "text": [
            "tensor([1., 1., 1., 1., 1., 1., 1.])\n",
            "[1. 1. 1. 1. 1. 1. 1.]\n",
            "tensor([2., 2., 2., 2., 2., 2., 2.])\n",
            "[2. 2. 2. 2. 2. 2. 2.]\n"
          ]
        }
      ]
    },
    {
      "cell_type": "code",
      "source": [
        "import numpy as np\n",
        "a = np.ones(7)\n",
        "b = torch.from_numpy(a)\n",
        "print(a)\n",
        "print(b)\n",
        "np.add(a,1,out=a)\n",
        "print(a)\n",
        "print(b)"
      ],
      "metadata": {
        "colab": {
          "base_uri": "https://localhost:8080/"
        },
        "id": "G239ZOcjTANL",
        "outputId": "35cdd545-9b42-444d-96a3-0083adfa88e7"
      },
      "execution_count": null,
      "outputs": [
        {
          "output_type": "stream",
          "name": "stdout",
          "text": [
            "[1. 1. 1. 1. 1. 1. 1.]\n",
            "tensor([1., 1., 1., 1., 1., 1., 1.], dtype=torch.float64)\n",
            "[2. 2. 2. 2. 2. 2. 2.]\n",
            "tensor([2., 2., 2., 2., 2., 2., 2.], dtype=torch.float64)\n"
          ]
        }
      ]
    },
    {
      "cell_type": "markdown",
      "source": [
        "Autograd(자동미분)\n",
        "- torch.autograd 패키지는 Tensor의 모든 연산에 대해 **자동 미분** 제공\n",
        "- 이는 코드를 어떻게 작성하여 실행하느냐에 따라 역전파가 정의된다는 뜻\n",
        "- backprop를 위해 미분값을 자동으로 계산\n",
        "\n",
        "> - requires_grad 속성을 True로 설정하면, 해당 텐서에서 이루어지는 모든 연산들을 추척하기 시작     \n",
        "- 기록을 추적하는 것을 중단하게 하려면, .detach()를 호출하여 연산기록으로부터 분리"
      ],
      "metadata": {
        "id": "57LwXR4aTA16"
      }
    },
    {
      "cell_type": "code",
      "source": [
        "a = torch.randn(3,3)\n",
        "a = a*3\n",
        "print(a)\n",
        "print(a.requires_grad)  # 기본적으로 false값을 가지고 있음"
      ],
      "metadata": {
        "colab": {
          "base_uri": "https://localhost:8080/"
        },
        "id": "xDn854wbUJWf",
        "outputId": "17368301-0663-4921-ff00-ce91ffc3faf1"
      },
      "execution_count": null,
      "outputs": [
        {
          "output_type": "stream",
          "name": "stdout",
          "text": [
            "tensor([[ 5.1270, -1.0533, -0.6468],\n",
            "        [-2.8501, -0.9885, -1.4146],\n",
            "        [ 0.2363, -3.2202,  5.7441]])\n",
            "False\n"
          ]
        }
      ]
    },
    {
      "cell_type": "markdown",
      "source": [
        "requires_grad_(...)는 기존 텐서의 requires_grad 값을 바꿔치기(in-place)하여 변경\n",
        "grad_fn : 미분값을 계산한 함수에 대한 정보 저장 (어떤 함수에 대해서 backprop했는지)"
      ],
      "metadata": {
        "id": "NPmZwgmEU7pu"
      }
    },
    {
      "cell_type": "code",
      "source": [
        "a.requires_grad_(True)\n",
        "print(a.requires_grad)\n",
        "\n",
        "b = (a * a).sum() # many to one a x a 의 값을 다 더해서 b 변수에 저장  -> 그 값이 82.3354\n",
        "print(b)\n",
        "print(b.grad_fn)"
      ],
      "metadata": {
        "colab": {
          "base_uri": "https://localhost:8080/"
        },
        "id": "W1mkWJ3eU9B4",
        "outputId": "688ae276-1af0-4146-ddfc-bead628bdf98"
      },
      "execution_count": null,
      "outputs": [
        {
          "output_type": "stream",
          "name": "stdout",
          "text": [
            "True\n",
            "tensor(82.3354, grad_fn=<SumBackward0>)\n",
            "<SumBackward0 object at 0x7fa0dafb8bd0>\n"
          ]
        }
      ]
    },
    {
      "cell_type": "markdown",
      "source": [
        "### 기울기"
      ],
      "metadata": {
        "id": "TrnfXNoxVkuc"
      }
    },
    {
      "cell_type": "code",
      "source": [
        "x = torch.ones(3,3,requires_grad=True) \n",
        "print(x)"
      ],
      "metadata": {
        "colab": {
          "base_uri": "https://localhost:8080/"
        },
        "id": "5zU0P5H5VmXN",
        "outputId": "78c4e1fd-df77-4e74-b0ba-39d75dbe327a"
      },
      "execution_count": null,
      "outputs": [
        {
          "output_type": "stream",
          "name": "stdout",
          "text": [
            "tensor([[1., 1., 1.],\n",
            "        [1., 1., 1.],\n",
            "        [1., 1., 1.]], requires_grad=True)\n"
          ]
        }
      ]
    },
    {
      "cell_type": "code",
      "source": [
        "y = x+5\n",
        "print(y)"
      ],
      "metadata": {
        "colab": {
          "base_uri": "https://localhost:8080/"
        },
        "id": "eqlnHzPjW8lU",
        "outputId": "5b76d315-1a4f-4795-a934-a15632cb2968"
      },
      "execution_count": null,
      "outputs": [
        {
          "output_type": "stream",
          "name": "stdout",
          "text": [
            "tensor([[6., 6., 6.],\n",
            "        [6., 6., 6.],\n",
            "        [6., 6., 6.]], grad_fn=<AddBackward0>)\n"
          ]
        }
      ]
    },
    {
      "cell_type": "code",
      "source": [
        "z = y * y\n",
        "out = z.mean()\n",
        "print(z, out)"
      ],
      "metadata": {
        "colab": {
          "base_uri": "https://localhost:8080/"
        },
        "id": "vdemsmw8W_04",
        "outputId": "7f8aedc9-740f-43eb-deb6-a57d34439c78"
      },
      "execution_count": null,
      "outputs": [
        {
          "output_type": "stream",
          "name": "stdout",
          "text": [
            "tensor([[36., 36., 36.],\n",
            "        [36., 36., 36.],\n",
            "        [36., 36., 36.]], grad_fn=<MulBackward0>) tensor(36., grad_fn=<MeanBackward0>)\n"
          ]
        }
      ]
    },
    {
      "cell_type": "markdown",
      "source": [
        "계산이 완료된 후, .backward()를 호출하면 자동으로 역전파 계산이 가능하고, .grad 속성에 누적됨"
      ],
      "metadata": {
        "id": "bXO5m1juXQf7"
      }
    },
    {
      "cell_type": "code",
      "source": [
        "print(out)\n",
        "out.backward()"
      ],
      "metadata": {
        "colab": {
          "base_uri": "https://localhost:8080/"
        },
        "id": "GVxl-y7lXXCv",
        "outputId": "59113752-540b-455a-e189-43e2be576639"
      },
      "execution_count": null,
      "outputs": [
        {
          "output_type": "stream",
          "name": "stdout",
          "text": [
            "tensor(36., grad_fn=<MeanBackward0>)\n"
          ]
        }
      ]
    },
    {
      "cell_type": "markdown",
      "source": [
        "grad : data가 거쳐온 layer에 대한 미분값 저장"
      ],
      "metadata": {
        "id": "yhuLv6FYXXZ1"
      }
    },
    {
      "cell_type": "code",
      "source": [
        "print(x)\n",
        "print(x.grad)"
      ],
      "metadata": {
        "colab": {
          "base_uri": "https://localhost:8080/"
        },
        "id": "i7wVGXzmXjs2",
        "outputId": "4c12ebd2-2ed3-40ac-bed1-7d20ca6c37a0"
      },
      "execution_count": null,
      "outputs": [
        {
          "output_type": "stream",
          "name": "stdout",
          "text": [
            "tensor([[1., 1., 1.],\n",
            "        [1., 1., 1.],\n",
            "        [1., 1., 1.]], requires_grad=True)\n",
            "tensor([[1.3333, 1.3333, 1.3333],\n",
            "        [1.3333, 1.3333, 1.3333],\n",
            "        [1.3333, 1.3333, 1.3333]])\n"
          ]
        }
      ]
    },
    {
      "cell_type": "code",
      "source": [
        "x = torch.randn(3, requires_grad=True)\n",
        "y = x * 2\n",
        "while y.data.norm() < 1000:\n",
        "  y = y * 2\n",
        "print(y)"
      ],
      "metadata": {
        "colab": {
          "base_uri": "https://localhost:8080/"
        },
        "id": "KscisoPpXn6V",
        "outputId": "6ca44f1a-4953-4097-e454-3eb3508e4470"
      },
      "execution_count": null,
      "outputs": [
        {
          "output_type": "stream",
          "name": "stdout",
          "text": [
            "tensor([1423.7911, -506.9493,  890.6511], grad_fn=<MulBackward0>)\n"
          ]
        }
      ]
    },
    {
      "cell_type": "code",
      "source": [
        "v = torch.tensor([0.1, 1.0, 0.0001], dtype=torch.float)\n",
        "y.backward(v)\n",
        "print(x.grad)"
      ],
      "metadata": {
        "colab": {
          "base_uri": "https://localhost:8080/"
        },
        "id": "7u-Ss2zcakNu",
        "outputId": "0f2eda49-f0c9-400c-8708-b861df8a1874"
      },
      "execution_count": null,
      "outputs": [
        {
          "output_type": "stream",
          "name": "stdout",
          "text": [
            "tensor([1.0240e+02, 1.0240e+03, 1.0240e-01])\n"
          ]
        }
      ]
    },
    {
      "cell_type": "markdown",
      "source": [
        "### 데이터 준비\n",
        "파이토치에서는 데이터 준비를 위해 torch.utils.data의 Dataset과 DataLoader 사용 가능\n",
        "- Dataset에는 다양한 데이터셋이 존재(MNIST, FashionMNIST, CIFAR10,...)\n",
        "  - Vision Dataset : https://pytorch.org/vision/stable/datasets.html\n",
        "  - Text Dataset : https://pytorch.org/text/stable/datasets.html\n",
        "  - Audio Dataset : https://pytorch.org/audio/stable/datasets.html\n",
        "- DataLoader와 Dataset을 통해 batch_size, train 여부, transform 등을 인자로 넣어 데이터를 어떻게 load할 것인지 정해줄 수 있음"
      ],
      "metadata": {
        "id": "KuTK0l5xbNAk"
      }
    },
    {
      "cell_type": "code",
      "source": [
        "from torch.utils.data import Dataset, DataLoader"
      ],
      "metadata": {
        "id": "gry-xwBpbQ6V"
      },
      "execution_count": null,
      "outputs": []
    },
    {
      "cell_type": "markdown",
      "source": [
        "토치비전(torchvision)은 파이토치에서 제공하는 데이터셋들이 모여있는 패키지\n",
        "- transforms : 전처리할 때 사용하는 메소드 (https://pytorch.org/docs/stable/torchvision/transforms.html)\n",
        "- transforms에서 제공하는 클래스 이외는 일반적으로 클래스를 따로 만들어 전처리 단계를 진행"
      ],
      "metadata": {
        "id": "NB_N3eWDcGPq"
      }
    },
    {
      "cell_type": "code",
      "source": [
        "import torchvision.transforms as transforms\n",
        "from torchvision import datasets"
      ],
      "metadata": {
        "id": "bneH9bY-cG8L"
      },
      "execution_count": null,
      "outputs": []
    },
    {
      "cell_type": "markdown",
      "source": [
        "DataLoaer의 인자로 들어갈 transform을 미리 정의할 수 있고, Compose를 통해 리스트 안에 순서대로 전처리 진행\n",
        "ToTensor()를 하는 이유는 torchvision이 PIL Image 형태로만 입력을 받기 때문에 데이터 처리를 위해서 Tensor형으로 변환 필용"
      ],
      "metadata": {
        "id": "pYDYeRRPc0cT"
      }
    },
    {
      "cell_type": "code",
      "source": [
        "mnist_transform = transforms.Compose([transforms.ToTensor(),\n",
        "                                      transforms.Normalize(mean=(0.5,), std=(1.0,))])\n",
        "trainset = datasets.MNIST(root='/content',  # 어느 위치에 저장할지\n",
        "                          # train이 true냐 false냐에 따라 train인지 test인지 구분\n",
        "                          # download : 실제 코랩에 download할 수 있도록\n",
        "                          train=True, download=True, \n",
        "                          transform=mnist_transform)\n",
        "\n",
        "testset = datasets.MNIST(root='/content',  # 어느 위치에 저장할지\n",
        "                          # train이 true냐 false냐에 따라 train인지 test인지 구분\n",
        "                          # download : 실제 코랩에 download할 수 있도록\n",
        "                          train=False, download=True, \n",
        "                          transform=mnist_transform)"
      ],
      "metadata": {
        "colab": {
          "base_uri": "https://localhost:8080/",
          "height": 451,
          "referenced_widgets": [
            "f23ca5be525b43658628d39d07fba82c",
            "d8cbe6fd2969424eb044085df6643572",
            "69bf328bb28b4beca43ec73d4719be60",
            "2ce22c3e39e64139a3338f1f7856aa4d",
            "51ddeb55357e40d19003ebc2bb7b4a84",
            "0f38cb9734a2485b9f291340edcab3a3",
            "0f877998949d46c5b690911bff87a879",
            "f3de71a2e8f949369e09d75224c15bc5",
            "7ebb6da380ae4bf3a93e8e10569551ab",
            "7f980c41b75d48c9b4b399a856a7aa81",
            "cb16693145dc4dcf9b815cb42f3f7bc5",
            "6c721af21d8342c5873cd75ca224b742",
            "782d0abe21944262a7e854f9d48efbc1",
            "f837ecbcff8e40db90dd5be87862f359",
            "81e10893aece407b961e72f5cce1dbca",
            "9a6ce0a935c84a8891457748406b99e4",
            "f5db5432c546478f8d90c4f22d699ed9",
            "97a90a0dcb1d49eca35f5e72a1a04ec9",
            "0fd3a06da3ff4bf9a2ce434f469130d5",
            "148307ad204c4d4d8d7dc2f74cb74b36",
            "9849b33aabed426b8aab44b5406f52b8",
            "0b0966d2041d4ee396cd15b3013d68cb",
            "c56f6cdd21824838bc1880c495c0ac6f",
            "1db8555837ff491e93fed259f160cf4a",
            "107c46d809f044c8ae0cfd0487771b55",
            "9eb311b8a09e448ca4901bad5e21f6f5",
            "ecb684218a8e47bfb3b4b79b7eb2d860",
            "0cb440e2882a406680ec981d8dfe1c16",
            "bc7944ddbc0f424ea0a70c482223a696",
            "f3b3cbeeb76d492fb0802173d55a02a0",
            "6dada72431fe4e08a359a2836cfbd4d0",
            "6350405e987641e284f345c39bc55881",
            "c3f0fea4fa1f4b6b8cb945fb3a7279b9",
            "ae650db19aa64e96b9299f31480146cb",
            "70754d24c47943908d379067d81e701e",
            "e76a8293ae2a4e9791affe64cac5f6b4",
            "7d7d4811054b4165a3f4768c05cf1c84",
            "2f5e7777c8cf483c8a5ad3362e82e82d",
            "6b63802a286a457dad40fb8a37bdbd92",
            "956fac0128c742e1840d8cc56cbab9ad",
            "990ad534671d4989bc8da31b66cafeb2",
            "b83584d2f909438c84afd2429323b817",
            "7a3d0d5ad3004e0ba66ba72b737ba8db",
            "6b2dc5697dc24361a72a05aa1a533d4a"
          ]
        },
        "id": "EzgqrM0Mc1Jt",
        "outputId": "b5cbfa5f-a5a3-419f-cf5d-269241f95ef9"
      },
      "execution_count": null,
      "outputs": [
        {
          "output_type": "stream",
          "name": "stdout",
          "text": [
            "Downloading http://yann.lecun.com/exdb/mnist/train-images-idx3-ubyte.gz\n",
            "Downloading http://yann.lecun.com/exdb/mnist/train-images-idx3-ubyte.gz to /content/MNIST/raw/train-images-idx3-ubyte.gz\n"
          ]
        },
        {
          "output_type": "display_data",
          "data": {
            "text/plain": [
              "  0%|          | 0/9912422 [00:00<?, ?it/s]"
            ],
            "application/vnd.jupyter.widget-view+json": {
              "version_major": 2,
              "version_minor": 0,
              "model_id": "f23ca5be525b43658628d39d07fba82c"
            }
          },
          "metadata": {}
        },
        {
          "output_type": "stream",
          "name": "stdout",
          "text": [
            "Extracting /content/MNIST/raw/train-images-idx3-ubyte.gz to /content/MNIST/raw\n",
            "\n",
            "Downloading http://yann.lecun.com/exdb/mnist/train-labels-idx1-ubyte.gz\n",
            "Downloading http://yann.lecun.com/exdb/mnist/train-labels-idx1-ubyte.gz to /content/MNIST/raw/train-labels-idx1-ubyte.gz\n"
          ]
        },
        {
          "output_type": "display_data",
          "data": {
            "text/plain": [
              "  0%|          | 0/28881 [00:00<?, ?it/s]"
            ],
            "application/vnd.jupyter.widget-view+json": {
              "version_major": 2,
              "version_minor": 0,
              "model_id": "6c721af21d8342c5873cd75ca224b742"
            }
          },
          "metadata": {}
        },
        {
          "output_type": "stream",
          "name": "stdout",
          "text": [
            "Extracting /content/MNIST/raw/train-labels-idx1-ubyte.gz to /content/MNIST/raw\n",
            "\n",
            "Downloading http://yann.lecun.com/exdb/mnist/t10k-images-idx3-ubyte.gz\n",
            "Downloading http://yann.lecun.com/exdb/mnist/t10k-images-idx3-ubyte.gz to /content/MNIST/raw/t10k-images-idx3-ubyte.gz\n"
          ]
        },
        {
          "output_type": "display_data",
          "data": {
            "text/plain": [
              "  0%|          | 0/1648877 [00:00<?, ?it/s]"
            ],
            "application/vnd.jupyter.widget-view+json": {
              "version_major": 2,
              "version_minor": 0,
              "model_id": "c56f6cdd21824838bc1880c495c0ac6f"
            }
          },
          "metadata": {}
        },
        {
          "output_type": "stream",
          "name": "stdout",
          "text": [
            "Extracting /content/MNIST/raw/t10k-images-idx3-ubyte.gz to /content/MNIST/raw\n",
            "\n",
            "Downloading http://yann.lecun.com/exdb/mnist/t10k-labels-idx1-ubyte.gz\n",
            "Downloading http://yann.lecun.com/exdb/mnist/t10k-labels-idx1-ubyte.gz to /content/MNIST/raw/t10k-labels-idx1-ubyte.gz\n"
          ]
        },
        {
          "output_type": "display_data",
          "data": {
            "text/plain": [
              "  0%|          | 0/4542 [00:00<?, ?it/s]"
            ],
            "application/vnd.jupyter.widget-view+json": {
              "version_major": 2,
              "version_minor": 0,
              "model_id": "ae650db19aa64e96b9299f31480146cb"
            }
          },
          "metadata": {}
        },
        {
          "output_type": "stream",
          "name": "stdout",
          "text": [
            "Extracting /content/MNIST/raw/t10k-labels-idx1-ubyte.gz to /content/MNIST/raw\n",
            "\n"
          ]
        }
      ]
    },
    {
      "cell_type": "markdown",
      "source": [
        "DataLoader는 데이터 전체를 보관했다가 실제 모델 학습을 할 때 batch_size 크기만큼 데이터를 가져옴"
      ],
      "metadata": {
        "id": "tU8yY2qfi9Kn"
      }
    },
    {
      "cell_type": "code",
      "source": [
        "train_loader = DataLoader(trainset, batch_size=8, shuffle=True, num_workers=2)\n",
        "test_loader = DataLoader(trainset, batch_size=8, shuffle=False, num_workers=2)"
      ],
      "metadata": {
        "id": "5v0ppK9Gi7S0"
      },
      "execution_count": null,
      "outputs": []
    },
    {
      "cell_type": "code",
      "source": [
        "dataiter = iter(train_loader)\n",
        "images, labels = dataiter.next()\n",
        "images.shape, labels.shape\n",
        "# 28 x 28 짜리의 흑백사진 8장"
      ],
      "metadata": {
        "colab": {
          "base_uri": "https://localhost:8080/"
        },
        "id": "ra6Rqy5djGes",
        "outputId": "51a60be1-c030-4ace-8d75-9c3e3648f3df"
      },
      "execution_count": null,
      "outputs": [
        {
          "output_type": "execute_result",
          "data": {
            "text/plain": [
              "(torch.Size([8, 1, 28, 28]), torch.Size([8]))"
            ]
          },
          "metadata": {},
          "execution_count": 43
        }
      ]
    },
    {
      "cell_type": "code",
      "source": [
        "torch_image = torch.squeeze(images[0]) # 0번째 사진 1장을 가져옴\n",
        "print(torch_image.size())"
      ],
      "metadata": {
        "colab": {
          "base_uri": "https://localhost:8080/"
        },
        "id": "qNXuj0z1jvcc",
        "outputId": "73584146-fbe4-4e95-a6a8-1f983ca4e1b5"
      },
      "execution_count": null,
      "outputs": [
        {
          "output_type": "stream",
          "name": "stdout",
          "text": [
            "torch.Size([28, 28])\n",
            "torch.Size([28, 28])\n"
          ]
        }
      ]
    },
    {
      "cell_type": "code",
      "source": [
        "import matplotlib.pyplot as plt\n",
        "figure = plt.figure(figsize=(12,6))\n",
        "cols, rows = 4,2\n",
        "for i in range(1, cols * rows + 1):\n",
        "  sample_idx = torch.randint(len(trainset), size=(1,)).item()\n",
        "  img, label = trainset[sample_idx]\n",
        "  figure.add_subplot(rows, cols, i)\n",
        "  plt.title(label)\n",
        "  plt.axis('off')\n",
        "  plt.imshow(img.squeeze(), cmap=('gray'))\n",
        "plt.show"
      ],
      "metadata": {
        "colab": {
          "base_uri": "https://localhost:8080/",
          "height": 388
        },
        "id": "ZLClU2OukGLt",
        "outputId": "5ead5649-6b51-4908-bacf-a347238ca92f"
      },
      "execution_count": null,
      "outputs": [
        {
          "output_type": "execute_result",
          "data": {
            "text/plain": [
              "<function matplotlib.pyplot.show(*args, **kw)>"
            ]
          },
          "metadata": {},
          "execution_count": 47
        },
        {
          "output_type": "display_data",
          "data": {
            "text/plain": [
              "<Figure size 864x432 with 8 Axes>"
            ],
            "image/png": "[encoded data removed]"
          },
          "metadata": {
            "needs_background": "light"
          }
        }
      ]
    },
    {
      "cell_type": "markdown",
      "source": [
        "### 신경망 구성\n",
        "- 레이어(layer) : 신경망의 핵심 데이터 구조로 하나 이상의 텐서를 입력받아 하나 이상의 텐서를 출력\n",
        "- 모듈(module) : 한 개 이상의 계층이 모여서 구성\n",
        "- 모델(model) : 한 개 이상의 모듈이 모여서 구성"
      ],
      "metadata": {
        "id": "zk1qMpPik3r-"
      }
    },
    {
      "cell_type": "markdown",
      "source": [
        "torch.nn 패키지\n",
        "- 주로 가중치(weights), 편향(bias)값들이 내부에서 자동으로 생성되는 레이어들을 사용할 때 사용  (weight 값들을 직접 선언 안함)\n",
        "\n",
        "https://pytorch.org/docs/stable/nn.html"
      ],
      "metadata": {
        "id": "kr5OqxlalMcC"
      }
    },
    {
      "cell_type": "code",
      "source": [
        "import torch.nn as nn"
      ],
      "metadata": {
        "id": "EKrZ6fujlL50"
      },
      "execution_count": null,
      "outputs": []
    },
    {
      "cell_type": "markdown",
      "source": [
        "nn.Linear 계층 예제"
      ],
      "metadata": {
        "id": "qWicyfUiluVW"
      }
    },
    {
      "cell_type": "code",
      "source": [
        "input = torch.randn(128,20)\n",
        "print(\"input : \",input)\n",
        "\n",
        "m = nn.Linear(20,30) # 입력이 20 출력이 30 / 20이 들어가서 30이 나옴\n",
        "print(\"m : \",m)\n",
        "\n",
        "output = m(input)\n",
        "print(\"output : \",output)\n",
        "print(\"output_size : \",output.size())"
      ],
      "metadata": {
        "colab": {
          "base_uri": "https://localhost:8080/"
        },
        "id": "XrY0yMEhlw8h",
        "outputId": "255eed7c-214e-4fdc-83a5-4fc1af4d0a78"
      },
      "execution_count": null,
      "outputs": [
        {
          "output_type": "stream",
          "name": "stdout",
          "text": [
            "input :  tensor([[-0.0375,  1.6851,  2.6268,  ...,  0.2986, -0.3500, -1.1527],\n",
            "        [ 1.6849,  0.9544, -0.3984,  ...,  0.2036,  0.3005, -0.7080],\n",
            "        [-0.4072, -0.3608,  0.5980,  ..., -0.2195,  0.0577, -0.5612],\n",
            "        ...,\n",
            "        [ 0.1380,  0.4378,  0.7883,  ..., -0.4682,  0.3000, -0.0551],\n",
            "        [-0.6546,  0.6449,  1.7856,  ...,  0.0618, -0.6031,  0.1295],\n",
            "        [ 1.8643,  0.4044, -0.1328,  ..., -1.5392, -0.5507,  0.0177]])\n",
            "m :  Linear(in_features=20, out_features=30, bias=True)\n",
            "output :  tensor([[-0.3394,  0.0358,  0.9044,  ..., -0.3161,  0.1798, -0.2064],\n",
            "        [-0.2419,  0.3183,  0.0658,  ...,  0.8707,  0.0338, -1.2231],\n",
            "        [-0.4528, -1.1675, -0.3006,  ...,  0.3195, -0.1812,  0.0979],\n",
            "        ...,\n",
            "        [-0.4719,  0.6601,  0.0177,  ...,  0.4505,  0.6979, -0.5170],\n",
            "        [ 0.2463, -0.1937,  0.6181,  ...,  0.5997, -0.7448, -0.4483],\n",
            "        [-0.3437,  0.2136, -0.0125,  ...,  0.2602,  0.1557,  0.3344]],\n",
            "       grad_fn=<AddmmBackward0>)\n",
            "output_size :  torch.Size([128, 30])\n"
          ]
        }
      ]
    },
    {
      "cell_type": "markdown",
      "source": [
        "nn.Conv2d 계층 예시"
      ],
      "metadata": {
        "id": "oAuHOsbZl27G"
      }
    },
    {
      "cell_type": "code",
      "source": [
        "input = torch.randn(20,16,50,100)\n",
        "print(\"input_size : \",input.size())\n",
        "\n",
        "m = nn.Conv2d(16,33,3, stride=2)\n",
        "m = nn.Conv2d(16,33,(3,5), stride=(2,1), padding=(4,2))\n",
        "m = nn.Conv2d(16,33,(3,5), stride=(2,1), padding=(4,2), dilation=(3,1))\n",
        "print(\"m : \",m)\n",
        "\n",
        "output = m(input)\n",
        "print(\"output_size : \",output.size())"
      ],
      "metadata": {
        "colab": {
          "base_uri": "https://localhost:8080/"
        },
        "id": "A0FnMKHMl5Cp",
        "outputId": "261bc186-056f-4d1d-e115-2bb49c90cebc"
      },
      "execution_count": null,
      "outputs": [
        {
          "output_type": "stream",
          "name": "stdout",
          "text": [
            "input_size :  torch.Size([20, 16, 50, 100])\n",
            "m :  Conv2d(16, 33, kernel_size=(3, 5), stride=(2, 1), padding=(4, 2), dilation=(3, 1))\n",
            "output_size :  torch.Size([20, 33, 26, 100])\n"
          ]
        }
      ]
    },
    {
      "cell_type": "markdown",
      "source": [
        "### 컨볼루션 레이어(Convolution Layers)"
      ],
      "metadata": {
        "id": "FXbCpa7qm6dV"
      }
    },
    {
      "cell_type": "markdown",
      "source": [
        "nn.Con2d 예제\n",
        "- in_channels : channel의 갯수\n",
        "- out_channels : 출력 채널의 갯수\n",
        "- kernel_size : 커널(필터)사이즈"
      ],
      "metadata": {
        "id": "eoWzHofpoISU"
      }
    },
    {
      "cell_type": "code",
      "source": [
        "nn.Conv2d(in_channels=1, out_channels=20, kernel_size=5, stride=1) # 1개 들어가서 20개 나옴"
      ],
      "metadata": {
        "colab": {
          "base_uri": "https://localhost:8080/"
        },
        "id": "7GiUylSPoHgI",
        "outputId": "2d91bce0-11f1-46b5-a26e-6f9e632d5a4a"
      },
      "execution_count": null,
      "outputs": [
        {
          "output_type": "execute_result",
          "data": {
            "text/plain": [
              "Conv2d(1, 20, kernel_size=(5, 5), stride=(1, 1))"
            ]
          },
          "metadata": {},
          "execution_count": 57
        }
      ]
    },
    {
      "cell_type": "code",
      "source": [
        "#  layer = nn.Conv2d(1,20,5,1) # 위 코드랑 같은 코드인데 인자 없이 바로 지정 가능\n",
        "layer = nn.Conv2d(1,20,5,1).to(torch.device('cpu')) # 컨볼루션 층을 cpu로 전송시킴\n",
        "layer"
      ],
      "metadata": {
        "colab": {
          "base_uri": "https://localhost:8080/"
        },
        "id": "7A2MMOqxm-Zq",
        "outputId": "15d7e95f-79f8-4c44-aed2-c120bf800978"
      },
      "execution_count": null,
      "outputs": [
        {
          "output_type": "execute_result",
          "data": {
            "text/plain": [
              "Conv2d(1, 20, kernel_size=(5, 5), stride=(1, 1))"
            ]
          },
          "metadata": {},
          "execution_count": 58
        }
      ]
    },
    {
      "cell_type": "markdown",
      "source": [
        "weight 확인"
      ],
      "metadata": {
        "id": "rLwhlKnuo_Ct"
      }
    },
    {
      "cell_type": "code",
      "source": [
        "weight = layer.weight\n",
        "weight.shape"
      ],
      "metadata": {
        "colab": {
          "base_uri": "https://localhost:8080/"
        },
        "id": "9Egpv1TLpBt-",
        "outputId": "f2af274f-2d58-4732-b23a-86804985aea4"
      },
      "execution_count": null,
      "outputs": [
        {
          "output_type": "execute_result",
          "data": {
            "text/plain": [
              "torch.Size([20, 1, 5, 5])"
            ]
          },
          "metadata": {},
          "execution_count": 59
        }
      ]
    },
    {
      "cell_type": "markdown",
      "source": [
        "weight는 detach()를 통해 꺼내줘야 numpy() 변환이 가능"
      ],
      "metadata": {
        "id": "fxTuI7kXpB9a"
      }
    },
    {
      "cell_type": "code",
      "source": [
        "weight = weight.detach()\n",
        "weight = weight.numpy()\n",
        "weight.shape"
      ],
      "metadata": {
        "colab": {
          "base_uri": "https://localhost:8080/"
        },
        "id": "Rw144TSWpN1b",
        "outputId": "d8e892ac-e0a3-42a1-f964-248fecb7d708"
      },
      "execution_count": null,
      "outputs": [
        {
          "output_type": "execute_result",
          "data": {
            "text/plain": [
              "(20, 1, 5, 5)"
            ]
          },
          "metadata": {},
          "execution_count": 60
        }
      ]
    },
    {
      "cell_type": "code",
      "source": [
        "plt.imshow(weight[0,0,:,:], 'jet') #colorbar = jet / gray를 넣으면 회색으로 출력됨\n",
        "plt.colorbar()\n",
        "plt.show()"
      ],
      "metadata": {
        "colab": {
          "base_uri": "https://localhost:8080/",
          "height": 265
        },
        "id": "7e3SYfYkpWLZ",
        "outputId": "3dcb4bf5-e31a-4a5f-ac91-8bad0119a119"
      },
      "execution_count": null,
      "outputs": [
        {
          "output_type": "display_data",
          "data": {
            "text/plain": [
              "<Figure size 432x288 with 2 Axes>"
            ],
            "image/png": "[encoded data removed]"
          },
          "metadata": {
            "needs_background": "light"
          }
        }
      ]
    },
    {
      "cell_type": "code",
      "source": [
        "print(\"images_shape : \",images.shape) # 28x28 흑백 사진 8장\n",
        "print(\"images[0]_size : \",images[0].size()) # 0번째 사진의 shape\n",
        "input_image = torch.squeeze(images[0]) # 차원축소\n",
        "print(\"input_image_size : \",input_image.size()) # 사진의 shape"
      ],
      "metadata": {
        "colab": {
          "base_uri": "https://localhost:8080/"
        },
        "id": "OS3Vugcfpgrt",
        "outputId": "03b4e4cb-991a-40d3-94d9-686def5f52dc"
      },
      "execution_count": null,
      "outputs": [
        {
          "output_type": "stream",
          "name": "stdout",
          "text": [
            "images_shape :  torch.Size([8, 1, 28, 28])\n",
            "images[0]_size :  torch.Size([1, 28, 28])\n",
            "input_image_size :  torch.Size([28, 28])\n"
          ]
        }
      ]
    },
    {
      "cell_type": "code",
      "source": [
        "input_data = torch.unsqueeze(images[0], dim=0)\n",
        "print(input_data.size()) # 1,1,28,28 -> 28x28 흑백 사진 1장\n",
        "\n",
        "output_data = layer(input_data)\n",
        "output = output_data.data\n",
        "output_arr = output.numpy()\n",
        "output_arr.shape"
      ],
      "metadata": {
        "colab": {
          "base_uri": "https://localhost:8080/"
        },
        "id": "Bd5zdJJKqRRs",
        "outputId": "6684e2cc-b45c-4183-c9ae-a8fd1ac847af"
      },
      "execution_count": null,
      "outputs": [
        {
          "output_type": "stream",
          "name": "stdout",
          "text": [
            "torch.Size([1, 1, 28, 28])\n"
          ]
        },
        {
          "output_type": "execute_result",
          "data": {
            "text/plain": [
              "(1, 20, 24, 24)"
            ]
          },
          "metadata": {},
          "execution_count": 66
        }
      ]
    },
    {
      "cell_type": "code",
      "source": [
        "# 실제 이미지 -> Convolution Layers (가중치를 적용했을 때) -> 가중치 적용한 output이미지\n",
        "plt.figure(figsize=(15,30))\n",
        "plt.subplot(131)\n",
        "plt.title(\"input\")\n",
        "plt.imshow(input_image, 'gray')\n",
        "\n",
        "plt.subplot(132)\n",
        "plt.title(\"Weight\")\n",
        "plt.imshow(weight[0,0,:,:], \"jet\")\n",
        "\n",
        "plt.subplot(133)\n",
        "plt.title(\"Output\")\n",
        "plt.imshow(output_arr[0,0,:,:], \"gray\")\n",
        "plt.show()"
      ],
      "metadata": {
        "colab": {
          "base_uri": "https://localhost:8080/",
          "height": 265
        },
        "id": "1LPUIL0Hqzs-",
        "outputId": "f6e0827f-0ca0-4bb8-e4a4-d2dc1e2afeef"
      },
      "execution_count": null,
      "outputs": [
        {
          "output_type": "display_data",
          "data": {
            "text/plain": [
              "<Figure size 1080x2160 with 3 Axes>"
            ],
            "image/png": "[encoded data removed]"
          },
          "metadata": {
            "needs_background": "light"
          }
        }
      ]
    },
    {
      "cell_type": "markdown",
      "source": [
        "### 풀링 레이어(Pooling layers)\n",
        "- F.max_pool2d\n",
        "  - stride\n",
        "  - kernel_size\n",
        "- torch.nn.MaxPool2d 도 많이 사용"
      ],
      "metadata": {
        "id": "wg_FxRv5rqSs"
      }
    },
    {
      "cell_type": "code",
      "source": [
        "import torch.nn.functional as f\n",
        "pool = f.max_pool2d(output,2,2) # 해상도가 반으로 줄어버림 / 위에 코드를 보면 1,20,24,24\n",
        "pool.shape"
      ],
      "metadata": {
        "colab": {
          "base_uri": "https://localhost:8080/"
        },
        "id": "lyHWqqi4r2vc",
        "outputId": "f5369494-d091-466b-9f2f-f444682bb412"
      },
      "execution_count": null,
      "outputs": [
        {
          "output_type": "execute_result",
          "data": {
            "text/plain": [
              "torch.Size([1, 20, 12, 12])"
            ]
          },
          "metadata": {},
          "execution_count": 72
        }
      ]
    },
    {
      "cell_type": "markdown",
      "source": [
        "- MaxPool Layer는 weight가 없기 때문에 바로 numpy()변환가능"
      ],
      "metadata": {
        "id": "rvXgC98WsAm3"
      }
    },
    {
      "cell_type": "code",
      "source": [
        "pool_arr = pool.numpy()\n",
        "pool_arr.shape"
      ],
      "metadata": {
        "colab": {
          "base_uri": "https://localhost:8080/"
        },
        "id": "27sXvw2k6TOk",
        "outputId": "9548dc28-6743-40cf-8341-2c65e2651120"
      },
      "execution_count": null,
      "outputs": [
        {
          "output_type": "execute_result",
          "data": {
            "text/plain": [
              "(1, 20, 12, 12)"
            ]
          },
          "metadata": {},
          "execution_count": 73
        }
      ]
    },
    {
      "cell_type": "code",
      "source": [
        "plt.figure(figsize=(10,15))\n",
        "\n",
        "plt.subplot(121)\n",
        "plt.title(\"Input\")\n",
        "plt.imshow(input_image, 'gray')\n",
        "\n",
        "plt.subplot(122)\n",
        "plt.title('Output')\n",
        "plt.imshow(pool_arr[0,0,:,:], 'gray')\n",
        "plt.show()"
      ],
      "metadata": {
        "colab": {
          "base_uri": "https://localhost:8080/",
          "height": 318
        },
        "id": "x5NPc2ZG99cR",
        "outputId": "979b5c2c-9d69-4485-9e6b-bb969064cf2c"
      },
      "execution_count": null,
      "outputs": [
        {
          "output_type": "display_data",
          "data": {
            "text/plain": [
              "<Figure size 720x1080 with 2 Axes>"
            ],
            "image/png": "[encoded data removed]"
          },
          "metadata": {
            "needs_background": "light"
          }
        }
      ]
    },
    {
      "cell_type": "markdown",
      "source": [
        "### 선형 레이어(Linear Layers)\n",
        "1d만 가능하므로 .view()를 통해 1d로 펼쳐줘야함"
      ],
      "metadata": {
        "id": "u9ASoUv2_DTX"
      }
    },
    {
      "cell_type": "code",
      "source": [
        "flatten = input_image.view(1, 28*28) \n",
        "flatten.shape"
      ],
      "metadata": {
        "colab": {
          "base_uri": "https://localhost:8080/"
        },
        "id": "sCP2F_kz_L-H",
        "outputId": "d7fabcff-f56b-4ff7-f9c4-8a7e5d586ee4"
      },
      "execution_count": null,
      "outputs": [
        {
          "output_type": "execute_result",
          "data": {
            "text/plain": [
              "torch.Size([1, 784])"
            ]
          },
          "metadata": {},
          "execution_count": 77
        }
      ]
    },
    {
      "cell_type": "code",
      "source": [
        "lin = nn.Linear(784, 10)(flatten)\n",
        "lin.shape"
      ],
      "metadata": {
        "colab": {
          "base_uri": "https://localhost:8080/"
        },
        "id": "rqE3vzsh_Un3",
        "outputId": "31d83f1a-0a46-4353-b457-445beafcecc7"
      },
      "execution_count": null,
      "outputs": [
        {
          "output_type": "execute_result",
          "data": {
            "text/plain": [
              "torch.Size([1, 10])"
            ]
          },
          "metadata": {},
          "execution_count": 78
        }
      ]
    },
    {
      "cell_type": "code",
      "source": [
        "plt.imshow(lin.detach().numpy(), \"jet\")\n",
        "plt.colorbar()\n",
        "plt.show()"
      ],
      "metadata": {
        "colab": {
          "base_uri": "https://localhost:8080/",
          "height": 250
        },
        "id": "jrZBT5_C_cRK",
        "outputId": "04694d61-a5e2-4b83-f333-f2cab39fe3fe"
      },
      "execution_count": null,
      "outputs": [
        {
          "output_type": "display_data",
          "data": {
            "text/plain": [
              "<Figure size 432x288 with 2 Axes>"
            ],
            "image/png": "[encoded data removed]"
          },
          "metadata": {
            "needs_background": "light"
          }
        }
      ]
    },
    {
      "cell_type": "markdown",
      "source": [
        "### 비선형 활성화 (Non-linear Activations)"
      ],
      "metadata": {
        "id": "4suSdTLX_uE-"
      }
    },
    {
      "cell_type": "code",
      "source": [
        "with torch.no_grad():\n",
        "  flatten = input_image.view(1,28*28)\n",
        "  lin = nn.Linear(784, 10)(flatten)\n",
        "  softmax = f.softmax(lin, dim=1)\n",
        "softmax"
      ],
      "metadata": {
        "colab": {
          "base_uri": "https://localhost:8080/"
        },
        "id": "nHwatvhu_zYC",
        "outputId": "e466a605-e21a-45c9-855b-c3a1c27ac9cd"
      },
      "execution_count": null,
      "outputs": [
        {
          "output_type": "execute_result",
          "data": {
            "text/plain": [
              "tensor([[0.0749, 0.0833, 0.0551, 0.1519, 0.0695, 0.0991, 0.1514, 0.0858, 0.1300,\n",
              "         0.0990]])"
            ]
          },
          "metadata": {},
          "execution_count": 80
        }
      ]
    },
    {
      "cell_type": "code",
      "source": [
        "np.sum(softmax.numpy())"
      ],
      "metadata": {
        "colab": {
          "base_uri": "https://localhost:8080/"
        },
        "id": "a78g8zvMAeUU",
        "outputId": "5d5e0d63-e514-404e-e47d-df6aa9351298"
      },
      "execution_count": null,
      "outputs": [
        {
          "output_type": "execute_result",
          "data": {
            "text/plain": [
              "1.0000001"
            ]
          },
          "metadata": {},
          "execution_count": 81
        }
      ]
    },
    {
      "cell_type": "code",
      "source": [
        "inputs = torch.randn(4,3,28,28) # 28x28 컬러사진이 4개\n",
        "inputs.shape"
      ],
      "metadata": {
        "colab": {
          "base_uri": "https://localhost:8080/"
        },
        "id": "vvonB32bAkHx",
        "outputId": "cded41e2-7faf-4d05-8f0b-591b3af8c910"
      },
      "execution_count": null,
      "outputs": [
        {
          "output_type": "execute_result",
          "data": {
            "text/plain": [
              "torch.Size([4, 3, 28, 28])"
            ]
          },
          "metadata": {},
          "execution_count": 83
        }
      ]
    },
    {
      "cell_type": "code",
      "source": [
        "layer = nn.Conv2d(3,20,5,1)\n",
        "output = f.relu(layer(inputs))\n",
        "print(output.shape)"
      ],
      "metadata": {
        "colab": {
          "base_uri": "https://localhost:8080/"
        },
        "id": "LCLeC858A956",
        "outputId": "a72d2dfb-c7e5-44b6-c9c9-0ed37644c6dc"
      },
      "execution_count": null,
      "outputs": [
        {
          "output_type": "stream",
          "name": "stdout",
          "text": [
            "torch.Size([4, 20, 24, 24])\n"
          ]
        }
      ]
    },
    {
      "cell_type": "markdown",
      "source": [
        "### 모델 정의"
      ],
      "metadata": {
        "id": "XR3_AjRlBKzp"
      }
    },
    {
      "cell_type": "markdown",
      "source": [
        "nn.Module 상속 클래스 정의\n",
        "- nn.Module을 상속받는 클래스 정의\n",
        "- \\__init__() : 모델에서 사용될 모듈과 활성화 함수 등을 정의\n",
        "- forward() : 모델에서 실행되어야 하는 연산을 정의"
      ],
      "metadata": {
        "id": "grvdsMfUBN4K"
      }
    },
    {
      "cell_type": "code",
      "source": [],
      "metadata": {
        "id": "zn337o4oBM8W"
      },
      "execution_count": null,
      "outputs": []
    },
    {
      "cell_type": "code",
      "source": [],
      "metadata": {
        "id": "itEcK1NRBdKa"
      },
      "execution_count": null,
      "outputs": []
    }
  ]
}